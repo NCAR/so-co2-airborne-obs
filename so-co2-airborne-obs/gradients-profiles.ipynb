{
 "cells": [
  {
   "cell_type": "markdown",
   "id": "bb60fd32-7e64-4d61-89a6-b1003b022fe4",
   "metadata": {},
   "source": [
    "# Aircraft atmospheric CO<sub>2</sub> profiles"
   ]
  },
  {
   "cell_type": "code",
   "execution_count": 1,
   "id": "f5fd118a-b478-48db-b740-674cfba48f0c",
   "metadata": {},
   "outputs": [],
   "source": [
    "%load_ext autoreload\n",
    "%autoreload 2"
   ]
  },
  {
   "cell_type": "code",
   "execution_count": 2,
   "id": "967f01bf-1a57-4525-a8f6-0e49724a5321",
   "metadata": {},
   "outputs": [],
   "source": [
    "import numpy as np\n",
    "import matplotlib.pyplot as plt\n",
    "import matplotlib.gridspec as gridspec\n",
    "\n",
    "import datasets\n",
    "import emergent_constraint as ec\n",
    "import figure_panels\n",
    "import util"
   ]
  },
  {
   "cell_type": "markdown",
   "id": "ec24c186-98b5-4670-ab92-f449f2ccc93e",
   "metadata": {},
   "source": [
    "## Identify models"
   ]
  },
  {
   "cell_type": "code",
   "execution_count": 3,
   "id": "a22759f9-e19d-45fb-a9b7-c37acd280022",
   "metadata": {},
   "outputs": [
    {
     "data": {
      "text/plain": [
       "['CT2017',\n",
       " 'CT2019B',\n",
       " 'CTE2018',\n",
       " 'CTE2020',\n",
       " 'MIROC',\n",
       " 'CAMSv20r1',\n",
       " 's99oc_v2020',\n",
       " 's99oc_ADJocI40S_v2020',\n",
       " 's99oc_SOCCOM_v2020']"
      ]
     },
     "execution_count": 3,
     "metadata": {},
     "output_type": "execute_result"
    }
   ],
   "source": [
    "model_input_lists = ec.get_model_tracer_lists('ocean_constraint')\n",
    "model_list_profile_comparison = []\n",
    "for m, t in model_input_lists['model_tracer_list']:\n",
    "    if not any(s in m for s in ['TM5', 'CESM', 'prior']) and m not in model_list_profile_comparison:\n",
    "        model_list_profile_comparison.append(m)\n",
    "model_list_profile_comparison"
   ]
  },
  {
   "cell_type": "markdown",
   "id": "74ef1246-9b7a-4515-8858-55a5b6cba324",
   "metadata": {},
   "source": [
    "## Compute profiles"
   ]
  },
  {
   "cell_type": "code",
   "execution_count": 4,
   "id": "03870037-32ec-4910-b4a8-4dd1e0142e9e",
   "metadata": {},
   "outputs": [],
   "source": [
    "%%time\n",
    "dsets_seas = {}\n",
    "coord = 'theta'\n",
    "seasonal_groups = ['DJF', 'MAM', 'JJA', 'SON']\n",
    "for model in ['obs'] + model_list_profile_comparison:\n",
    "    tracers = ['CO2'] if model == 'obs' else ['CO2', 'CO2_LND', 'CO2_FFF']\n",
    "    for tracer in tracers:\n",
    "        key = f'{model}-{coord}-{tracer}'\n",
    "        dsets_seas[key] = datasets.aircraft_profiles_seasonal(\n",
    "            source=model,\n",
    "            tracer=tracer,\n",
    "            seasonal_groups=seasonal_groups,\n",
    "            clobber=False,\n",
    "        )\n",
    "dsets_seas['obs-theta-CO2']           "
   ]
  },
  {
   "cell_type": "markdown",
   "id": "ea73fab2-b9be-4884-a539-4be9a589ecbb",
   "metadata": {},
   "source": [
    "## Visualize profiles"
   ]
  },
  {
   "cell_type": "code",
   "execution_count": null,
   "id": "2cc0c11a-bab4-4449-9c8b-1f4b48a62e89",
   "metadata": {},
   "outputs": [],
   "source": [
    "field = 'co2'\n",
    "slope = 0.036\n",
    "\n",
    "ds_obs = dsets_seas['obs-theta-CO2']\n",
    "theta = ds_obs.theta\n",
    "seasons = ds_obs.season.values\n",
    "\n",
    "colors = figure_panels.palette_colors\n",
    "\n",
    "fig, axs = util.canvas(2, len(seasonal_groups), figsize=(4, 6), use_gridspec=True, wspace=0.1)\n",
    "marker_spec = figure_panels.marker_spec_models()\n",
    "\n",
    "xlm = []\n",
    "for row in range(2):\n",
    "    for n, season in enumerate(seasonal_groups):\n",
    "        i, j = np.unravel_index(n+row*len(seasonal_groups), axs.shape)\n",
    "\n",
    "        ax = axs[i, j]\n",
    "        dsi = ds_obs.sel(season=season)\n",
    "        \n",
    "        color = 'k' if i == 0 else 'dimgray'\n",
    "        alpha = 1 if i == 0 else 0.25\n",
    "        \n",
    "        x, xerr = np.array(dsi[f'{field}_med'].values), np.array(dsi[f'{field}_med_std'].values)\n",
    "        ax.errorbar(x, theta, xerr=xerr, \n",
    "                    c=color, \n",
    "                    marker='.', \n",
    "                    label='CO$_2$ Observations',\n",
    "                    alpha=alpha,\n",
    "                    lw=2, \n",
    "                    markersize=10, \n",
    "                    zorder=-100)\n",
    "\n",
    "        if i == 1:\n",
    "            xo, xoerr = np.array(dsi[f'ch4_med'].values) * slope, np.array(dsi[f'ch4_med_std'].values) * slope   \n",
    "            ax.errorbar(xo, theta, xerr=xoerr, c='k', marker='X', \n",
    "                        label='CH$_4$ observations (scaled)',\n",
    "                        lw=2, markersize=8, zorder=-100)\n",
    "\n",
    "        xavg = np.zeros((len(theta),))\n",
    "        nmodel = 0\n",
    "        for m in model_list_profile_comparison:\n",
    "            if i == 0:\n",
    "                key = f'{m}-theta-CO2'\n",
    "                dsi = dsets_seas[key].sel(season=season)\n",
    "                x, xerr = np.array(dsi[f'{field}_med'].values), np.array(dsi[f'{field}_med_std'].values)\n",
    "\n",
    "            else:\n",
    "                key = f'{m}-theta-CO2_LND'\n",
    "                if key not in dsets_seas:\n",
    "                    continue\n",
    "                dsi = dsets_seas[key].sel(season=season)\n",
    "                x, xerr = np.array(dsi[f'{field}_med'].values), np.array(dsi[f'{field}_med_std'].values)\n",
    "\n",
    "                key = f'{m}-theta-CO2_FFF'\n",
    "                dsi = dsets_seas[key].sel(season=season)\n",
    "                x2, xerr2 = np.array(dsi[f'{field}_med'].values), np.array(dsi[f'{field}_med_std'].values)\n",
    "    \n",
    "                x += x2\n",
    "        \n",
    "            zorder = 100 if 'SOCCOM' in m else None                \n",
    "            alpha = 1. if 'SOCCOM' in m else 0.5                            \n",
    "            ax.plot(x, theta, lw=2, alpha=alpha, zorder=zorder, **marker_spec[m]['CO2'])\n",
    "\n",
    "        ax.axvline(0., lw=0.5, c='k')\n",
    "        if i == 0:\n",
    "            ax.set_title(season, fontweight='bold', y=1.02)\n",
    "            #ax.set_title('Obs and models: Total CO$_2$')\n",
    "            ax.set_xlabel(f'$\\Delta$CO$_2$ [ppm]')\n",
    "        else:\n",
    "            ax.set_xlabel(f'$\\Delta$CO$_2$ or $\\Delta$CH$_4 \\\\times {slope:0.3f}$ [ppm]')\n",
    "            #ax.set_title('Obs CH$_4$ & Models LND+FF CO$_2$')\n",
    "        #ax.set_xlim(xlm)\n",
    "        if j > 0:\n",
    "            ax.set_yticklabels([])\n",
    "        else:\n",
    "            ax.set_ylabel('$\\\\theta$ [K]')\n",
    "        if i == 0:\n",
    "            xlm.append(ax.get_xlim())\n",
    "        else:\n",
    "            ax.set_xlim(xlm[j])\n",
    "h0, l0 = axs[0, 0].get_legend_handles_labels()\n",
    "h1, l1 = axs[-1, -1].get_legend_handles_labels()\n",
    "h = h0 + h1\n",
    "l = l0 + l1\n",
    "_, I = np.unique(l, return_index=True)\n",
    "I.sort()\n",
    "h = [h[i] for i in I]\n",
    "l = [l[i] for i in I]\n",
    "axs[-1, -1].legend(h[::-1], l[::-1], loc=(-2.5, -0.4), ncol=3, frameon=False);\n",
    "\n",
    "util.subplot_row_labels(axs[:, 0], ['Obs & Models Total CO$_2$', 'Obs CH$_4$ & Models Land+Fossil CO$_2$'])\n",
    "\n",
    "util.label_plots(fig, [ax for ax in axs.ravel()], xoff=0.0)\n",
    "\n",
    "util.savefig(f'profiles-bottomrow-fff+lnd.pdf')"
   ]
  }
 ],
 "metadata": {
  "kernelspec": {
   "display_name": "Python [conda env:miniconda3-so-co2]",
   "language": "python",
   "name": "python3"
  },
  "language_info": {
   "codemirror_mode": {
    "name": "ipython",
    "version": 3
   },
   "file_extension": ".py",
   "mimetype": "text/x-python",
   "name": "python",
   "nbconvert_exporter": "python",
   "pygments_lexer": "ipython3",
   "version": "3.7.11"
  }
 },
 "nbformat": 4,
 "nbformat_minor": 5
}

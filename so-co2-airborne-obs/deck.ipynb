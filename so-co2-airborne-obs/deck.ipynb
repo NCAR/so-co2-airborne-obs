{
 "cells": [
  {
   "cell_type": "markdown",
   "metadata": {
    "slideshow": {
     "slide_type": "slide"
    }
   },
   "source": [
    "# Strong Southern Ocean Carbon Uptake Evident in Airborne Observations\n",
    "\n",
    "Matthew C. Long, Britton B. Stephens, Kathryn McKain, Colm Sweeney, Ralph F. Keeling, Eric A. Kort, Eric J. Morgan, Jonathan D. Bent, Naveen Chandra, Frederic Chevallier, Róisín Commane, Bruce C. Daube, Paul B. Krummel, Zoë Loh, Ingrid T. Luijkx, David Munro, Prabir Patra, Wouter Peters, Michel Ramonet, Christian Rödenbeck, Ann Stavert, Pieter Tans, Steven C. Wofsy"
   ]
  },
  {
   "cell_type": "markdown",
   "metadata": {
    "slideshow": {
     "slide_type": "notes"
    }
   },
   "source": [
    "## Summary\n",
    "\n",
    "The Southern Ocean plays an important role in determining atmospheric CO<sub>2</sub>, yet estimates of air-sea CO<sub>2</sub> flux for the region diverge widely.\n",
    "Here we present an analysis in which we estimate Southern Ocean air-sea CO<sub>2</sub> fluxes using aircraft observations of atmospheric CO<sub>2</sub>.\n",
    "Using a collection of transport models, we \"calibrate\" a relationship between the flux and the lower-troposphere vertical CO<sub>2</sub> gradient over the Southern Ocean.\n",
    "Using data from aircraft campaigns conducted over 2009–2018, we find a Southern Ocean flux of –0.55±0.23 Pg C yr<sup>–1</sup> (net uptake) south of 45°S.\n",
    "We also examine the use of surface-based atmospheric CO<sub>2</sub> measurements.\n",
    "The horizontal gradients captured by these observations do not provide as robust constraints on the fluxes as the vertical gradients accessible from aircraft.\n",
    "However, the inferences from surface observations are consistent with the aircraft-based flux estimates, and suggest a trend of increasing Southern Ocean uptake since 2005."
   ]
  },
  {
   "cell_type": "markdown",
   "metadata": {
    "slideshow": {
     "slide_type": "notes"
    }
   },
   "source": [
    "## Structure of variability in atmospheric carbon dioxide\n",
    "\n",
    "We examine the structure of atmospheric CO<sub>2</sub> variability over the Southern Ocean, demonstrating surface drawdown in the lower troposphere during summer and relatively homogenous distributions during winter.\n",
    "The figure below shows these patterns for two selected airborne transects and a collection of surface monitoring stations.\n",
    "The code to produce this figure is [here](./obs-main.ipynb)."
   ]
  },
  {
   "cell_type": "markdown",
   "metadata": {
    "slideshow": {
     "slide_type": "slide"
    }
   },
   "source": [
    "![](figures/Fig-1-co2-aircraft-surface-obs.png)"
   ]
  },
  {
   "cell_type": "markdown",
   "metadata": {
    "slideshow": {
     "slide_type": "notes"
    }
   },
   "source": [
    "**Observed patterns in atmospheric CO<sub>2</sub> over the Southern Ocean.** Observed patterns in atmospheric CO<sub>2</sub> over the Southern Ocean. Upper panels: Cross-sections observed by aircraft during (A) ORCAS, Jan–Feb 2016 and (B) ATom-1, Aug 2016. Colors show the observed CO<sub>2</sub> dry air mole fraction relative to the average observed within the 295–305 K potential temperature range south of 45°S on each campaign; contour lines show the observed potential temperature.\n",
    "Fight-tracks and cross-section plots for all campaigns are shown [here](obs-aircraft.ipynb) and [this notebook](obs-simulated-distributions.ipynb) illustrates the distributions of CO<sub>2</sub> simulated by a 3-D transport model.\n",
    "Lower panels: Compilation of mean CO<sub>2</sub> observed at surface monitoring stations minus the NOAA in situ record at the South Pole Observatory (SPO) over 1999–2019 for (C) summer (DJF) and (D) winter (JJA). \n",
    "The black line is a spline fit provided simply as a visual guide. Blue shading denotes the latitude band in which we designate “Southern Ocean stations.” Station locations and temporal coverage are shown [here](obs-surface.ipynb)."
   ]
  },
  {
   "cell_type": "markdown",
   "metadata": {
    "slideshow": {
     "slide_type": "notes"
    }
   },
   "source": [
    "## Aircraft obsevations\n",
    "We use observations from nine deployments of three recent aircraft projects: the HIAPER Pole-to-Pole Observations (HIPPO) project {cite:p}`Wofsy2011-zm`; the O<sub>2</sub>/N<sub>2</sub> Ratio and CO<sub>2</sub> Airborne Southern Ocean (ORCAS) study {cite:p}`Stephens2018-be`; and the Atmospheric Tomography (ATom) mission {cite:p}`Wofsy2018-oo`. "
   ]
  },
  {
   "cell_type": "markdown",
   "metadata": {
    "slideshow": {
     "slide_type": "slide"
    }
   },
   "source": [
    "### A decade of aircraft observations\n",
    "<img src=\"figures/Fig-S01-flight-tracks.png\">"
   ]
  },
  {
   "cell_type": "markdown",
   "metadata": {
    "slideshow": {
     "slide_type": "notes"
    }
   },
   "source": [
    "**Flight tracks for each of the aircraft campaigns used in this analysis.** Individual flights are plotted in different colors with the date ranges of the plotted flights included in the title; the campaigns are ordered by month. "
   ]
  },
  {
   "cell_type": "markdown",
   "metadata": {
    "slideshow": {
     "slide_type": "slide"
    }
   },
   "source": [
    "### Repeat observations of CO<sub>2</sub> cross-section\n",
    "<img src=\"figures/Fig-S02-aircraft-sections.png\">"
   ]
  },
  {
   "cell_type": "markdown",
   "metadata": {
    "slideshow": {
     "slide_type": "notes"
    }
   },
   "source": [
    "**Cross-sections of CO<sub>2</sub> (colors) and potential temperature (θ, contour lines) for each of the aircraft campaigns used in this study.** The panels are arranged by month with the dates of the survey included in the title. Each panel has its own colorbar centered on the average of CO<sub>2</sub> measured within 295 K < θ < 305 K, south of 45°S on each section; the colorbars all span 13.7 ppm. The ORCAS (top middle) and ATOM-1 (bottom left) cross-sections are similar to Figure 1 in the main text of the paper, where we show CO<sub>2</sub> with the mid-troposphere reference subtracted."
   ]
  },
  {
   "cell_type": "markdown",
   "metadata": {
    "slideshow": {
     "slide_type": "notes"
    }
   },
   "source": [
    "## Surface observations\n",
    "We also examined 44 atmospheric CO<sub>2</sub> records from surface monitoring stations in the high-latitude Southern Hemisphere, selecting and filtering the highest quality data. [This table](./table-s1.md) include information on the records we used."
   ]
  },
  {
   "cell_type": "markdown",
   "metadata": {
    "slideshow": {
     "slide_type": "slide"
    }
   },
   "source": [
    "### Long-term monitoring of surface CO<sub>2</sub>\n",
    "<img src=\"figures/Fig-S05-station-coverage.png\">"
   ]
  },
  {
   "cell_type": "markdown",
   "metadata": {
    "slideshow": {
     "slide_type": "notes"
    }
   },
   "source": [
    "## Models\n",
    "We leverage a collection of atmospheric inversions models that simulate time-varying, three-dimensional CO<sub>2</sub> fields sampled to replicate these observations.\n",
    "The atmospheric inversion models explicitly simulate CO<sub>2</sub> tracers responsive only to ocean $(\\ce{CO}_2^{ocn})$, land $(\\ce{CO}_2^{lnd})$ and fossil fuel $(\\ce{CO}_2^{ff})$ fluxes and subject to identical transport fields."
   ]
  },
  {
   "cell_type": "markdown",
   "metadata": {
    "slideshow": {
     "slide_type": "slide"
    }
   },
   "source": [
    "### Atmospheric inversion models\n",
    "\n",
    "| Model                      | Model Name                               | Grid<br>(lon x lat x lev) | Transport Model | Meteor-<br>ology | References                                  |\n",
    "| -------------------------- | ---------------------------------------- | ------------------------- | --------------- | ---------------- | ------------------------------------------- |\n",
    "| CT2017                     | NOAA CarbonTracker                       | 3 x 2° x 25              | TM5             | ERA-Interim      | Peters et al. (73)                          |\n",
    "| CT2019B                    | NOAA CarbonTracker                       | 3° x 2° x 25              | TM5             | ERA-Interim      | Jacobson et al. (72)                        |\n",
    "| CTE2018                    | CarbonTracker Europe                     | 3° x 2° x 25†               | TM5             | ERA-Interim      | van der Laan-Luijkx et al. (74)             |\n",
    "| CTE2020                    | CarbonTracker Europe                     | 3° x 2° x 25†               | TM5             | ERA5             | van der Laan-Luijkx et al. (74)             |\n",
    "| s99oc\\_v2020               | Jena CarboScope                          | 4° x 5° x 19                | TM3             | NCEP             | Rodenbeck et al. (75); Rödenbeck (76)       |\n",
    "| s99oc\\_ADJocI40S\\_v2020    | Jena CarboScope                          | 4° x 5° x 19                | TM3             | NCEP             | Rodenbeck et al. (75); Rödenbeck (76)       |\n",
    "| s99oc\\_SOCAT+SOCCOM\\_v2020 | Jena CarboScope                          | 4° x 5° x 19                | TM3             | NCEP             | Rodenbeck et al. (75); Rödenbeck (76)       |\n",
    "| CAMS(v20r1)                | Copernicus Atmosphere Monitoring Service | 3.75° x 1.875° x 39         | LMDZ6A          | ERA5             | Chevallier et al. (77, 78); Chevallier (79) |\n",
    "| MIROC4-ACTM-2020           | MIROC4-ACTM                              | 2.8° x 2.8° x 67          | MIROC4-ACTM     | JRA-55           | Patra et al. (80); Saeki and Patra (81)     |\n",
    "| TM5+Flux                   | Transport Model 5                        | 3° x 2° x 25              | TM5             | ERA-Interim      | Landschützer et al. (27) "
   ]
  },
  {
   "cell_type": "markdown",
   "metadata": {
    "slideshow": {
     "slide_type": "slide"
    }
   },
   "source": [
    "### Simulated surface distributions\n",
    "<img src=\"figures/Fig-S04-surface-co2-maps.png\">"
   ]
  },
  {
   "cell_type": "markdown",
   "metadata": {
    "slideshow": {
     "slide_type": "slide"
    }
   },
   "source": [
    "### Simulated zonal cross-section\n",
    "<img src=\"figures/Fig-S03-zonal-mean-sections-CT2019B.png\" width=\"60%\">"
   ]
  },
  {
   "cell_type": "markdown",
   "metadata": {
    "slideshow": {
     "slide_type": "notes"
    }
   },
   "source": [
    "##  Gradient metrics to isolate ocean influence\n",
    "\n",
    "To isolate CO<sub>2</sub> gradients driven by Southern Ocean fluxes, we examine CO<sub>2</sub> anomalies relative to a local reference, using potential temperature ($\\theta$) to delineate boundaries in the vertical.\n",
    "\n",
    "The figure below shows the seasonal evolution of CO<sub>2</sub> in the column as reconstructed from the aircraft observations. The code to produce this figure is [here](./gradients-seasonal-amplitude.ipynb)."
   ]
  },
  {
   "cell_type": "markdown",
   "metadata": {
    "slideshow": {
     "slide_type": "slide"
    }
   },
   "source": [
    "### Seasonal variation of CO<sub>2</sub> in the column\n",
    "<img src=\"figures/Fig-S07-seasonal-amplitude.png\">"
   ]
  },
  {
   "cell_type": "markdown",
   "metadata": {
    "slideshow": {
     "slide_type": "notes"
    }
   },
   "source": [
    "**Seasonal variation of CO<sub>2</sub> over the Southern Ocean from aircraft observations.** (A) The data were binned in 5 K potential temperature (θ) bins and a deseasonalized fit to CO<sub>2</sub> observations at the South Pole Observatory (SPO) was removed, enabling combining observations collected over several years in the presence of a strong increasing CO<sub>2</sub> trend. The plot shows a two-harmonic periodic function fit to data within each θ bin; the seasonal timing of the nine aircraft deployments is illustrated by vertical bars at the top of the plot. (B) The amplitude of seasonal variation in CO<sub>2</sub> in 5 K θ bins, derived from panel A. The gray vertical line highlights the minimum in seasonal amplitude, found at the bin centered on 300 K.\n",
    "\n",
    "## Gradient definitions\n",
    "\n",
    "To isolate CO<sub>2</sub> gradients driven by Southern Ocean fluxes, we examine CO<sub>2</sub> anomalies relative to a local reference, using potential temperature ($\\theta$) to delineate boundaries in the vertical."
   ]
  },
  {
   "cell_type": "markdown",
   "metadata": {
    "slideshow": {
     "slide_type": "slide"
    }
   },
   "source": [
    "### Defining gradient metrics\n",
    "\n",
    "#### ''Vertical'' gradient metric \n",
    "$\\begin{align}\n",
    "\\Delta_{\\theta}\\mathrm{CO}_2 = \n",
    "\\left<\\mathrm{CO}_2\\right>_{\\theta<280\\mathrm{K}} - \n",
    "\\left<\\mathrm{CO}_2\\right>_{295\\mathrm{K}<\\theta<305\\mathrm{K}}\n",
    "\\end{align}$\n",
    "\n",
    "where $\\left<\\cdot\\right>$ is the median value of $\\mathrm{CO}_2$ in the specified $\\theta$ (potential temperature) range.\n",
    "\n",
    "\n",
    "#### Horizontal gradient metric\n",
    "$\\begin{align}\n",
    "\\Delta_{y}\\mathrm{CO}_2 = \n",
    "\\left|\\mathrm{CO}_2\\right|_{\\mathrm{So Ocn}} - \n",
    "\\mathrm{CO}_2^{\\mathrm{SPO}}\n",
    "\\end{align}$\n",
    "\n",
    "where $\\left|\\mathrm{CO}_2\\right|_{\\mathrm{So Ocn}}$ is the mean across stations in the core latitudes of summertime $\\mathrm{CO}_2$-drawdown and $\\mathrm{CO}_2^{\\mathrm{SPO}}$ is the value at the South Pole Observatory (SPO)."
   ]
  },
  {
   "cell_type": "markdown",
   "metadata": {
    "slideshow": {
     "slide_type": "slide"
    }
   },
   "source": [
    "### Seasonal evolution of vertical structure\n",
    "![](figures/Fig-2-metrics-seasonal-cycle.png)"
   ]
  },
  {
   "cell_type": "markdown",
   "metadata": {
    "slideshow": {
     "slide_type": "subslide"
    }
   },
   "source": [
    "### Methane confirms vertical gradient captures ocean signal\n",
    "<img src=\"figures/Fig-S08-methane.png\">"
   ]
  },
  {
   "cell_type": "markdown",
   "metadata": {
    "slideshow": {
     "slide_type": "subslide"
    }
   },
   "source": [
    "### SF<sub>6</sub> indicates that horizontal gradient captures ocean signal\n",
    "<img src=\"figures/Fig-S09-SF6.png\">"
   ]
  },
  {
   "cell_type": "markdown",
   "metadata": {
    "slideshow": {
     "slide_type": "slide"
    }
   },
   "source": [
    "### Emergent constraints on air-sea CO<sub>2</sub> flux\n",
    "<img src=\"figures/Fig-3-emergent-constraint-ocean_constraint.png\" width=\"80%\">"
   ]
  },
  {
   "cell_type": "markdown",
   "metadata": {
    "slideshow": {
     "slide_type": "notes"
    }
   },
   "source": [
    "**Emergent constraints on air-sea fluxes south of 45°S.** Upper panels: 90-day-mean air-sea fluxes south of 45°S versus ∆θCO<sub>2</sub>ocn from model simulations (see SM) replicating aircraft observations collected during (A) Dec-Feb and (B) Mar-Nov. Colored vertical lines show an observed value of $\\Delta_{\\theta}\\ce{CO}_2$ (ORCAS during Jan in panel “A” and ATom-1 in panel “B”) corrected for land and fossil-fuel influence, with shading indicating both analytical uncertainty and model spread in the correction; colored points highlight the model samples from these particular campaigns, while gray points show data from other campaigns in the (A) Dec–Feb or (B) Mar–Nov timeframe. Figures S10 and S11 show similar plots for each individual aircraft campaign. Lower panels: Seasonal-mean surface fluxes versus ∆yCO<sub>2</sub>ocn computed from models for (C) summer (DJF) and (D) winter (JJA) over 1999–2019. Points correspond to individual models; whiskers denote the standard deviation of interannual variability. Light blue vertical lines show the observed ∆yCO<sub>2</sub> corrected for land and fossil fuel influence; shading shows analytical uncertainty and model spread in the correction (see SM; Fig. S12A, B show ∆yCO<sub>2</sub> time series). The sign convention for fluxes is positive upward. Diagonal lines, where significant, show the best-fit line to all data points shown: inset text shows an estimate of the slope with standard error (SM); goodness-of-fit statistics are also shown. Table S3 provides detailed information on the model products, defining the acronyms used in the legend. Note that the axis bounds differ by panel. See Figure S16 for a version of this plot based on total CO<sub>2</sub>."
   ]
  },
  {
   "cell_type": "markdown",
   "metadata": {
    "slideshow": {
     "slide_type": "slide"
    }
   },
   "source": [
    "### Observationally-based estimates of Southern Ocean air-sea fluxes \n",
    "<img src=\"figures/Fig-4-fluxes-ocean_constraint.png\" width=\"60%\">"
   ]
  },
  {
   "cell_type": "markdown",
   "metadata": {
    "slideshow": {
     "slide_type": "notes"
    }
   },
   "source": [
    "**Observationally-based estimates of Southern Ocean air-sea fluxes.** (A) The seasonal cycle of air-sea CO<sub>2</sub> flux south of 45°S estimated from aircraft campaigns (black points, labels), plotted at the center of the 90-day window for which the emergent flux constraint was calibrated; whiskers show the standard deviation derived from propagating analytical and statistical uncertainties; the black line shows a two-harmonic fit used to estimate the annual mean flux. The colored lines give the seasonal cycle from atmospheric inversion systems as well as the neural-network extrapolation {cite:p}`Landschutzer2016-wg` of the Surface Ocean CO<sub>2</sub> Atlas (“SOCAT”) pCO<sub>2</sub> observations {cite:p}`Bakker2016-tt` and profiling-float observations from the Southern Ocean Carbon and Climate Observations and Modeling (SOCCOM) project {cite:p}`Johnson2017-al`. Fluxes are averaged over 2009–2018, except for the three neural-network based flux estimates {cite:p}`Landschutzer2019-mr` incorporating SOCCOM observations, which are averaged over 2015–2017. (B) Annual mean flux estimated in this study (leftmost bar) including uncertainty (whisker), along with the mean and standard deviation (whiskers) across the inversion systems shown in panel “A” as well as the surface-ocean pCO<sub>2</sub>-based methods; averaging time-periods are noted in the axis labels (both SOCAT flux estimates were derived using neural-network training over the full observational period). The uncertainty estimate on the SOCAT and SOCCOM fluxes is approximated from {cite:t}`Bushinsky2019-ha`, who report ±0.15 Pg C yr<sup>-1</sup> as the “method uncertainty” associated with the neural-network-based flux estimates for the whole Southern Ocean (south of 44°S). Note that while s99oc_v2020 and s99c_SOCAT+SOCCOM_v2020 are global inversions, their ocean fluxes are prescribed, not optimized using atmospheric observations; similarly, the CAMS(v20r1) ocean fluxes remain close to its SOCAT pCO<sub>2</sub>-based prior."
   ]
  },
  {
   "cell_type": "code",
   "execution_count": null,
   "metadata": {},
   "outputs": [],
   "source": []
  }
 ],
 "metadata": {
  "kernelspec": {
   "display_name": "Python [conda env:miniconda3-so-co2]",
   "language": "python",
   "name": "conda-env-miniconda3-so-co2-py"
  },
  "language_info": {
   "codemirror_mode": {
    "name": "ipython",
    "version": 3
   },
   "file_extension": ".py",
   "mimetype": "text/x-python",
   "name": "python",
   "nbconvert_exporter": "python",
   "pygments_lexer": "ipython3",
   "version": "3.7.11"
  }
 },
 "nbformat": 4,
 "nbformat_minor": 4
}

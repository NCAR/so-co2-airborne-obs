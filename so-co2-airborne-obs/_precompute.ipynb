{
 "cells": [
  {
   "cell_type": "code",
   "execution_count": 1,
   "id": "7e27554e-7d5e-4b2f-a935-6822505505de",
   "metadata": {},
   "outputs": [],
   "source": [
    "%load_ext autoreload\n",
    "%autoreload 2"
   ]
  },
  {
   "cell_type": "code",
   "execution_count": 2,
   "id": "e704e5ce-1751-48a3-8147-d1415d07f266",
   "metadata": {},
   "outputs": [],
   "source": [
    "import numpy as np\n",
    "import models\n",
    "import emergent_constraint as ec"
   ]
  },
  {
   "cell_type": "code",
   "execution_count": 3,
   "id": "6e77710a-3260-4258-954b-2b91725d5e06",
   "metadata": {},
   "outputs": [
    {
     "data": {
      "text/plain": [
       "['CAMSv20r1',\n",
       " 'CT2017',\n",
       " 'CT2019B',\n",
       " 'CTE2018',\n",
       " 'CTE2020',\n",
       " 'MIROC',\n",
       " 'TM5-Flux-m0f',\n",
       " 'TM5-Flux-mmf',\n",
       " 'TM5-Flux-mrf',\n",
       " 'TM5-Flux-mwf',\n",
       " 's99oc_ADJocI40S_v2020',\n",
       " 's99oc_SOCCOM_v2020',\n",
       " 's99oc_v2020']"
      ]
     },
     "execution_count": 3,
     "metadata": {},
     "output_type": "execute_result"
    }
   ],
   "source": [
    "model_input_lists = []\n",
    "for c in ['ocean_constraint', 'total_constraint']:\n",
    "    for key in ['model_tracer_list',]: \n",
    "        model_input_lists.extend([t[0] for t in ec.get_model_tracer_lists(c)[key]])\n",
    "\n",
    "model_list = sorted(list(set(model_input_lists)))\n",
    "model_list"
   ]
  },
  {
   "cell_type": "code",
   "execution_count": 4,
   "id": "58c5f3f1-162d-475a-b6b6-7176174533b1",
   "metadata": {},
   "outputs": [
    {
     "name": "stderr",
     "output_type": "stream",
     "text": [
      "/glade/work/mclong/miniconda3/envs/so-co2/lib/python3.7/site-packages/distributed/node.py:161: UserWarning: Port 8787 is already in use.\n",
      "Perhaps you already have a cluster running?\n",
      "Hosting the HTTP server on port 34508 instead\n",
      "  f\"Port {expected} is already in use.\\n\"\n"
     ]
    },
    {
     "data": {
      "application/vnd.jupyter.widget-view+json": {
       "model_id": "1439f70a68bc46b5958707656c199fdf",
       "version_major": 2,
       "version_minor": 0
      },
      "text/plain": [
       "Tab(children=(HTML(value='<div class=\"jp-RenderedHTMLCommon jp-RenderedHTML jp-mod-trusted jp-OutputArea-outpu…"
      ]
     },
     "metadata": {},
     "output_type": "display_data"
    }
   ],
   "source": [
    "from ncar_jobqueue import NCARCluster\n",
    "try:\n",
    "    cluster\n",
    "except:\n",
    "    cluster = NCARCluster(memory='100GB')\n",
    "    cluster.scale(32)\n",
    "cluster"
   ]
  },
  {
   "cell_type": "code",
   "execution_count": 5,
   "id": "9a46ebf6-a791-4d21-9daa-9c1a23cc3c9c",
   "metadata": {
    "tags": []
   },
   "outputs": [
    {
     "data": {
      "text/html": [
       "<div>\n",
       "    <div style=\"width: 24px; height: 24px; background-color: #e1e1e1; border: 3px solid #9D9D9D; border-radius: 5px; position: absolute;\"> </div>\n",
       "    <div style=\"margin-left: 48px;\">\n",
       "        <h3 style=\"margin-bottom: 0px;\">Client</h3>\n",
       "        <p style=\"color: #9D9D9D; margin-bottom: 0px;\">Client-ea1e6148-0b6d-11ec-bca6-3cecef1acb68</p>\n",
       "        <table style=\"width: 100%; text-align: left;\">\n",
       "\n",
       "        <tr>\n",
       "        \n",
       "            <td style=\"text-align: left;\"><strong>Connection method:</strong> Cluster object</td>\n",
       "            <td style=\"text-align: left;\"><strong>Cluster type:</strong> dask_jobqueue.PBSCluster</td>\n",
       "        \n",
       "        </tr>\n",
       "\n",
       "        \n",
       "            <tr>\n",
       "                <td style=\"text-align: left;\">\n",
       "                    <strong>Dashboard: </strong> <a href=\"https://jupyterhub.hpc.ucar.edu/stable/user/mclong/proxy/34508/status\" target=\"_blank\">https://jupyterhub.hpc.ucar.edu/stable/user/mclong/proxy/34508/status</a>\n",
       "                </td>\n",
       "                <td style=\"text-align: left;\"></td>\n",
       "            </tr>\n",
       "        \n",
       "\n",
       "        </table>\n",
       "\n",
       "        \n",
       "            <details>\n",
       "            <summary style=\"margin-bottom: 20px;\"><h3 style=\"display: inline;\">Cluster Info</h3></summary>\n",
       "            <div class=\"jp-RenderedHTMLCommon jp-RenderedHTML jp-mod-trusted jp-OutputArea-output\">\n",
       "    <div style=\"width: 24px; height: 24px; background-color: #e1e1e1; border: 3px solid #9D9D9D; border-radius: 5px; position: absolute;\">\n",
       "    </div>\n",
       "    <div style=\"margin-left: 48px;\">\n",
       "        <h3 style=\"margin-bottom: 0px; margin-top: 0px;\">PBSCluster</h3>\n",
       "        <p style=\"color: #9D9D9D; margin-bottom: 0px;\">5718744a</p>\n",
       "        <table style=\"width: 100%; text-align: left;\">\n",
       "            <tr>\n",
       "                <td style=\"text-align: left;\">\n",
       "                    <strong>Dashboard:</strong> <a href=\"https://jupyterhub.hpc.ucar.edu/stable/user/mclong/proxy/34508/status\" target=\"_blank\">https://jupyterhub.hpc.ucar.edu/stable/user/mclong/proxy/34508/status</a>\n",
       "                </td>\n",
       "                <td style=\"text-align: left;\">\n",
       "                    <strong>Workers:</strong> 0\n",
       "                </td>\n",
       "            </tr>\n",
       "            <tr>\n",
       "                <td style=\"text-align: left;\">\n",
       "                    <strong>Total threads:</strong> 0\n",
       "                </td>\n",
       "                <td style=\"text-align: left;\">\n",
       "                    <strong>Total memory:</strong> 0 B\n",
       "                </td>\n",
       "            </tr>\n",
       "            \n",
       "        </table>\n",
       "\n",
       "        <details>\n",
       "            <summary style=\"margin-bottom: 20px;\">\n",
       "                <h3 style=\"display: inline;\">Scheduler Info</h3>\n",
       "            </summary>\n",
       "\n",
       "            <div style=\"\">\n",
       "    <div>\n",
       "        <div style=\"width: 24px; height: 24px; background-color: #FFF7E5; border: 3px solid #FF6132; border-radius: 5px; position: absolute;\"> </div>\n",
       "        <div style=\"margin-left: 48px;\">\n",
       "            <h3 style=\"margin-bottom: 0px;\">Scheduler</h3>\n",
       "            <p style=\"color: #9D9D9D; margin-bottom: 0px;\">Scheduler-5cb6d7bd-b13e-48ae-806b-de300d9f04f0</p>\n",
       "            <table style=\"width: 100%; text-align: left;\">\n",
       "                <tr>\n",
       "                    <td style=\"text-align: left;\">\n",
       "                        <strong>Comm:</strong> tcp://10.12.206.46:38888\n",
       "                    </td>\n",
       "                    <td style=\"text-align: left;\">\n",
       "                        <strong>Workers:</strong> 0\n",
       "                    </td>\n",
       "                </tr>\n",
       "                <tr>\n",
       "                    <td style=\"text-align: left;\">\n",
       "                        <strong>Dashboard:</strong> <a href=\"https://jupyterhub.hpc.ucar.edu/stable/user/mclong/proxy/34508/status\" target=\"_blank\">https://jupyterhub.hpc.ucar.edu/stable/user/mclong/proxy/34508/status</a>\n",
       "                    </td>\n",
       "                    <td style=\"text-align: left;\">\n",
       "                        <strong>Total threads:</strong> 0\n",
       "                    </td>\n",
       "                </tr>\n",
       "                <tr>\n",
       "                    <td style=\"text-align: left;\">\n",
       "                        <strong>Started:</strong> Just now\n",
       "                    </td>\n",
       "                    <td style=\"text-align: left;\">\n",
       "                        <strong>Total memory:</strong> 0 B\n",
       "                    </td>\n",
       "                </tr>\n",
       "            </table>\n",
       "        </div>\n",
       "    </div>\n",
       "\n",
       "    <details style=\"margin-left: 48px;\">\n",
       "        <summary style=\"margin-bottom: 20px;\">\n",
       "            <h3 style=\"display: inline;\">Workers</h3>\n",
       "        </summary>\n",
       "\n",
       "        \n",
       "\n",
       "    </details>\n",
       "</div>\n",
       "\n",
       "        </details>\n",
       "    </div>\n",
       "</div>\n",
       "            </details>\n",
       "        \n",
       "\n",
       "    </div>\n",
       "</div>"
      ],
      "text/plain": [
       "<Client: 'tcp://10.12.206.46:38888' processes=0 threads=0, memory=0 B>"
      ]
     },
     "execution_count": 5,
     "metadata": {},
     "output_type": "execute_result"
    }
   ],
   "source": [
    "from dask.distributed import Client\n",
    "try: \n",
    "    client\n",
    "except: \n",
    "    client = Client(cluster) # Connect this local process to remote workers\n",
    "client"
   ]
  },
  {
   "cell_type": "code",
   "execution_count": 6,
   "id": "3297eb70-6dc2-44bb-9924-b3343abb4770",
   "metadata": {},
   "outputs": [
    {
     "data": {
      "text/plain": [
       "{'CAMSv20r1': <models.core.Model at 0x2b41103c4cd0>,\n",
       " 'CT2017': <models.core.Model at 0x2b41103c4e50>,\n",
       " 'CT2019B': <models.core.Model at 0x2b41103c4310>,\n",
       " 'CTE2018': <models.core.Model at 0x2b41103c4e10>,\n",
       " 'CTE2020': <models.core.Model at 0x2b41103c4e90>,\n",
       " 'MIROC': <models.core.Model at 0x2b41103c4c50>,\n",
       " 'TM5-Flux-m0f': <models.core.Model at 0x2b41103c4b90>,\n",
       " 'TM5-Flux-mmf': <models.core.Model at 0x2b41103c43d0>,\n",
       " 'TM5-Flux-mrf': <models.core.Model at 0x2b41103c4050>,\n",
       " 'TM5-Flux-mwf': <models.core.Model at 0x2b41103c46d0>,\n",
       " 's99oc_ADJocI40S_v2020': <models.core.Model at 0x2b41103c45d0>,\n",
       " 's99oc_SOCCOM_v2020': <models.core.Model at 0x2b41103c4810>,\n",
       " 's99oc_v2020': <models.core.Model at 0x2b41103c4d50>}"
      ]
     },
     "execution_count": 6,
     "metadata": {},
     "output_type": "execute_result"
    }
   ],
   "source": [
    "model_objs = {}\n",
    "for name in model_list:\n",
    "    model_objs[name] = models.Model(name)\n",
    "model_objs    "
   ]
  },
  {
   "cell_type": "code",
   "execution_count": 7,
   "id": "bb4d75fe-99fa-41d8-8d94-57ea67bd5c77",
   "metadata": {},
   "outputs": [],
   "source": [
    "lat_ranges = [\n",
    "    (-90., -30.), (-90., -35.), (-90., -40), (-90., -45.), (-90., -50.), (-90., -55.), \n",
    "\n",
    "]\n",
    "lat_ranges = [(-90., x) for x in np.arange(-75., -14., 1)] + [(-45., -15.), (-45., -30.)]"
   ]
  },
  {
   "cell_type": "code",
   "execution_count": 8,
   "id": "4ba7d44f-8a32-4b3c-a0e8-bb777f022912",
   "metadata": {},
   "outputs": [
    {
     "name": "stdout",
     "output_type": "stream",
     "text": [
      "CAMSv20r1\n",
      "CT2017\n",
      "CT2019B\n",
      "CTE2018\n",
      "CTE2020\n",
      "MIROC\n",
      "TM5-Flux-m0f\n",
      "TM5-Flux-mmf\n",
      "TM5-Flux-mrf\n",
      "TM5-Flux-mwf\n",
      "s99oc_ADJocI40S_v2020\n",
      "s99oc_SOCCOM_v2020\n",
      "s99oc_v2020\n",
      "CPU times: user 48.8 ms, sys: 3.72 ms, total: 52.5 ms\n",
      "Wall time: 52.4 ms\n"
     ]
    }
   ],
   "source": [
    "%%time\n",
    "dsets = {}\n",
    "for name in model_list:\n",
    "    print(name)    \n",
    "    for lat_range in lat_ranges:\n",
    "        dsets[name] = model_objs[name].open_derived_dataset(\n",
    "                    'flux_ts_monthly', \n",
    "                    lat_range=lat_range,\n",
    "                    persist=True,\n",
    "                    clobber=False,\n",
    "                    return_none=True,\n",
    "                )"
   ]
  },
  {
   "cell_type": "code",
   "execution_count": 9,
   "id": "2123dcf3-7fea-4aae-a5d9-a099e15b19b5",
   "metadata": {},
   "outputs": [
    {
     "name": "stdout",
     "output_type": "stream",
     "text": [
      "CAMSv20r1\n",
      "CT2017\n",
      "CT2019B\n",
      "CTE2018\n",
      "CTE2020\n",
      "MIROC\n",
      "TM5-Flux-m0f\n",
      "TM5-Flux-mmf\n",
      "TM5-Flux-mrf\n",
      "TM5-Flux-mwf\n",
      "s99oc_ADJocI40S_v2020\n",
      "s99oc_SOCCOM_v2020\n",
      "s99oc_v2020\n",
      "CPU times: user 902 µs, sys: 0 ns, total: 902 µs\n",
      "Wall time: 907 µs\n"
     ]
    }
   ],
   "source": [
    "%%time\n",
    "dsets = {}\n",
    "for name in model_list:\n",
    "    print(name)    \n",
    "    dsets[name] = model_objs[name].open_derived_dataset(\n",
    "                'fluxes_za_ts_monthly', \n",
    "                persist=True,\n",
    "                clobber=False,\n",
    "                return_none=True,\n",
    "            )"
   ]
  },
  {
   "cell_type": "code",
   "execution_count": 11,
   "id": "c4d8992b-516f-4970-8561-3d8c850b6509",
   "metadata": {},
   "outputs": [
    {
     "name": "stdout",
     "output_type": "stream",
     "text": [
      "writing cache file: /glade/u/home/mclong/codes/so-co2-airborne-obs/so-co2-airborne-obs/models/data-cache/CT2019B/spo_ts_daily.nc\n"
     ]
    },
    {
     "name": "stderr",
     "output_type": "stream",
     "text": [
      "/glade/work/mclong/miniconda3/envs/so-co2/lib/python3.7/site-packages/xarray/conventions.py:449: UserWarning: Variable 'time' has datetime type and a bounds variable but time.encoding does not have units specified. The units encodings for 'time' and 'time_bnds' will be determined independently and may not be equal, counter to CF-conventions. If this is a concern, specify a units encoding for 'time' before writing to a file.\n",
      "  UserWarning,\n"
     ]
    }
   ],
   "source": [
    "for model in model_list:\n",
    "    if model in ['CT2019B']:\n",
    "        model_objs[model].open_derived_dataset(\n",
    "            'molefractions_surface_daily',\n",
    "            persist=True,\n",
    "            clobber=False,            \n",
    "            return_none=True,                    \n",
    "        )\n",
    "        model_objs[model].open_derived_dataset(\n",
    "            'spo_ts_daily',            \n",
    "            persist=True,\n",
    "            clobber=False,           \n",
    "            return_none=True,                    \n",
    "        )\n",
    "        model_objs[model].open_derived_dataset(\n",
    "            'molefractions_theta_bins',\n",
    "            kwargs_name='SO-10K-bins-300K_275K',\n",
    "            lat_bounds=(-80., -45.),\n",
    "            theta_bins=[(295., 305.), (270., 280.),],\n",
    "            persist=True,            \n",
    "            clobber=False,\n",
    "            return_none=True,        \n",
    "        )\n",
    "        model_objs[model].open_derived_dataset(\n",
    "            'molefractions_theta_bins_sectors',\n",
    "            kwargs_name='SO-10K-bins-300K_275K',\n",
    "            lat_bounds=(-80., -45.),\n",
    "            theta_bins=[(295., 305.), (270., 280.),],\n",
    "            persist=True,            \n",
    "            clobber=False,\n",
    "            return_none=True,  \n",
    "        )\n",
    "        continue\n",
    "        model_objs[name].open_derived_dataset(\n",
    "            'molefractions_z_za', \n",
    "            persist=True,\n",
    "            clobber=False,\n",
    "            return_none=True,                    \n",
    "        )"
   ]
  },
  {
   "cell_type": "code",
   "execution_count": null,
   "id": "25a16c60-0cd2-4d32-aedc-7c2f878ecda6",
   "metadata": {},
   "outputs": [],
   "source": []
  }
 ],
 "metadata": {
  "kernelspec": {
   "display_name": "Python [conda env:miniconda3-so-co2]",
   "language": "python",
   "name": "conda-env-miniconda3-so-co2-py"
  },
  "language_info": {
   "codemirror_mode": {
    "name": "ipython",
    "version": 3
   },
   "file_extension": ".py",
   "mimetype": "text/x-python",
   "name": "python",
   "nbconvert_exporter": "python",
   "pygments_lexer": "ipython3",
   "version": "3.7.11"
  }
 },
 "nbformat": 4,
 "nbformat_minor": 5
}

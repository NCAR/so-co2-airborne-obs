{
 "cells": [
  {
   "cell_type": "markdown",
   "id": "0c2b7f77-a9e5-4d31-91cf-a062a43ec104",
   "metadata": {},
   "source": [
    "# Process airborne Medusa merge files\n",
    "- R Program to read in HIPPO, ORCAS, and ATom MED merge files, massage time variables, add a strat flag, and subset,\n",
    "- then filter aircraft data for strong local continental influences, subtract off NOAA in situ SPO, and write out flat text files\n",
    "- have to run process_aircraft_10s.ipynb first"
   ]
  },
  {
   "cell_type": "code",
   "execution_count": 1,
   "id": "eafc6b9e-6045-4aab-8db6-250e4830c4b4",
   "metadata": {
    "tags": []
   },
   "outputs": [],
   "source": [
    "library('ncdf4')\n",
    "library('yaml')"
   ]
  },
  {
   "cell_type": "code",
   "execution_count": 2,
   "id": "cb9e96f5-86ec-40fd-adc1-0545683d24e7",
   "metadata": {
    "tags": []
   },
   "outputs": [],
   "source": [
    "project_tmpdir_obs = read_yaml('../_config_calc.yml')$project_tmpdir_obs\n",
    "username = Sys.info()['user']\n",
    "project_tmpdir_obs = gsub('\\\\{\\\\{env\\\\[\\'USER\\'\\\\]\\\\}\\\\}', username, project_tmpdir_obs)"
   ]
  },
  {
   "cell_type": "code",
   "execution_count": 3,
   "id": "76495f1e-8e00-42bb-9267-6daf03713566",
   "metadata": {},
   "outputs": [],
   "source": [
    "# specify aircraft data file names\n",
    "hippomergefile=paste(project_tmpdir_obs,'/aircraft-merge-products/HIPPO_medusa_flasks_merge_insitu_20121129.tbl',sep='') # this is the official HIPPO merge product\n",
    "atommergedir=paste(project_tmpdir_obs,'/aircraft-merge-products',sep='') # these are version 2.0 (21-08-26)\n",
    "atommergefiles=c('MER-MED_DC8_ATom-1.nc','MER-MED_DC8_ATom-2.nc','MER-MED_DC8_ATom-3.nc','MER-MED_DC8_ATom-4.nc')  # these files have problems (see below)\n",
    "orcasmergefile=paste(project_tmpdir_obs,'/aircraft-merge-products/ORCASall.mergeMED.tbl',sep='') # original release version"
   ]
  },
  {
   "cell_type": "code",
   "execution_count": 4,
   "id": "9e09915c-a84b-452f-b7c2-3051c138988f",
   "metadata": {},
   "outputs": [],
   "source": [
    "# set strat flag cutoffs for use below based upon Jin et al., 2021 (https://doi.org/10.5194/acp-21-217-2021)\n",
    "stratcoh2o=50\n",
    "stratcoo3=150\n",
    "stratcon2o=319"
   ]
  },
  {
   "cell_type": "code",
   "execution_count": 5,
   "id": "4a2c0daf-3be4-49e6-a7e4-a92cf73143eb",
   "metadata": {},
   "outputs": [],
   "source": [
    "# read in global N2O for detrending aircraft N2O\n",
    "glbn2ofile=url('ftp://aftp.cmdl.noaa.gov/products/trends/n2o/n2o_annmean_gl.txt')\n",
    "hlines=61\n",
    "glbn2o=read.table(glbn2ofile,skip=hlines,header=F,stringsAsFactors=F)\n",
    "colnames(glbn2o)=c('year','n2o','unc')"
   ]
  },
  {
   "cell_type": "code",
   "execution_count": 6,
   "id": "aaf70953-878e-4c1b-897b-a33c0f4488c8",
   "metadata": {},
   "outputs": [],
   "source": [
    "# for HIPPO, need to interpolate prof variable from 10-sec merge - load from process_aircraft_10s.ipynb output before reading MED data below\n",
    "load('HIPPO_10s.RData')\n",
    "hippomerge10s=hippomerge # 'hippomerge' reused below\n",
    "hippo10sdt=ISOdatetime(hippomerge$year,hippomerge$mon,hippomerge$day,hippomerge$hour,hippomerge$min,hippomerge$sec,tz='UTC')"
   ]
  },
  {
   "cell_type": "markdown",
   "id": "7206274b-dab7-4216-8fa9-cf412c167fe7",
   "metadata": {},
   "source": [
    "# read in HIPPO file, calc strat flag, and subset"
   ]
  },
  {
   "cell_type": "code",
   "execution_count": 7,
   "id": "4606993f-a3d1-4f08-8bc9-68a4e1dadb62",
   "metadata": {},
   "outputs": [],
   "source": [
    "# read and add time variables\n",
    "hippomerge=read.table(hippomergefile,header=T)\n",
    "hippodt=strptime(paste(hippomerge[,\"Year\"],hippomerge[,\"DOY\"]),format='%Y %j',tz='UTC')+hippomerge[,\"UTC\"] # DOY is day of year of takeoff; UTC is seconds since midnight on day of takeoff\n",
    "hippomerge$Month=as.POSIXlt(hippodt)$mon+1\n",
    "hippomerge$Day=as.POSIXlt(hippodt)$mday\n",
    "hippomerge$Hour=as.POSIXlt(hippodt)$hour\n",
    "hippomerge$Min=as.POSIXlt(hippodt)$min\n",
    "hippomerge$Sec=as.POSIXlt(hippodt)$sec"
   ]
  },
  {
   "cell_type": "code",
   "execution_count": 8,
   "id": "c63eda0d-e5ec-4c8a-88e7-ee7ac91990b4",
   "metadata": {},
   "outputs": [],
   "source": [
    "# filter in situ records for overlap\n",
    "hippomerge$CO2_QCLS[hippomerge$wt.qcls<0.5]=NA\n",
    "hippomerge$CO2_AO2[hippomerge$wt.ao2<0.5]=NA\n",
    "hippomerge$CO2_OMS[hippomerge$wt.oms<0.5]=NA"
   ]
  },
  {
   "cell_type": "code",
   "execution_count": 9,
   "id": "383d7a1f-f5c0-4760-b569-00d56d94a476",
   "metadata": {},
   "outputs": [],
   "source": [
    "# interpolate prof from 10 sec file\n",
    "hippomerge$prof=approx(as.POSIXct(hippo10sdt),hippomerge10s$prof,as.POSIXct(hippodt),method='constant',f=0)$y"
   ]
  },
  {
   "cell_type": "code",
   "execution_count": 10,
   "id": "dfff2dbc-10f7-454d-9eb6-23d87361d982",
   "metadata": {},
   "outputs": [],
   "source": [
    "# add strat flag\n",
    "hippomerge$strat=rep(0,nrow(hippomerge)) # 0 means trop\n",
    "h2oref=hippomerge$H2Oppmv_vxl; h2oref[is.na(h2oref)]=hippomerge$H2O_UWV[is.na(h2oref)]\n",
    "hippomerge$h2oref=h2oref # for output\n",
    "h2oref[is.na(h2oref)]=0 # if H2O missing treat as if potentially strat\n",
    "n2oref=hippomerge$N2O_QCLS \n",
    "n2oref=n2oref-(approx(glbn2o$year+0.5,glbn2o$n2o,hippomerge$Year+hippomerge$DOY/365)$y-glbn2o$n2o[glbn2o$year==2009])\n",
    "hippomerge$n2oref=n2oref # for output\n",
    "n2oref[is.na(n2oref)]=400 # if N2O missing do not use for filter\n",
    "o3ref=hippomerge$O3_ppb; o3ref[is.na(o3ref)]=hippomerge$O3_UO3[is.na(o3ref)]\n",
    "hippomerge$o3ref=o3ref # for output\n",
    "o3ref[is.na(o3ref)]=0 # if O3 missing do not use for filter\n",
    "hippomerge$strat[h2oref<stratcoh2o&(o3ref>stratcoo3|n2oref<stratcon2o|(o3ref==0&n2oref==400))]=1 # if either o3 or n2o criteria are met, or if both are missing, consider strat\n",
    "hippomerge$strat[h2oref==0&o3ref==0&n2oref==400&hippomerge$GGALT<8000]=0 # if all 3 missing assume < 8 km is trop"
   ]
  },
  {
   "cell_type": "code",
   "execution_count": 11,
   "id": "d3a81522-b61b-427b-bd2e-097eddc15bdb",
   "metadata": {},
   "outputs": [],
   "source": [
    "# select columns\n",
    "colsel=c('Year','Month','Day','Hour','Min','Sec','H.no','flt','prof','GGLAT','GGLON','GGALT','PSXC','THETA','CO2_MED','CO2_QCLS','CO2_OMS','CO2_AO2','strat','h2oref','n2oref','o3ref')\n",
    "hippomerge=hippomerge[,is.element(colnames(hippomerge),colsel)]\n",
    "hippomerge=hippomerge[,match(colsel,names(hippomerge))] # reorder\n",
    "names(hippomerge)=c('year','mon','day','hour','min','sec','camp','flt','prof','lat','lon','alt','pressure','theta','co2','co2qcls','co2oms','co2ao2','strat','h2oref','n2oref','o3ref') ## 'co2' = CO2_MED"
   ]
  },
  {
   "cell_type": "markdown",
   "id": "b9ac5abf-22e6-4c79-a4cd-a42fdd4b62db",
   "metadata": {},
   "source": [
    "# read in ORCAS file, calc strat flag, and subset"
   ]
  },
  {
   "cell_type": "code",
   "execution_count": 12,
   "id": "61f89df6-cde8-4a75-9a1c-081852f8de44",
   "metadata": {},
   "outputs": [],
   "source": [
    "# read and add time variables\n",
    "orcasmerge=read.table(orcasmergefile,header=T)\n",
    "orcasdt=strptime(paste(orcasmerge[,\"Year\"],orcasmerge[,\"DOY\"]),format='%Y %j',tz='UTC')+orcasmerge[,\"UTC\"] # DOY is day of year of takeoff; UTC is seconds since midnight on day of takeoff\n",
    "orcasmerge$Month=as.POSIXlt(orcasdt)$mon+1\n",
    "orcasmerge$Day=as.POSIXlt(orcasdt)$mday\n",
    "orcasmerge$Hour=as.POSIXlt(orcasdt)$hour\n",
    "orcasmerge$Min=as.POSIXlt(orcasdt)$min\n",
    "orcasmerge$Sec=as.POSIXlt(orcasdt)$sec"
   ]
  },
  {
   "cell_type": "code",
   "execution_count": 13,
   "id": "13e86561-0ebd-4057-8512-7587cf09cbff",
   "metadata": {},
   "outputs": [],
   "source": [
    "# filter in situ records for overlap ### add for HIPPO and ATom?\n",
    "orcasmerge$CO2_NOAA[orcasmerge$wt.CO2_NOAA<0.5]=NA\n",
    "orcasmerge$CO2_QCLS[orcasmerge$wt.CO2_QCLS<0.5]=NA\n",
    "orcasmerge$CO2_AO2[orcasmerge$wt.CO2_AO2<0.5]=NA\n",
    "orcasmerge$CO2.X[orcasmerge$wt.CO2.X<0.5]=NA"
   ]
  },
  {
   "cell_type": "code",
   "execution_count": 14,
   "id": "6ffc1e6f-6612-4929-aead-21dd511fe81d",
   "metadata": {},
   "outputs": [],
   "source": [
    "# add strat flag\n",
    "orcasmerge$strat=rep(0,nrow(orcasmerge)) # 0 means trop\n",
    "h2oref=orcasmerge$VMR_VXL; h2oref[is.na(h2oref)]=orcasmerge$H2O_NOAA[is.na(h2oref)]\n",
    "orcasmerge$h2oref=h2oref # for output\n",
    "h2oref[is.na(h2oref)]=0 # if H2O missing treat as if potentially strat\n",
    "n2oref=orcasmerge$N2O_QCLS\n",
    "n2oref=n2oref-(approx(glbn2o$year+0.5,glbn2o$n2o,orcasmerge$Year+orcasmerge$DOY/365)$y-glbn2o$n2o[glbn2o$year==2009])\n",
    "orcasmerge$n2oref=n2oref # for output\n",
    "n2oref[is.na(n2oref)]=400 # if N2O missing do not use for filter\n",
    "orcasmerge$strat[h2oref<stratcoh2o&(n2oref<stratcon2o|n2oref==400)]=1 # no O3, if n2o criteria is met or missing, consider strat\n",
    "orcasmerge$strat[h2oref==0&n2oref==400&orcasmerge$G_ALT<8000]=0 # if both missing assume < 8 km is trop"
   ]
  },
  {
   "cell_type": "code",
   "execution_count": 15,
   "id": "2394fa65-a972-46b8-a7b5-bf728e425bd2",
   "metadata": {},
   "outputs": [],
   "source": [
    "# select columns\n",
    "colsel=c('Year','Month','Day','Hour','Min','Sec','flt','n.prof','GGLAT','GGLON','GGALT','PSXC','THETA','CO2_MED','CO2.X','CO2_QCLS','CO2_NOAA','CO2_AO2','strat','h2oref','n2oref')\n",
    "orcasmerge=orcasmerge[,is.element(colnames(orcasmerge),colsel)]\n",
    "orcasmerge=orcasmerge[,match(colsel,names(orcasmerge))] # reorder\n",
    "names(orcasmerge)=c('year','mon','day','hour','min','sec','flt','prof','lat','lon','alt','pressure','theta','co2','co2x','co2qcls','co2noaa','co2ao2','strat','h2oref','n2oref') ## 'co2' = CO2_MED"
   ]
  },
  {
   "cell_type": "markdown",
   "id": "936f2301-14d1-4e4b-a590-081fc498a4de",
   "metadata": {},
   "source": [
    "# read in ATom files, calc strat flag, and subset"
   ]
  },
  {
   "cell_type": "code",
   "execution_count": 16,
   "id": "e3b3af84-daf5-40c8-b98a-be8d58f90a2e",
   "metadata": {},
   "outputs": [],
   "source": [
    "# read and add time variables\n",
    "atomvar=c('time','Flight_Date','DLH-H2O/H2O_ppmv','UCATS-H2O/H2O_UWV','QCLS-CH4-CO-N2O/N2O_QCLS','NOyO3-O3/O3_CL','UCATS-O3/O3_UO3','MMS/G_ALT','RF','prof.no','MMS/P','MMS/POT','MMS/G_LAT','MMS/G_LONG',\n",
    "          'MMS/G_ALT','MEDUSA/CO2_MED','NOAA-Picarro/CO2_NOAA','QCLS-CO2/CO2_QCLS','AO2/CO2_AO2','NOAA-Picarro/CH4_NOAA','QCLS-CH4-CO-N2O/CH4_QCLS')\n",
    "atommerge=NULL\n",
    "for(i in c(1:4)){\n",
    "\tatomnc=nc_open(paste(atommergedir,'/',atommergefiles[i],sep=''))\n",
    "       \tcount=length(ncvar_get(atomnc,'time'))\n",
    "\tcampdata=NULL\n",
    "\tfor(var in atomvar){\n",
    "\t\tif(i==1&var=='UCATS-H2O/H2O_UWV'){ # no UCATS H2O on ATom-1\n",
    "\t\t\tcampdata=cbind(campdata,rep(NA,count))\n",
    "\t\t} else {\n",
    "\t\t\tcampdata=cbind(campdata,ncvar_get(atomnc,var))\n",
    "\t\t}\n",
    "\t}\n",
    "\tcampdata=cbind(campdata,rep(i,count)) # A.no\n",
    "    nc_close(atomnc)\n",
    "\tatommerge=rbind(atommerge,campdata)\n",
    "}\n",
    "atommerge=data.frame(atommerge,stringsAsFactors=F)\n",
    "names(atommerge)=c(gsub('.*/','',atomvar),'A.no')\n",
    "atommerge$YYYYMMDD=atommerge$Flight_Date\n",
    "atomdt=as.POSIXlt(ISOdatetime(2016,1,1,0,0,0,tz='UTC')+atommerge$time,tz='UTC')\n",
    "atommerge$Year=atomdt$year+1900\n",
    "atommerge$Month=as.POSIXlt(atomdt)$mon+1\n",
    "atommerge$Day=as.POSIXlt(atomdt)$mday\n",
    "atommerge$Hour=as.POSIXlt(atomdt)$hour\n",
    "atommerge$Min=as.POSIXlt(atomdt)$min\n",
    "atommerge$Sec=as.POSIXlt(atomdt)$sec"
   ]
  },
  {
   "cell_type": "code",
   "execution_count": 17,
   "id": "77ffa832-9933-418c-a771-e8f26be2ae58",
   "metadata": {},
   "outputs": [],
   "source": [
    "# filter in situ records for overlap\n",
    "atommerge$CO2_NOAA[atommerge$wt.CO2_NOAA<0.5]=NA\n",
    "atommerge$CO2_QCLS[atommerge$wt.CO2_QCLS<0.5]=NA\n",
    "atommerge$CO2_AO2[atommerge$wt.CO2_AO2<0.5]=NA"
   ]
  },
  {
   "cell_type": "code",
   "execution_count": 18,
   "id": "7cb5504f-342b-4d40-bb2a-da6149bab122",
   "metadata": {},
   "outputs": [],
   "source": [
    "# add strat flag\n",
    "atommerge$strat=rep(0,nrow(atommerge)) # 0 means trop\n",
    "h2oref=atommerge$H2O_ppmv; h2oref[is.na(h2oref)]=atommerge$H2O_UWV[is.na(h2oref)]\n",
    "atommerge$h2oref=h2oref # for output\n",
    "h2oref[is.na(h2oref)]=0 # if H2O missing treat as if potentially strat\n",
    "n2oref=atommerge$N2O_QCLS\n",
    "n2oref=n2oref-(approx(glbn2o$year+0.5,glbn2o$n2o,atommerge$Year+atomdt$yday/365)$y-glbn2o$n2o[glbn2o$year==2009])\n",
    "atommerge$n2oref=n2oref # for outptut\n",
    "n2oref[is.na(n2oref)]=400 # if N2O missing do not use for filter\n",
    "o3ref=atommerge$O3_CL; o3ref[is.na(o3ref)]=atommerge$O3_UO3[is.na(o3ref)]\n",
    "atommerge$o3ref=o3ref\n",
    "o3ref[is.na(o3ref)]=0 # if O3 missing do not use for filter\n",
    "atommerge$strat[h2oref<stratcoh2o&(o3ref>stratcoo3|n2oref<stratcon2o|(o3ref==0&n2oref==400))]=1 # if either o3 or n2o criteria are met, or if both are missing, consider strat\n",
    "atommerge$strat[h2oref==0&o3ref==0&n2oref==400&atommerge$G_ALT<8000]=0 # if all 3 missing assume < 8 km is trop"
   ]
  },
  {
   "cell_type": "code",
   "execution_count": 19,
   "id": "a9bbe167-455d-430f-8f3e-2dd454bc44b7",
   "metadata": {},
   "outputs": [],
   "source": [
    "# select column\n",
    "colsel=c('Year','Month','Day','Hour','Min','Sec','A.no','RF','prof.no','G_LAT','G_LONG','G_ALT','P','POT','CO2_MED','CO2_NOAA','CO2_QCLS','CO2_AO2','CH4_NOAA','CH4_QCLS','strat','h2oref','n2oref','o3ref')\n",
    "atommerge=atommerge[,is.element(colnames(atommerge),colsel)]\n",
    "atommerge=atommerge[,match(colsel,names(atommerge))] # reorder\n",
    "names(atommerge)=c('year','mon','day','hour','min','sec','camp','flt','prof','lat','lon','alt','pressure','theta','co2','co2noaa','co2qcls','co2ao2','ch4noaa','ch4qcls','strat','h2oref','n2oref','o3ref') ## 'co2' = CO2_MED"
   ]
  },
  {
   "cell_type": "markdown",
   "id": "2ea35dd2-b0c2-4451-8bec-6be33f18aa13",
   "metadata": {
    "tags": []
   },
   "source": [
    "# Filter airborne Medusa data and subtract SPO"
   ]
  },
  {
   "cell_type": "code",
   "execution_count": 20,
   "id": "39baa9c5-c940-416b-a519-76743db55830",
   "metadata": {},
   "outputs": [],
   "source": [
    "# read in NOAA in situ record from SPO\n",
    "sponc=nc_open(paste(project_tmpdir_obs,'/obspack_co2_1_GLOBALVIEWplus_v6.0_2020-09-11/data/nc/co2_spo_surface-insitu_1_allvalid.nc',sep=''))\n",
    "spoco2=data.frame(cbind(ncvar_get(sponc,'time_decimal'),t(ncvar_get(sponc,'time_components')),ncvar_get(sponc,'value')*1E6)) ; colnames(spoco2)=c('date','year','mon','day','hour','min','sec','co2')\n",
    "qcflag=ncvar_get(sponc,'qcflag'); spoco2$co2[substr(qcflag,1,1)!='.']=NA; spoco2$co2[substr(qcflag,2,2)!='.']=NA\n",
    "spodt=ISOdatetime(spoco2$year,spoco2$mon,spoco2$day,spoco2$hour,spoco2$min,spoco2$sec,tz='UTC')"
   ]
  },
  {
   "cell_type": "markdown",
   "id": "e8b6085e-69bf-4fe2-84a0-7936f3f2c6ee",
   "metadata": {
    "tags": []
   },
   "source": [
    "# HIPPO"
   ]
  },
  {
   "cell_type": "code",
   "execution_count": 21,
   "id": "a9a60591-f32f-49c8-84c8-ef5f0beb5775",
   "metadata": {},
   "outputs": [
    {
     "name": "stdout",
     "output_type": "stream",
     "text": [
      "[1] \"Filtered 12 of 1690 HIPPO obs (0.7%)\"\n"
     ]
    }
   ],
   "source": [
    "# filter\n",
    "ints=read.table(paste(project_tmpdir_obs,'/hippo_xsect_filt_datetime.txt',sep=''),header=T) \n",
    "startdt=ISOdatetime(ints$startyear,ints$startmon,ints$startday,ints$starthour,ints$startmin,ints$startsec,tz='UTC')\n",
    "stopdt=ISOdatetime(ints$stopyear,ints$stopmon,ints$stopday,ints$stophour,ints$stopmin,ints$stopsec,tz='UTC')\n",
    "blfilt=rep(T,nrow(hippomerge))\n",
    "for(i in c(1:nrow(ints))){\n",
    "    blfilt[difftime(hippodt,startdt[i])>=0&difftime(hippodt,stopdt[i])<=0]=F\n",
    "}\n",
    "hippodt=hippodt[blfilt]\n",
    "hippomerge=hippomerge[blfilt,]\n",
    "print(paste('Filtered ',sum(!blfilt),' of ',length(blfilt),' HIPPO obs (',round(sum(!blfilt)/length(blfilt)*100,1),'%)',sep=''))"
   ]
  },
  {
   "cell_type": "code",
   "execution_count": 22,
   "id": "b232dd06-481c-41bf-b0dc-868b89e706b4",
   "metadata": {},
   "outputs": [],
   "source": [
    "# calculate differences\n",
    "hippomerge$co2mspo=round(hippomerge$co2-approx(as.POSIXct(spodt),spoco2$co2,as.POSIXct(hippodt))$y,3) ## co2 = 'CO2_MED'\n",
    "hippomerge$co2mqcls=round(hippomerge$co2-hippomerge$co2qcls,3)\n",
    "hippomerge$co2moms=round(hippomerge$co2-hippomerge$co2oms,3)\n",
    "hippomerge$co2mao2=round(hippomerge$co2-hippomerge$co2ao2,3)"
   ]
  },
  {
   "cell_type": "code",
   "execution_count": 23,
   "id": "7a587f08-f3fe-4773-88fd-215fd0628b33",
   "metadata": {},
   "outputs": [
    {
     "name": "stdout",
     "output_type": "stream",
     "text": [
      "    year      mon      day     hour      min      sec     camp      flt \n",
      "    1678     1677     1677     1677     1677     1677     1678     1678 \n",
      "    prof      lat      lon      alt pressure    theta      co2  co2qcls \n",
      "    1677     1677     1677     1677     1677     1677     1558     1129 \n",
      "  co2oms   co2ao2    strat   h2oref   n2oref    o3ref  co2mspo co2mqcls \n",
      "    1167     1432     1678     1672     1542     1676     1558     1050 \n",
      " co2moms  co2mao2 \n",
      "    1090     1334 \n"
     ]
    }
   ],
   "source": [
    "# write out\n",
    "write(names(hippomerge),'../data/aircraft-obs/HIPPO_SO_mSPO_medusa.txt',ncol=ncol(hippomerge))\n",
    "write(t(hippomerge),'../data/aircraft-obs/HIPPO_SO_mSPO_medusa.txt',ncol=ncol(hippomerge),append=T)\n",
    "\n",
    "print(apply(!is.na(hippomerge),2,sum))"
   ]
  },
  {
   "cell_type": "markdown",
   "id": "42b5f21e-4f16-4af0-90c5-198aa88b9e3c",
   "metadata": {},
   "source": [
    "# ORCAS"
   ]
  },
  {
   "cell_type": "code",
   "execution_count": 24,
   "id": "a7c11f96-ddc2-4c3a-801a-77e0bf1fa709",
   "metadata": {},
   "outputs": [
    {
     "name": "stdout",
     "output_type": "stream",
     "text": [
      "[1] \"Filtered 9 of 392 ORCAS obs (2.3%)\"\n"
     ]
    }
   ],
   "source": [
    "# filter\n",
    "ints=read.table(paste(project_tmpdir_obs,'/orcas_xsect_filt_datetime.txt',sep=''),header=T)\n",
    "startdt=ISOdatetime(ints$startyear,ints$startmon,ints$startday,ints$starthour,ints$startmin,ints$startsec,tz='UTC')\n",
    "stopdt=ISOdatetime(ints$stopyear,ints$stopmon,ints$stopday,ints$stophour,ints$stopmin,ints$stopsec,tz='UTC')\n",
    "blfilt=rep(T,nrow(orcasmerge))\n",
    "for(i in c(1:nrow(ints))){\n",
    "    blfilt[difftime(orcasdt,startdt[i])>=0&difftime(orcasdt,stopdt[i])<=0]=F\n",
    "}\n",
    "orcasdt=orcasdt[blfilt]\n",
    "orcasmerge=orcasmerge[blfilt,]\n",
    "print(paste('Filtered ',sum(!blfilt),' of ',length(blfilt),' ORCAS obs (',round(sum(!blfilt)/length(blfilt)*100,1),'%)',sep=''))"
   ]
  },
  {
   "cell_type": "code",
   "execution_count": 25,
   "id": "14e9c432-6be6-43f1-94f7-4c17190dcb19",
   "metadata": {},
   "outputs": [],
   "source": [
    "# calculate differences\n",
    "orcasmerge$co2mspo=round(orcasmerge$co2-approx(as.POSIXct(spodt),spoco2$co2,as.POSIXct(orcasdt))$y,2) ## co2 = 'CO2_MED'\n",
    "orcasmerge$co2mqcls=round(orcasmerge$co2-orcasmerge$co2qcls,3)\n",
    "orcasmerge$co2mx=round(orcasmerge$co2-orcasmerge$co2x,3)\n",
    "orcasmerge$co2mnoaa=round(orcasmerge$co2-orcasmerge$co2noaa,3)\n",
    "orcasmerge$co2mao2=round(orcasmerge$co2-orcasmerge$co2ao2,3)"
   ]
  },
  {
   "cell_type": "code",
   "execution_count": 26,
   "id": "294f67c5-abff-4b5c-82ac-623a6dacbb8d",
   "metadata": {},
   "outputs": [
    {
     "name": "stdout",
     "output_type": "stream",
     "text": [
      "    year      mon      day     hour      min      sec      flt     prof \n",
      "     383      383      383      383      383      383      383      383 \n",
      "     lat      lon      alt pressure    theta      co2     co2x  co2qcls \n",
      "     383      383      383      383      383      340      361      162 \n",
      " co2noaa   co2ao2    strat   h2oref   n2oref  co2mspo co2mqcls    co2mx \n",
      "     361      337      383      383      366      340      138      320 \n",
      "co2mnoaa  co2mao2 \n",
      "     320      299 \n"
     ]
    }
   ],
   "source": [
    "# write out\n",
    "write(names(orcasmerge),'../data/aircraft-obs/ORCAS_SO_mSPO_medusa.txt',ncol=ncol(orcasmerge))\n",
    "write(t(orcasmerge),'../data/aircraft-obs/ORCAS_SO_mSPO_medusa.txt',ncol=ncol(orcasmerge),append=T)\n",
    "\n",
    "print(apply(!is.na(orcasmerge),2,sum))"
   ]
  },
  {
   "cell_type": "markdown",
   "id": "7ce5c3e3-7cea-4526-b7b0-e76a0a1a01a7",
   "metadata": {},
   "source": [
    "# ATom"
   ]
  },
  {
   "cell_type": "code",
   "execution_count": 27,
   "id": "57e840ea-43dd-46e6-9787-0ce58010e6c1",
   "metadata": {},
   "outputs": [
    {
     "name": "stdout",
     "output_type": "stream",
     "text": [
      "[1] \"Filtered 29 of 1370 ATom obs (2.1%)\"\n"
     ]
    }
   ],
   "source": [
    "# filter\n",
    "ints=read.table(paste(project_tmpdir_obs,'/atom_xsect_filt_datetime.txt',sep=''),header=T)\n",
    "startdt=ISOdatetime(ints$startyear,ints$startmon,ints$startday,ints$starthour,ints$startmin,ints$startsec,tz='UTC')\n",
    "stopdt=ISOdatetime(ints$stopyear,ints$stopmon,ints$stopday,ints$stophour,ints$stopmin,ints$stopsec,tz='UTC')\n",
    "blfilt=rep(T,nrow(atommerge))\n",
    "for(i in c(1:nrow(ints))){\n",
    "    blfilt[difftime(atomdt,startdt[i])>=0&difftime(atomdt,stopdt[i])<=0]=F\n",
    "}\n",
    "atomdt=atomdt[blfilt]\n",
    "atommerge=atommerge[blfilt,]\n",
    "print(paste('Filtered ',sum(!blfilt),' of ',length(blfilt),' ATom obs (',round(sum(!blfilt)/length(blfilt)*100,1),'%)',sep=''))"
   ]
  },
  {
   "cell_type": "code",
   "execution_count": 28,
   "id": "475824b3-ffd8-4622-8d86-2f12bb136154",
   "metadata": {},
   "outputs": [],
   "source": [
    "# calculate differences\n",
    "atommerge$co2mspo=round(atommerge$co2-approx(as.POSIXct(spodt),spoco2$co2,as.POSIXct(atomdt))$y,2) ## co2 = 'CO2_MED'\n",
    "atommerge$co2mqcls=round(atommerge$co2-atommerge$co2qcls,3)\n",
    "atommerge$co2mao2=round(atommerge$co2-atommerge$co2ao2,3)\n",
    "atommerge$co2mnoaa=round(atommerge$co2-atommerge$co2noaa,3)"
   ]
  },
  {
   "cell_type": "code",
   "execution_count": 29,
   "id": "d0065a24-a9a4-42de-9ec4-24db61f7db8f",
   "metadata": {},
   "outputs": [
    {
     "name": "stdout",
     "output_type": "stream",
     "text": [
      "    year      mon      day     hour      min      sec     camp      flt \n",
      "    1341     1341     1341     1341     1341     1341     1341     1341 \n",
      "    prof      lat      lon      alt pressure    theta      co2  co2noaa \n",
      "    1341     1341     1341     1341     1341     1341     1241     1279 \n",
      " co2qcls   co2ao2  ch4noaa  ch4qcls    strat   h2oref   n2oref    o3ref \n",
      "    1279     1314     1336      962     1341     1032      958     1337 \n",
      " co2mspo co2mqcls  co2mao2 co2mnoaa \n",
      "    1241     1188     1221     1184 \n"
     ]
    }
   ],
   "source": [
    "# write out\n",
    "write(names(atommerge),'../data/aircraft-obs/ATOM_SO_mSPO_medusa.txt',ncol=ncol(atommerge))\n",
    "write(t(atommerge),'../data/aircraft-obs/ATOM_SO_mSPO_medusa.txt',ncol=ncol(atommerge),append=T)\n",
    "\n",
    "print(apply(!is.na(atommerge),2,sum))"
   ]
  },
  {
   "cell_type": "code",
   "execution_count": null,
   "id": "15ec3179-e62e-46be-b9cf-e04a0846ddbf",
   "metadata": {},
   "outputs": [],
   "source": []
  }
 ],
 "metadata": {
  "kernelspec": {
   "display_name": "R [conda env:miniconda3-so-co2-R]",
   "language": "R",
   "name": "conda-env-miniconda3-so-co2-R-r"
  },
  "language_info": {
   "codemirror_mode": "r",
   "file_extension": ".r",
   "mimetype": "text/x-r-source",
   "name": "R",
   "pygments_lexer": "r",
   "version": "4.1.1"
  }
 },
 "nbformat": 4,
 "nbformat_minor": 5
}

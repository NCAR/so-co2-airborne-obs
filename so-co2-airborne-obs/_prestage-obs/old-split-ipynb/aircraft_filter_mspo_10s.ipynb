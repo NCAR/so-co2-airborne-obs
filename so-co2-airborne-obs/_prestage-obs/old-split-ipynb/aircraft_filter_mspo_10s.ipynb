{
 "cells": [
  {
   "cell_type": "markdown",
   "id": "5c3d26e1-e68a-4f10-b6c9-0dd1d7aab1e5",
   "metadata": {},
   "source": [
    "# Filter airborne 10-sec data\n",
    "- R Program to filter aircraft data for strong local continental influences, subtract off NOAA in situ SPO, and write out flat text files"
   ]
  },
  {
   "cell_type": "code",
   "execution_count": 24,
   "id": "ca7af579-6895-42b2-bf05-407ac23b261b",
   "metadata": {
    "tags": []
   },
   "outputs": [],
   "source": [
    "library('ncdf4')\n",
    "library('yaml')"
   ]
  },
  {
   "cell_type": "code",
   "execution_count": 25,
   "id": "e00eba17-8e89-4e97-9b6a-0f86b9c2c85d",
   "metadata": {
    "tags": []
   },
   "outputs": [],
   "source": [
    "project_tmpdir_obs = read_yaml('../_config_calc.yml')$project_tmpdir_obs\n",
    "username = Sys.info()['user']\n",
    "project_tmpdir_obs = gsub('\\\\{\\\\{env\\\\[\\'USER\\'\\\\]\\\\}\\\\}', username, project_tmpdir_obs)"
   ]
  },
  {
   "cell_type": "code",
   "execution_count": 26,
   "id": "8bee0562-678e-45e8-b262-fe54d05b6806",
   "metadata": {},
   "outputs": [],
   "source": [
    "# read in preprocessed aircraft files from read_aircraft_10s.r\n",
    "load('HIPPO_10s.RData')\n",
    "load('ORCAS_10s.RData')\n",
    "load('ATom_10s.RData')"
   ]
  },
  {
   "cell_type": "code",
   "execution_count": 27,
   "id": "3a8c0321-2f4e-42ba-9a09-bf5a7ccf16fb",
   "metadata": {},
   "outputs": [],
   "source": [
    "# calculate datetime variables\n",
    "hippodt=ISOdatetime(hippomerge$year,hippomerge$mon,hippomerge$day,hippomerge$hour,hippomerge$min,hippomerge$sec,tz='UTC')\n",
    "orcasdt=ISOdatetime(orcasmerge$year,orcasmerge$mon,orcasmerge$day,orcasmerge$hour,orcasmerge$min,orcasmerge$sec,tz='UTC')\n",
    "atomdt=ISOdatetime(atommerge$year,atommerge$mon,atommerge$day,atommerge$hour,atommerge$min,atommerge$sec,tz='UTC')"
   ]
  },
  {
   "cell_type": "code",
   "execution_count": 28,
   "id": "c17cdec3-b5fd-4b76-844f-556b21737b97",
   "metadata": {},
   "outputs": [],
   "source": [
    "# read in NOAA in situ record from SPO\n",
    "sponc=nc_open(paste(project_tmpdir_obs,'/obspack_co2_1_GLOBALVIEWplus_v6.0_2020-09-11/data/nc/co2_spo_surface-insitu_1_allvalid.nc',sep=''))\n",
    "spoco2=data.frame(cbind(ncvar_get(sponc,'time_decimal'),t(ncvar_get(sponc,'time_components')),ncvar_get(sponc,'value')*1E6)) ; colnames(spoco2)=c('date','year','mon','day','hour','min','sec','co2')\n",
    "qcflag=ncvar_get(sponc,'qcflag'); spoco2$co2[substr(qcflag,1,1)!='.']=NA; spoco2$co2[substr(qcflag,2,2)!='.']=NA\n",
    "spodt=ISOdatetime(spoco2$year,spoco2$mon,spoco2$day,spoco2$hour,spoco2$min,spoco2$sec,tz='UTC')"
   ]
  },
  {
   "cell_type": "markdown",
   "id": "c583c541-d79e-4533-b252-b8a1bff59ea3",
   "metadata": {},
   "source": [
    "# HIPPO"
   ]
  },
  {
   "cell_type": "code",
   "execution_count": 29,
   "id": "0327a5d4-d690-433e-abb3-4e3061eff2f2",
   "metadata": {},
   "outputs": [
    {
     "name": "stdout",
     "output_type": "stream",
     "text": [
      "[1] \"Filtered 2453 of 156551 HIPPO obs (1.6%)\"\n"
     ]
    }
   ],
   "source": [
    "# filter\n",
    "ints=read.table(paste(project_tmpdir_obs,'/hippo_xsect_filt_datetime.txt',sep=''),header=T) \n",
    "startdt=ISOdatetime(ints$startyear,ints$startmon,ints$startday,ints$starthour,ints$startmin,ints$startsec,tz='UTC')\n",
    "stopdt=ISOdatetime(ints$stopyear,ints$stopmon,ints$stopday,ints$stophour,ints$stopmin,ints$stopsec,tz='UTC')\n",
    "blfilt=rep(T,nrow(hippomerge))\n",
    "for(i in c(1:nrow(ints))){\n",
    "\tblfilt[difftime(hippodt,startdt[i])>=0&difftime(hippodt,stopdt[i])<=0]=F\n",
    "}\n",
    "hippodt=hippodt[blfilt]\n",
    "hippomerge=hippomerge[blfilt,]\n",
    "print(paste('Filtered ',sum(!blfilt),' of ',length(blfilt),' HIPPO obs (',round(sum(!blfilt)/length(blfilt)*100,1),'%)',sep=''))"
   ]
  },
  {
   "cell_type": "code",
   "execution_count": 30,
   "id": "15cf518a-37ff-462b-8af2-7422c023c2be",
   "metadata": {},
   "outputs": [],
   "source": [
    "# calculate differences\n",
    "hippomerge$co2mspo=round(hippomerge$co2-approx(as.POSIXct(spodt),spoco2$co2,as.POSIXct(hippodt))$y,3) ## co2 = 'CO2.X'\n",
    "hippomerge$co2mqcls=round(hippomerge$co2-hippomerge$co2qcls,3)\n",
    "hippomerge$co2moms=round(hippomerge$co2-hippomerge$co2oms,3)\n",
    "hippomerge$co2mao2=round(hippomerge$co2-hippomerge$co2ao2,3)\n",
    "hippomerge$ch4mucats=round(hippomerge$ch4qcls-hippomerge$ch4ucats,3)\n",
    "hippomerge$ch4mpanther=round(hippomerge$ch4qcls-hippomerge$ch4panther,3)"
   ]
  },
  {
   "cell_type": "code",
   "execution_count": 31,
   "id": "de6452f2-b650-403f-b600-c5f56b522a1a",
   "metadata": {},
   "outputs": [
    {
     "name": "stdout",
     "output_type": "stream",
     "text": [
      "       year         mon         day        hour         min         sec \n",
      "     154098      154098      154098      154098      154098      154098 \n",
      "       camp         flt        prof         lat         lon         alt \n",
      "     154098      154098      154098      154098      154098      154098 \n",
      "   pressure       theta         co2     co2qcls      co2oms      co2ao2 \n",
      "     153643      153642      128532       99731      111351      123678 \n",
      "    ch4qcls    ch4ucats  ch4panther  sf6panther    sf6ucats      sf6pfp \n",
      "     109569        5054        4367       10500       12982        1337 \n",
      "      strat      h2oref      n2oref       o3ref     co2mspo    co2mqcls \n",
      "     154098      149942      111218      150933      128532       97975 \n",
      "    co2moms     co2mao2   ch4mucats ch4mpanther \n",
      "      99249      103284        3696        3275 \n"
     ]
    }
   ],
   "source": [
    "# write out\n",
    "write(names(hippomerge),'../data/aircraft-obs/HIPPO_SO_mSPO.txt',ncol=ncol(hippomerge))\n",
    "write(t(hippomerge),'../data/aircraft-obs/HIPPO_SO_mSPO.txt',ncol=ncol(hippomerge),append=T)\n",
    "\n",
    "print(apply(!is.na(hippomerge),2,sum))"
   ]
  },
  {
   "cell_type": "markdown",
   "id": "9e05e5fd-e1ab-4761-b58c-e864d711de9a",
   "metadata": {},
   "source": [
    "# ORCAS"
   ]
  },
  {
   "cell_type": "code",
   "execution_count": 32,
   "id": "1e337e39-ef4a-4c4e-b602-1036bbfe4c30",
   "metadata": {},
   "outputs": [
    {
     "name": "stdout",
     "output_type": "stream",
     "text": [
      "[1] \"Filtered 1943 of 46646 ORCAS obs (4.2%)\"\n"
     ]
    }
   ],
   "source": [
    "# filter\n",
    "ints=read.table(paste(project_tmpdir_obs,'/orcas_xsect_filt_datetime.txt',sep=''),header=T)\n",
    "startdt=ISOdatetime(ints$startyear,ints$startmon,ints$startday,ints$starthour,ints$startmin,ints$startsec,tz='UTC')\n",
    "stopdt=ISOdatetime(ints$stopyear,ints$stopmon,ints$stopday,ints$stophour,ints$stopmin,ints$stopsec,tz='UTC')\n",
    "blfilt=rep(T,nrow(orcasmerge))\n",
    "for(i in c(1:nrow(ints))){\n",
    "    blfilt[difftime(orcasdt,startdt[i])>=0&difftime(orcasdt,stopdt[i])<=0]=F\n",
    "}\n",
    "orcasdt=orcasdt[blfilt]\n",
    "orcasmerge=orcasmerge[blfilt,]\n",
    "print(paste('Filtered ',sum(!blfilt),' of ',length(blfilt),' ORCAS obs (',round(sum(!blfilt)/length(blfilt)*100,1),'%)',sep=''))"
   ]
  },
  {
   "cell_type": "code",
   "execution_count": 33,
   "id": "0688cb0a-5a53-41cd-8e73-0bdcea64c0ab",
   "metadata": {},
   "outputs": [],
   "source": [
    "# calculate differences\n",
    "orcasmerge$co2mspo=round(orcasmerge$co2-approx(as.POSIXct(spodt),spoco2$co2,as.POSIXct(orcasdt))$y,2) ## co2 = 'CO2.X'\n",
    "orcasmerge$co2mqcls=round(orcasmerge$co2-orcasmerge$co2qcls,3)\n",
    "orcasmerge$co2mnoaa=round(orcasmerge$co2-orcasmerge$co2noaa,3)\n",
    "orcasmerge$co2mao2=round(orcasmerge$co2-orcasmerge$co2ao2,3)\n",
    "orcasmerge$ch4mqcls=round(orcasmerge$ch4noaa-orcasmerge$ch4qcls,3)"
   ]
  },
  {
   "cell_type": "code",
   "execution_count": 34,
   "id": "c652b635-b36a-4477-bb08-7fc4fc53852f",
   "metadata": {},
   "outputs": [
    {
     "name": "stdout",
     "output_type": "stream",
     "text": [
      "    year      mon      day     hour      min      sec      flt     prof \n",
      "   44703    44703    44703    44703    44703    44703    44703    44703 \n",
      "     lat      lon      alt pressure    theta      co2  co2qcls  co2noaa \n",
      "   44703    44703    44703    44581    44580    38560    16277    34251 \n",
      "  co2ao2  ch4noaa  ch4qcls    strat   h2oref   n2oref  co2mspo co2mqcls \n",
      "   31753    34254    23452    44703    44440    22462    38560    15105 \n",
      "co2mnoaa  co2mao2 ch4mqcls \n",
      "   34251    29649    21267 \n"
     ]
    }
   ],
   "source": [
    "# write out\n",
    "write(names(orcasmerge),'../data/aircraft-obs/ORCAS_SO_mSPO.txt',ncol=ncol(orcasmerge))\n",
    "write(t(orcasmerge),'../data/aircraft-obs/ORCAS_SO_mSPO.txt',ncol=ncol(orcasmerge),append=T)\n",
    "\n",
    "print(apply(!is.na(orcasmerge),2,sum))"
   ]
  },
  {
   "cell_type": "markdown",
   "id": "9697ed6d-5fd6-44e7-905e-d76c31c17cc6",
   "metadata": {},
   "source": [
    "# ATom"
   ]
  },
  {
   "cell_type": "code",
   "execution_count": 35,
   "id": "845d346c-4806-449a-8d26-1e7d7df10cc0",
   "metadata": {},
   "outputs": [
    {
     "name": "stdout",
     "output_type": "stream",
     "text": [
      "[1] \"Filtered 4218 of 149133 ATom obs (2.8%)\"\n"
     ]
    }
   ],
   "source": [
    "# filter\n",
    "ints=read.table(paste(project_tmpdir_obs,'/atom_xsect_filt_datetime.txt',sep=''),header=T)\n",
    "startdt=ISOdatetime(ints$startyear,ints$startmon,ints$startday,ints$starthour,ints$startmin,ints$startsec,tz='UTC')\n",
    "stopdt=ISOdatetime(ints$stopyear,ints$stopmon,ints$stopday,ints$stophour,ints$stopmin,ints$stopsec,tz='UTC')\n",
    "blfilt=rep(T,nrow(atommerge))\n",
    "for(i in c(1:nrow(ints))){\n",
    "    blfilt[difftime(atomdt,startdt[i])>=0&difftime(atomdt,stopdt[i])<=0]=F\n",
    "}\n",
    "atomdt=atomdt[blfilt]\n",
    "atommerge=atommerge[blfilt,]\n",
    "print(paste('Filtered ',sum(!blfilt),' of ',length(blfilt),' ATom obs (',round(sum(!blfilt)/length(blfilt)*100,1),'%)',sep=''))"
   ]
  },
  {
   "cell_type": "code",
   "execution_count": 36,
   "id": "0f02564c-1b11-453c-ae1e-2c20368d3fb9",
   "metadata": {},
   "outputs": [],
   "source": [
    "# calculate differences\n",
    "atommerge$co2mspo=round(atommerge$co2-approx(as.POSIXct(spodt),spoco2$co2,as.POSIXct(atomdt))$y,2) ## co2 = 'CO2_NOAA'\n",
    "atommerge$co2mqcls=round(atommerge$co2-atommerge$co2qcls,3)\n",
    "atommerge$co2mao2=round(atommerge$co2-atommerge$co2ao2,3)\n",
    "atommerge$co2mx=round(atommerge$co2-atommerge$co2x,3)\n",
    "atommerge$ch4mqcls=round(atommerge$ch4noaa-atommerge$ch4qcls,3)\n",
    "atommerge$ch4mucats=round(atommerge$ch4noaa-atommerge$ch4ucats,3)\n",
    "atommerge$ch4mpanther=round(atommerge$ch4noaa-atommerge$ch4panther,3)"
   ]
  },
  {
   "cell_type": "code",
   "execution_count": 37,
   "id": "100400bc-2acd-4f8e-913d-b7a2c5486ecf",
   "metadata": {},
   "outputs": [
    {
     "name": "stdout",
     "output_type": "stream",
     "text": [
      "       year         mon         day        hour         min         sec \n",
      "     144915      144915      144915      144915      144915      144915 \n",
      "       camp         flt        prof         lat         lon         alt \n",
      "     144915      144915      144915      144915      144915      144915 \n",
      "   pressure       theta         co2     co2qcls      co2ao2        co2x \n",
      "     144853      144853      131654       97026      119777      136261 \n",
      "    ch4noaa     ch4qcls    ch4ucats  ch4panther  sf6panther    sf6ucats \n",
      "     136496       75929        6802        7077       15072       13949 \n",
      "      strat      h2oref      n2oref       o3ref     co2mspo    co2mqcls \n",
      "     144915      144770       88108      144781      131654       86894 \n",
      "    co2mao2       co2mx    ch4mqcls   ch4mucats ch4mpanther \n",
      "     108784      130545       71604        6407        6703 \n"
     ]
    }
   ],
   "source": [
    "# write out\n",
    "write(names(atommerge),'../data/aircraft-obs/ATOM_SO_mSPO.txt',ncol=ncol(atommerge))\n",
    "write(t(atommerge),'../data/aircraft-obs/ATOM_SO_mSPO.txt',ncol=ncol(atommerge),append=T)\n",
    "\n",
    "print(apply(!is.na(atommerge),2,sum))"
   ]
  },
  {
   "cell_type": "code",
   "execution_count": null,
   "id": "9fcb885b-0740-4fc8-9aec-977c0780d04d",
   "metadata": {},
   "outputs": [],
   "source": []
  }
 ],
 "metadata": {
  "kernelspec": {
   "display_name": "R [conda env:miniconda3-so-co2-R]",
   "language": "R",
   "name": "conda-env-miniconda3-so-co2-R-r"
  },
  "language_info": {
   "codemirror_mode": "r",
   "file_extension": ".r",
   "mimetype": "text/x-r-source",
   "name": "R",
   "pygments_lexer": "r",
   "version": "4.1.1"
  }
 },
 "nbformat": 4,
 "nbformat_minor": 5
}

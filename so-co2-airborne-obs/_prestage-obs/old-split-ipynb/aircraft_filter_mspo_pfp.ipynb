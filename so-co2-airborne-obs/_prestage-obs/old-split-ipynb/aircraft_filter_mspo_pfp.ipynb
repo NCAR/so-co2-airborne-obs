{
 "cells": [
  {
   "cell_type": "markdown",
   "id": "e4161c08-8864-4146-8806-292c5796aa47",
   "metadata": {
    "tags": []
   },
   "source": [
    "# Filter airborne PFP data\n",
    "- R Program to filter aircraft data for strong local continental influences, subtract off NOAA in situ SPO, and write out flat text files"
   ]
  },
  {
   "cell_type": "code",
   "execution_count": 9,
   "id": "90de9b7e-c5cd-4ff6-bb7a-69b71972bca8",
   "metadata": {
    "tags": []
   },
   "outputs": [],
   "source": [
    "library('ncdf4')\n",
    "library('yaml')"
   ]
  },
  {
   "cell_type": "code",
   "execution_count": 10,
   "id": "73eb10ca-0dbd-4e5f-8a6d-0487d3b33277",
   "metadata": {
    "tags": []
   },
   "outputs": [],
   "source": [
    "project_tmpdir_obs = read_yaml('../_config_calc.yml')$project_tmpdir_obs\n",
    "username = Sys.info()['user']\n",
    "project_tmpdir_obs = gsub('\\\\{\\\\{env\\\\[\\'USER\\'\\\\]\\\\}\\\\}', username, project_tmpdir_obs)"
   ]
  },
  {
   "cell_type": "code",
   "execution_count": 11,
   "id": "7de879ab-ad3a-4fba-9e6a-7765c10f34fa",
   "metadata": {},
   "outputs": [],
   "source": [
    "# read in preprocessed aircraft files from read_aircraft_pfp.r\n",
    "load('HIPPO_PFP.RData')\n",
    "load('ATom_PFP.RData')"
   ]
  },
  {
   "cell_type": "code",
   "execution_count": 12,
   "id": "a9b9a0b4-5a6c-4e5f-bfae-be1d833a0d99",
   "metadata": {},
   "outputs": [],
   "source": [
    "# calculate datetime variables\n",
    "hippodt=ISOdatetime(hippomerge$year,hippomerge$mon,hippomerge$day,hippomerge$hour,hippomerge$min,hippomerge$sec,tz='UTC')\n",
    "atomdt=ISOdatetime(atommerge$year,atommerge$mon,atommerge$day,atommerge$hour,atommerge$min,atommerge$sec,tz='UTC')"
   ]
  },
  {
   "cell_type": "code",
   "execution_count": 13,
   "id": "070f032f-1049-408e-a872-9b9c557b7ca3",
   "metadata": {},
   "outputs": [],
   "source": [
    "# read in NOAA in situ record from SPO\n",
    "sponc=nc_open(paste(project_tmpdir_obs,'/obspack_co2_1_GLOBALVIEWplus_v6.0_2020-09-11/data/nc/co2_spo_surface-insitu_1_allvalid.nc',sep=''))\n",
    "spoco2=data.frame(cbind(ncvar_get(sponc,'time_decimal'),t(ncvar_get(sponc,'time_components')),ncvar_get(sponc,'value')*1E6)) ; colnames(spoco2)=c('date','year','mon','day','hour','min','sec','co2')\n",
    "qcflag=ncvar_get(sponc,'qcflag'); spoco2$co2[substr(qcflag,1,1)!='.']=NA; spoco2$co2[substr(qcflag,2,2)!='.']=NA\n",
    "spodt=ISOdatetime(spoco2$year,spoco2$mon,spoco2$day,spoco2$hour,spoco2$min,spoco2$sec,tz='UTC')"
   ]
  },
  {
   "cell_type": "markdown",
   "id": "92c0bcbf-e42f-4ed1-806a-05b6a63452a8",
   "metadata": {},
   "source": [
    "# HIPPO"
   ]
  },
  {
   "cell_type": "code",
   "execution_count": 14,
   "id": "6b6ca375-fb40-49a6-a974-0c11bc8a1a78",
   "metadata": {},
   "outputs": [
    {
     "name": "stdout",
     "output_type": "stream",
     "text": [
      "[1] \"Filtered 14 of 1374 HIPPO obs (1%)\"\n"
     ]
    }
   ],
   "source": [
    "# filter\n",
    "ints=read.table(paste(project_tmpdir_obs,'/hippo_xsect_filt_datetime.txt',sep=''),header=T) \n",
    "startdt=ISOdatetime(ints$startyear,ints$startmon,ints$startday,ints$starthour,ints$startmin,ints$startsec,tz='UTC')\n",
    "stopdt=ISOdatetime(ints$stopyear,ints$stopmon,ints$stopday,ints$stophour,ints$stopmin,ints$stopsec,tz='UTC')\n",
    "blfilt=rep(T,nrow(hippomerge))\n",
    "for(i in c(1:nrow(ints))){\n",
    "blfilt[difftime(hippodt,startdt[i])>=0&difftime(hippodt,stopdt[i])<=0]=F\n",
    "}\n",
    "hippodt=hippodt[blfilt]\n",
    "hippomerge=hippomerge[blfilt,]\n",
    "print(paste('Filtered ',sum(!blfilt),' of ',length(blfilt),' HIPPO obs (',round(sum(!blfilt)/length(blfilt)*100,1),'%)',sep=''))"
   ]
  },
  {
   "cell_type": "code",
   "execution_count": 15,
   "id": "01e180ad-a1eb-4a72-9b29-2efc08973b85",
   "metadata": {},
   "outputs": [],
   "source": [
    "# calculate differences\n",
    "hippomerge$co2mspo=round(hippomerge$co2-approx(as.POSIXct(spodt),spoco2$co2,as.POSIXct(hippodt))$y,3) ## co2 = 'CO2_CCG'\n",
    "hippomerge$co2mqcls=round(hippomerge$co2-hippomerge$co2qcls,3)\n",
    "hippomerge$co2moms=round(hippomerge$co2-hippomerge$co2oms,3)\n",
    "hippomerge$co2mao2=round(hippomerge$co2-hippomerge$co2ao2,3)\n",
    "hippomerge$ch4mqcls=round(hippomerge$ch4pfp-hippomerge$ch4qcls,3)"
   ]
  },
  {
   "cell_type": "code",
   "execution_count": 16,
   "id": "df7a7b38-a6a4-479a-aa69-51a11088b7cc",
   "metadata": {},
   "outputs": [
    {
     "name": "stdout",
     "output_type": "stream",
     "text": [
      "    year      mon      day     hour      min      sec     camp      flt \n",
      "    1360     1360     1360     1360     1360     1360     1360     1360 \n",
      "    prof      lat      lon      alt pressure    theta      co2  co2qcls \n",
      "    1360     1360     1360     1360     1355     1355     1296      944 \n",
      "  co2oms   co2ao2   ch4pfp  ch4qcls   sf6pfp    strat   h2oref   n2oref \n",
      "     995     1125     1348     1010     1347     1360     1360     1355 \n",
      "   o3ref  co2mspo co2mqcls  co2moms  co2mao2 ch4mqcls \n",
      "    1350     1296      911      965     1071     1000 \n"
     ]
    }
   ],
   "source": [
    "# write out\n",
    "write(names(hippomerge),'../data/aircraft-obs/HIPPO_SO_mSPO_pfp.txt',ncol=ncol(hippomerge))\n",
    "write(t(hippomerge),'../data/aircraft-obs/HIPPO_SO_mSPO_pfp.txt',ncol=ncol(hippomerge),append=T)\n",
    "\n",
    "print(apply(!is.na(hippomerge),2,sum))"
   ]
  },
  {
   "cell_type": "markdown",
   "id": "14f265a3-2154-481f-a28f-ff4bc848d4d2",
   "metadata": {},
   "source": [
    "# ATom"
   ]
  },
  {
   "cell_type": "code",
   "execution_count": 17,
   "id": "6c6fed9d-e169-4e44-a505-0d146e8e10ae",
   "metadata": {},
   "outputs": [
    {
     "name": "stdout",
     "output_type": "stream",
     "text": [
      "[1] \"Filtered 13 of 875 ATom obs (1.5%)\"\n"
     ]
    }
   ],
   "source": [
    "# filter\n",
    "ints=read.table(paste(project_tmpdir_obs,'/atom_xsect_filt_datetime.txt',sep=''),header=T)\n",
    "startdt=ISOdatetime(ints$startyear,ints$startmon,ints$startday,ints$starthour,ints$startmin,ints$startsec,tz='UTC')\n",
    "stopdt=ISOdatetime(ints$stopyear,ints$stopmon,ints$stopday,ints$stophour,ints$stopmin,ints$stopsec,tz='UTC')\n",
    "blfilt=rep(T,nrow(atommerge))\n",
    "for(i in c(1:nrow(ints))){\n",
    "    blfilt[difftime(atomdt,startdt[i])>=0&difftime(atomdt,stopdt[i])<=0]=F\n",
    "}\n",
    "atomdt=atomdt[blfilt]\n",
    "atommerge=atommerge[blfilt,]\n",
    "print(paste('Filtered ',sum(!blfilt),' of ',length(blfilt),' ATom obs (',round(sum(!blfilt)/length(blfilt)*100,1),'%)',sep=''))"
   ]
  },
  {
   "cell_type": "code",
   "execution_count": 18,
   "id": "825e95f3-00fd-4841-a230-04e46f1437a5",
   "metadata": {},
   "outputs": [],
   "source": [
    "# calculate differences\n",
    "atommerge$co2mspo=round(atommerge$co2-approx(as.POSIXct(spodt),spoco2$co2,as.POSIXct(atomdt))$y,2) ## co2 = 'CO2_PFP'\n",
    "atommerge$co2mqcls=round(atommerge$co2-atommerge$co2qcls,3)\n",
    "atommerge$co2mao2=round(atommerge$co2-atommerge$co2ao2,3)\n",
    "atommerge$co2mnoaa=round(atommerge$co2-atommerge$co2noaa,3)\n",
    "atommerge$ch4mqcls=round(atommerge$ch4pfp-atommerge$ch4qcls,3)\n",
    "atommerge$ch4mnoaa=round(atommerge$ch4pfp-atommerge$ch4noaa,3)"
   ]
  },
  {
   "cell_type": "code",
   "execution_count": 19,
   "id": "fa7dc967-6c55-4e55-a20d-2501c71886fc",
   "metadata": {},
   "outputs": [
    {
     "name": "stdout",
     "output_type": "stream",
     "text": [
      "    year      mon      day     hour      min      sec     camp      flt \n",
      "     862      862      862      862      862      862      862      862 \n",
      "    prof      lat      lon      alt pressure    theta      co2  co2noaa \n",
      "     862      862      862      862      862      862      859      838 \n",
      " co2qcls   co2ao2   ch4pfp  ch4noaa  ch4qcls   sf6pfp    strat   h2oref \n",
      "     592      742      849      838      585      849      862      862 \n",
      "  n2oref    o3ref  co2mspo co2mqcls  co2mao2 co2mnoaa ch4mqcls ch4mnoaa \n",
      "     860      862      859      591      739      835      577      826 \n"
     ]
    }
   ],
   "source": [
    "# write out\n",
    "write(names(atommerge),'../data/aircraft-obs/ATOM_SO_mSPO_pfp.txt',ncol=ncol(atommerge))\n",
    "write(t(atommerge),'../data/aircraft-obs/ATOM_SO_mSPO_pfp.txt',ncol=ncol(atommerge),append=T)\n",
    "\n",
    "print(apply(!is.na(atommerge),2,sum))"
   ]
  }
 ],
 "metadata": {
  "kernelspec": {
   "display_name": "R [conda env:miniconda3-so-co2-R]",
   "language": "R",
   "name": "conda-env-miniconda3-so-co2-R-r"
  },
  "language_info": {
   "codemirror_mode": "r",
   "file_extension": ".r",
   "mimetype": "text/x-r-source",
   "name": "R",
   "pygments_lexer": "r",
   "version": "4.1.1"
  }
 },
 "nbformat": 4,
 "nbformat_minor": 5
}

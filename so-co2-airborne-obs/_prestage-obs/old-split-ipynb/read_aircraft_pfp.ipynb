{
 "cells": [
  {
   "cell_type": "markdown",
   "id": "9e6c7d38-0c16-4548-9fd4-0dca20614dfd",
   "metadata": {
    "tags": []
   },
   "source": [
    "# Process airborne PFP merge files\n",
    "- R Program to read in HIPPO, ORCAS, and ATom PFP merge files, massage time variables, add a strat flag, subset, and write to RData object for use by aircraft_filter_mspo_pfp.r"
   ]
  },
  {
   "cell_type": "code",
   "execution_count": 17,
   "id": "2222c238-4119-45c9-a851-38d30022e6a1",
   "metadata": {
    "tags": []
   },
   "outputs": [],
   "source": [
    "library('ncdf4')\n",
    "library('yaml')"
   ]
  },
  {
   "cell_type": "code",
   "execution_count": 18,
   "id": "d77e6375-91c6-4881-a872-369cb569a3aa",
   "metadata": {
    "tags": []
   },
   "outputs": [],
   "source": [
    "project_tmpdir_obs = read_yaml('../_config_calc.yml')$project_tmpdir_obs\n",
    "username = Sys.info()['user']\n",
    "project_tmpdir_obs = gsub('\\\\{\\\\{env\\\\[\\'USER\\'\\\\]\\\\}\\\\}', username, project_tmpdir_obs)"
   ]
  },
  {
   "cell_type": "code",
   "execution_count": 19,
   "id": "926a89c8-e69e-4a07-b0e2-507dfd85aa8b",
   "metadata": {
    "tags": []
   },
   "outputs": [],
   "source": [
    "# specify aircraft data file names\n",
    "hippomergefile=paste(project_tmpdir_obs,'/aircraft-merge-products/HIPPO_noaa_flask_allparams_merge_insitu_20121129.tbl',sep='') # this is the official HIPPO merge product\n",
    "atommergedir=paste(project_tmpdir_obs,'/aircraft-merge-products',sep='') # these are version 2.0 (21-08-26)\n",
    "atommergefiles=c('MER-PFP_DC8_ATom-2.nc','MER-PFP_DC8_ATom-3.nc','MER-PFP_DC8_ATom-4.nc') # no ATom-1 PFP data\n",
    "# no ORCAS PFP data"
   ]
  },
  {
   "cell_type": "code",
   "execution_count": 20,
   "id": "23bb5b16-892c-457a-85d4-c99ab012b124",
   "metadata": {},
   "outputs": [],
   "source": [
    "# set strat flag cutoffs for use below based upon Jin et al., 2021 (https://doi.org/10.5194/acp-21-217-2021)\n",
    "stratcoh2o=50\n",
    "stratcoo3=150\n",
    "stratcon2o=319"
   ]
  },
  {
   "cell_type": "code",
   "execution_count": 21,
   "id": "19b6acef-3c82-4fbd-a598-3c0733bc063c",
   "metadata": {},
   "outputs": [],
   "source": [
    "# read in global N2O for detrending aircraft N2O\n",
    "glbn2ofile=url('ftp://aftp.cmdl.noaa.gov/products/trends/n2o/n2o_annmean_gl.txt')\n",
    "hlines=61\n",
    "glbn2o=read.table(glbn2ofile,skip=hlines,header=F,stringsAsFactors=F)\n",
    "colnames(glbn2o)=c('year','n2o','unc')"
   ]
  },
  {
   "cell_type": "code",
   "execution_count": 22,
   "id": "170e908c-b0f4-4fce-b0b4-75ebba15224a",
   "metadata": {},
   "outputs": [],
   "source": [
    "# for HIPPO, need to interpolate prof variable from 10-sec merge - load from read_aircraft_10s.ipynb output before reading PFP data below\n",
    "load('HIPPO_10s.RData')\n",
    "hippomerge10s=hippomerge # 'hippomerge' reused below\n",
    "# names(hippomerge)=c('year','mon','day','hour','min','sec','camp','flt','prof','lat','lon','alt','pressure','theta','co2','co2qcls','co2oms','co2ao2','ch4qcls','ch4ucats','ch4panther',\n",
    "# 'sf6panther','sf6ucats','sf6pfp','strat','h2oref','n2oref','o3ref') ## 'co2' = CO2.X\n",
    "hippo10sdt=ISOdatetime(hippomerge$year,hippomerge$mon,hippomerge$day,hippomerge$hour,hippomerge$min,hippomerge$sec,tz='UTC')"
   ]
  },
  {
   "cell_type": "markdown",
   "id": "aff075dc-f9da-4b69-a625-7cc15d25d126",
   "metadata": {},
   "source": [
    "# read in HIPPO file, calc strat flag, subset, and output"
   ]
  },
  {
   "cell_type": "code",
   "execution_count": 23,
   "id": "0202a35f-dacb-42f8-90ad-0927c81b1f7c",
   "metadata": {
    "tags": []
   },
   "outputs": [],
   "source": [
    "# read and add time variables\n",
    "hippomerge=read.table(hippomergefile,header=T)\n",
    "hippodt=strptime(paste(hippomerge[,\"Year\"],hippomerge[,\"DOY\"]),format='%Y %j',tz='UTC')+hippomerge[,\"UTC\"] # DOY is day of year of takeoff; UTC is seconds since midnight on day of takeoff\n",
    "hippomerge$Month=as.POSIXlt(hippodt)$mon+1\n",
    "hippomerge$Day=as.POSIXlt(hippodt)$mday\n",
    "hippomerge$Hour=as.POSIXlt(hippodt)$hour\n",
    "hippomerge$Min=as.POSIXlt(hippodt)$min\n",
    "hippomerge$Sec=as.POSIXlt(hippodt)$sec"
   ]
  },
  {
   "cell_type": "code",
   "execution_count": 24,
   "id": "73758289-bd00-4588-bb67-aa2fe85da16d",
   "metadata": {},
   "outputs": [],
   "source": [
    "# interpolate prof from 10 sec file\n",
    "hippomerge$prof=approx(as.POSIXct(hippo10sdt),hippomerge10s$prof,as.POSIXct(hippodt),method='constant',f=0)$y"
   ]
  },
  {
   "cell_type": "code",
   "execution_count": 25,
   "id": "13f9b153-e2a0-4ab2-b7ce-5b360585e2c3",
   "metadata": {},
   "outputs": [],
   "source": [
    "# add strat flag\n",
    "hippomerge$strat=rep(0,nrow(hippomerge)) # 0 means trop\n",
    "h2oref=hippomerge$H2Oppmv_vxl; h2oref[is.na(h2oref)]=hippomerge$H2O_UWV[is.na(h2oref)]\n",
    "hippomerge$h2oref=h2oref # for output\n",
    "h2oref[is.na(h2oref)]=0 # if H2O missing treat as if potentially strat\n",
    "n2oref=hippomerge$N2O_CCG; n2oref[is.na(n2oref)]=hippomerge$N2O_QCLS[is.na(n2oref)]\n",
    "n2oref=n2oref-(approx(glbn2o$year+0.5,glbn2o$n2o,hippomerge$Year+hippomerge$DOY/365)$y-glbn2o$n2o[glbn2o$year==2009])\n",
    "hippomerge$n2oref=n2oref # for output\n",
    "n2oref[is.na(n2oref)]=400 # if N2O missing do not use for filter\n",
    "o3ref=hippomerge$O3_ppb; o3ref[is.na(o3ref)]=hippomerge$O3_UO3[is.na(o3ref)]\n",
    "hippomerge$o3ref=o3ref # for output\n",
    "o3ref[is.na(o3ref)]=0 # if O3 missing do not use for filter\n",
    "hippomerge$strat[h2oref<stratcoh2o&(o3ref>stratcoo3|n2oref<stratcon2o|(o3ref==0&n2oref==400))]=1 # if either o3 or n2o criteria are met, or if both are missing, consider strat\n",
    "hippomerge$strat[h2oref==0&o3ref==0&n2oref==400&hippomerge$GGALT<8000]=0 # if all 3 missing assume < 8 km is trop"
   ]
  },
  {
   "cell_type": "code",
   "execution_count": 26,
   "id": "90f6ad06-3ca7-4042-916f-98ec3d1a57b0",
   "metadata": {},
   "outputs": [],
   "source": [
    "# select columns and save\n",
    "colsel=c('Year','Month','Day','Hour','Min','Sec','H.no','flt','prof','GGLAT','GGLON','GGALT','PSXC','THETA','CO2_CCG','CO2_QCLS','CO2_OMS','CO2_AO2','CH4_CCG','CH4_QCLS','SF6_CCG','strat','h2oref','n2oref','o3ref')\n",
    "hippomerge=hippomerge[,is.element(colnames(hippomerge),colsel)]\n",
    "hippomerge=hippomerge[,match(colsel,names(hippomerge))] # reorder\n",
    "names(hippomerge)=c('year','mon','day','hour','min','sec','camp','flt','prof','lat','lon','alt','pressure','theta','co2','co2qcls','co2oms','co2ao2','ch4pfp','ch4qcls','sf6pfp','strat','h2oref','n2oref','o3ref') ## 'co2' = CO2_CCG = co2pfp\n",
    "save('hippomerge',file='HIPPO_PFP.RData')"
   ]
  },
  {
   "cell_type": "markdown",
   "id": "98e2f6b3-3ea4-4057-9d11-f52a0d8ff884",
   "metadata": {},
   "source": [
    "# read in ATom files, calc strat flag, subset, and output"
   ]
  },
  {
   "cell_type": "code",
   "execution_count": 27,
   "id": "aa0d531e-dc8b-4a45-b6fb-249509d72a86",
   "metadata": {
    "tags": []
   },
   "outputs": [],
   "source": [
    "# read and add time variables\n",
    "atomvar=c('time','Flight_Date','DLH-H2O/H2O_DLH','UCATS-H2O/H2O_UWV','UCATS-O3/O3_UCATS','QCLS-CH4-CO-N2O/N2O_QCLS','NOyO3-O3/O3_CL','MMS/G_ALT','RF','prof.no','MMS/P','MMS/POT','MMS/G_LAT','MMS/G_LONG',\n",
    "          'MMS/G_ALT','NOAA-Picarro/CO2_NOAA','QCLS-CO2/CO2_QCLS','AO2/CO2_AO2','CO2.X','NOAA-Picarro/CH4_NOAA','QCLS-CH4-CO-N2O/CH4_QCLS','PFP/CO2_PFP','PFP/CH4_PFP','PFP/N2O_PFP','PFP/SF6_CCGG_PFP')\n",
    "atommerge=NULL\n",
    "for(i in c(1:3)){\n",
    "\tatomnc=nc_open(paste(atommergedir,'/',atommergefiles[i],sep=''))\n",
    "       \tcount=length(ncvar_get(atomnc,'time'))\n",
    "\tcampdata=NULL\n",
    "        for(var in atomvar){\n",
    "\t\tcampdata=cbind(campdata,ncvar_get(atomnc,var))\n",
    "        }\n",
    "\tcampdata=cbind(campdata,rep(i+1,count)) # A.no\n",
    "       \tnc_close(atomnc)\n",
    "\tatommerge=rbind(atommerge,campdata)\n",
    "}\n",
    "atommerge=data.frame(atommerge,stringsAsFactors=F)\n",
    "names(atommerge)=c(gsub('.*/','',atomvar),'A.no')\n",
    "atommerge$YYYYMMDD=atommerge$Flight_Date\n",
    "atomdt=as.POSIXlt(ISOdatetime(2016,1,1,0,0,0,tz='UTC')+atommerge$time,tz='UTC')\n",
    "atommerge$Year=atomdt$year+1900\n",
    "atommerge$Month=as.POSIXlt(atomdt)$mon+1\n",
    "atommerge$Day=as.POSIXlt(atomdt)$mday\n",
    "atommerge$Hour=as.POSIXlt(atomdt)$hour\n",
    "atommerge$Min=as.POSIXlt(atomdt)$min\n",
    "atommerge$Sec=as.POSIXlt(atomdt)$sec"
   ]
  },
  {
   "cell_type": "code",
   "execution_count": 28,
   "id": "52edd60c-bbe4-4942-8373-cbda36f20f7e",
   "metadata": {},
   "outputs": [],
   "source": [
    "# add strat flag\n",
    "atommerge$strat=rep(0,nrow(atommerge)) # 0 means trop\n",
    "h2oref=atommerge$H2O_DLH; h2oref[is.na(h2oref)]=atommerge$H2O_UWV[is.na(h2oref)]\n",
    "atommerge$h2oref=h2oref # for output\n",
    "h2oref[is.na(h2oref)]=0 # if H2O missing treat as if potentially strat\n",
    "n2oref=atommerge$N2O_QCLS; n2oref[is.na(n2oref)]=atommerge$N2O_PFP[is.na(n2oref)]\n",
    "n2oref=n2oref-(approx(glbn2o$year+0.5,glbn2o$n2o,atommerge$Year+atomdt$yday/365)$y-glbn2o$n2o[glbn2o$year==2009])\n",
    "atommerge$n2oref=n2oref # for outptut\n",
    "n2oref[is.na(n2oref)]=400 # if N2O missing do not use for filter\n",
    "o3ref=atommerge$O3_CL; o3ref[is.na(o3ref)]=atommerge$O3_UCATS[is.na(o3ref)]\n",
    "\n",
    "atommerge$o3ref=o3ref\n",
    "o3ref[is.na(o3ref)]=0 # if O3 missing do not use for filter\n",
    "atommerge$strat[h2oref<stratcoh2o&(o3ref>stratcoo3|n2oref<stratcon2o|(o3ref==0&n2oref==400))]=1 # if either o3 or n2o criteria are met, or if both are missing, consider strat\n",
    "atommerge$strat[h2oref==0&o3ref==0&n2oref==400&atommerge$G_ALT<8000]=0 # if all 3 missing assume < 8 km is trop"
   ]
  },
  {
   "cell_type": "code",
   "execution_count": 29,
   "id": "202d8563-cdd4-4b6d-bebe-ea0af2b495fd",
   "metadata": {},
   "outputs": [],
   "source": [
    "# select column and save\n",
    "colsel=c('Year','Month','Day','Hour','Min','Sec','A.no','RF','prof.no','G_LAT','G_LONG','G_ALT','P','POT','CO2_PFP','CO2_NOAA','CO2_QCLS','CO2_AO2','CH4_PFP','CH4_NOAA','CH4_QCLS','SF6_CCGG_PFP','strat','h2oref','n2oref','o3ref')\n",
    "atommerge=atommerge[,is.element(colnames(atommerge),colsel)]\n",
    "atommerge=atommerge[,match(colsel,names(atommerge))] # reorder\n",
    "names(atommerge)=c('year','mon','day','hour','min','sec','camp','flt','prof','lat','lon','alt','pressure','theta','co2','co2noaa','co2qcls','co2ao2','ch4pfp','ch4noaa','ch4qcls','sf6pfp','strat','h2oref','n2oref','o3ref') ## 'co2' = CO2_PFP\n",
    "save('atommerge',file='ATom_PFP.RData')\n"
   ]
  }
 ],
 "metadata": {
  "kernelspec": {
   "display_name": "R [conda env:miniconda3-so-co2-R]",
   "language": "R",
   "name": "conda-env-miniconda3-so-co2-R-r"
  },
  "language_info": {
   "codemirror_mode": "r",
   "file_extension": ".r",
   "mimetype": "text/x-r-source",
   "name": "R",
   "pygments_lexer": "r",
   "version": "4.1.1"
  }
 },
 "nbformat": 4,
 "nbformat_minor": 5
}

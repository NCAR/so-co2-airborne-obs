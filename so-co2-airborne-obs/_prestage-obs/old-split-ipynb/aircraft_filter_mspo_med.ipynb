{
 "cells": [
  {
   "cell_type": "markdown",
   "id": "738f4b5a-ce18-4ec8-9c90-58657cb881c5",
   "metadata": {},
   "source": [
    "# Filter airborne Medusa data\n",
    "- R Program to filter aircraft data for strong local continental influences, subtract off NOAA in situ SPO, and write out flat text files"
   ]
  },
  {
   "cell_type": "code",
   "execution_count": 19,
   "id": "51f7d3a7-ee43-46d6-9176-da81b6590442",
   "metadata": {
    "tags": []
   },
   "outputs": [],
   "source": [
    "library('ncdf4')\n",
    "library('yaml')"
   ]
  },
  {
   "cell_type": "code",
   "execution_count": 20,
   "id": "acbc0cb6-5588-42df-91b0-10737894fd00",
   "metadata": {
    "tags": []
   },
   "outputs": [],
   "source": [
    "project_tmpdir_obs = read_yaml('../_config_calc.yml')$project_tmpdir_obs\n",
    "username = Sys.info()['user']\n",
    "project_tmpdir_obs = gsub('\\\\{\\\\{env\\\\[\\'USER\\'\\\\]\\\\}\\\\}', username, project_tmpdir_obs)"
   ]
  },
  {
   "cell_type": "code",
   "execution_count": 21,
   "id": "94ff5ec7-4c1b-4b40-9644-2cdf894f2a95",
   "metadata": {},
   "outputs": [],
   "source": [
    "# read in preprocessed aircraft files from read_aircraft_med.r\n",
    "load('HIPPO_MED.RData')\n",
    "load('ORCAS_MED.RData')\n",
    "load('ATom_MED.RData')"
   ]
  },
  {
   "cell_type": "code",
   "execution_count": 22,
   "id": "39095b73-5b1e-4732-80ad-67dee86d9a2e",
   "metadata": {},
   "outputs": [],
   "source": [
    "# calculate datetime variables\n",
    "hippodt=ISOdatetime(hippomerge$year,hippomerge$mon,hippomerge$day,hippomerge$hour,hippomerge$min,hippomerge$sec,tz='UTC')\n",
    "orcasdt=ISOdatetime(orcasmerge$year,orcasmerge$mon,orcasmerge$day,orcasmerge$hour,orcasmerge$min,orcasmerge$sec,tz='UTC')\n",
    "atomdt=ISOdatetime(atommerge$year,atommerge$mon,atommerge$day,atommerge$hour,atommerge$min,atommerge$sec,tz='UTC')"
   ]
  },
  {
   "cell_type": "code",
   "execution_count": 23,
   "id": "7b8bcec7-26da-487e-af29-0abfa5fda13d",
   "metadata": {},
   "outputs": [],
   "source": [
    "# read in NOAA in situ record from SPO\n",
    "sponc=nc_open(paste(project_tmpdir_obs,'/obspack_co2_1_GLOBALVIEWplus_v6.0_2020-09-11/data/nc/co2_spo_surface-insitu_1_allvalid.nc',sep=''))\n",
    "spoco2=data.frame(cbind(ncvar_get(sponc,'time_decimal'),t(ncvar_get(sponc,'time_components')),ncvar_get(sponc,'value')*1E6)) ; colnames(spoco2)=c('date','year','mon','day','hour','min','sec','co2')\n",
    "qcflag=ncvar_get(sponc,'qcflag'); spoco2$co2[substr(qcflag,1,1)!='.']=NA; spoco2$co2[substr(qcflag,2,2)!='.']=NA\n",
    "spodt=ISOdatetime(spoco2$year,spoco2$mon,spoco2$day,spoco2$hour,spoco2$min,spoco2$sec,tz='UTC')"
   ]
  },
  {
   "cell_type": "markdown",
   "id": "34233464-1b0f-424d-abbb-a53eccab054b",
   "metadata": {},
   "source": [
    "# HIPPO"
   ]
  },
  {
   "cell_type": "code",
   "execution_count": 24,
   "id": "fe47a421-cbb9-43a5-9799-b949a2904c00",
   "metadata": {},
   "outputs": [
    {
     "name": "stdout",
     "output_type": "stream",
     "text": [
      "[1] \"Filtered 12 of 1690 HIPPO obs (0.7%)\"\n"
     ]
    }
   ],
   "source": [
    "# filter\n",
    "ints=read.table(paste(project_tmpdir_obs,'/hippo_xsect_filt_datetime.txt',sep=''),header=T) \n",
    "startdt=ISOdatetime(ints$startyear,ints$startmon,ints$startday,ints$starthour,ints$startmin,ints$startsec,tz='UTC')\n",
    "stopdt=ISOdatetime(ints$stopyear,ints$stopmon,ints$stopday,ints$stophour,ints$stopmin,ints$stopsec,tz='UTC')\n",
    "blfilt=rep(T,nrow(hippomerge))\n",
    "for(i in c(1:nrow(ints))){\n",
    "    blfilt[difftime(hippodt,startdt[i])>=0&difftime(hippodt,stopdt[i])<=0]=F\n",
    "}\n",
    "hippodt=hippodt[blfilt]\n",
    "hippomerge=hippomerge[blfilt,]\n",
    "print(paste('Filtered ',sum(!blfilt),' of ',length(blfilt),' HIPPO obs (',round(sum(!blfilt)/length(blfilt)*100,1),'%)',sep=''))"
   ]
  },
  {
   "cell_type": "code",
   "execution_count": 25,
   "id": "f1093324-302f-49ea-b528-81eb2a68561e",
   "metadata": {},
   "outputs": [],
   "source": [
    "# calculate differences\n",
    "hippomerge$co2mspo=round(hippomerge$co2-approx(as.POSIXct(spodt),spoco2$co2,as.POSIXct(hippodt))$y,3) ## co2 = 'CO2_MED'\n",
    "hippomerge$co2mqcls=round(hippomerge$co2-hippomerge$co2qcls,3)\n",
    "hippomerge$co2moms=round(hippomerge$co2-hippomerge$co2oms,3)\n",
    "hippomerge$co2mao2=round(hippomerge$co2-hippomerge$co2ao2,3)"
   ]
  },
  {
   "cell_type": "code",
   "execution_count": 26,
   "id": "549b0190-de5c-4911-bf08-55bde5876fe8",
   "metadata": {},
   "outputs": [
    {
     "name": "stdout",
     "output_type": "stream",
     "text": [
      "    year      mon      day     hour      min      sec     camp      flt \n",
      "    1678     1677     1677     1677     1677     1677     1678     1678 \n",
      "    prof      lat      lon      alt pressure    theta      co2  co2qcls \n",
      "    1677     1677     1677     1677     1677     1677     1558     1129 \n",
      "  co2oms   co2ao2    strat   h2oref   n2oref    o3ref  co2mspo co2mqcls \n",
      "    1167     1432     1678     1672     1542     1676     1558     1050 \n",
      " co2moms  co2mao2 \n",
      "    1090     1334 \n"
     ]
    }
   ],
   "source": [
    "# write out\n",
    "write(names(hippomerge),'../data/aircraft-obs/HIPPO_SO_mSPO_medusa.txt',ncol=ncol(hippomerge))\n",
    "write(t(hippomerge),'../data/aircraft-obs/HIPPO_SO_mSPO_medusa.txt',ncol=ncol(hippomerge),append=T)\n",
    "\n",
    "print(apply(!is.na(hippomerge),2,sum))"
   ]
  },
  {
   "cell_type": "markdown",
   "id": "bfe87163-1a27-48cb-b947-f7f3c3b8dbe1",
   "metadata": {},
   "source": [
    "# ORCAS"
   ]
  },
  {
   "cell_type": "code",
   "execution_count": 27,
   "id": "e8a0911a-6427-4250-9266-9ee38504ae4b",
   "metadata": {},
   "outputs": [
    {
     "name": "stdout",
     "output_type": "stream",
     "text": [
      "[1] \"Filtered 9 of 392 ORCAS obs (2.3%)\"\n"
     ]
    }
   ],
   "source": [
    "# filter\n",
    "ints=read.table(paste(project_tmpdir_obs,'/orcas_xsect_filt_datetime.txt',sep=''),header=T)\n",
    "startdt=ISOdatetime(ints$startyear,ints$startmon,ints$startday,ints$starthour,ints$startmin,ints$startsec,tz='UTC')\n",
    "stopdt=ISOdatetime(ints$stopyear,ints$stopmon,ints$stopday,ints$stophour,ints$stopmin,ints$stopsec,tz='UTC')\n",
    "blfilt=rep(T,nrow(orcasmerge))\n",
    "for(i in c(1:nrow(ints))){\n",
    "    blfilt[difftime(orcasdt,startdt[i])>=0&difftime(orcasdt,stopdt[i])<=0]=F\n",
    "}\n",
    "orcasdt=orcasdt[blfilt]\n",
    "orcasmerge=orcasmerge[blfilt,]\n",
    "print(paste('Filtered ',sum(!blfilt),' of ',length(blfilt),' ORCAS obs (',round(sum(!blfilt)/length(blfilt)*100,1),'%)',sep=''))"
   ]
  },
  {
   "cell_type": "code",
   "execution_count": 28,
   "id": "65a04688-d352-4281-8a75-f0ee14ea592d",
   "metadata": {},
   "outputs": [],
   "source": [
    "# calculate differences\n",
    "orcasmerge$co2mspo=round(orcasmerge$co2-approx(as.POSIXct(spodt),spoco2$co2,as.POSIXct(orcasdt))$y,2) ## co2 = 'CO2_MED'\n",
    "orcasmerge$co2mqcls=round(orcasmerge$co2-orcasmerge$co2qcls,3)\n",
    "orcasmerge$co2mx=round(orcasmerge$co2-orcasmerge$co2x,3)\n",
    "orcasmerge$co2mnoaa=round(orcasmerge$co2-orcasmerge$co2noaa,3)\n",
    "orcasmerge$co2mao2=round(orcasmerge$co2-orcasmerge$co2ao2,3)"
   ]
  },
  {
   "cell_type": "code",
   "execution_count": 29,
   "id": "78aeab6c-cb81-4b93-b79d-47326f184f50",
   "metadata": {},
   "outputs": [
    {
     "name": "stdout",
     "output_type": "stream",
     "text": [
      "    year      mon      day     hour      min      sec      flt     prof \n",
      "     383      383      383      383      383      383      383      383 \n",
      "     lat      lon      alt pressure    theta      co2     co2x  co2qcls \n",
      "     383      383      383      383      383      340      361      162 \n",
      " co2noaa   co2ao2    strat   h2oref   n2oref  co2mspo co2mqcls    co2mx \n",
      "     361      337      383      383      366      340      138      320 \n",
      "co2mnoaa  co2mao2 \n",
      "     320      299 \n"
     ]
    }
   ],
   "source": [
    "# write out\n",
    "write(names(orcasmerge),'../data/aircraft-obs/ORCAS_SO_mSPO_medusa.txt',ncol=ncol(orcasmerge))\n",
    "write(t(orcasmerge),'../data/aircraft-obs/ORCAS_SO_mSPO_medusa.txt',ncol=ncol(orcasmerge),append=T)\n",
    "\n",
    "print(apply(!is.na(orcasmerge),2,sum))"
   ]
  },
  {
   "cell_type": "markdown",
   "id": "f3f7eb32-a246-480f-940e-54f71c27f71c",
   "metadata": {},
   "source": [
    "# ATom"
   ]
  },
  {
   "cell_type": "code",
   "execution_count": 30,
   "id": "7d762cf7-b9c7-4924-b710-5bbb2a779545",
   "metadata": {},
   "outputs": [
    {
     "name": "stdout",
     "output_type": "stream",
     "text": [
      "[1] \"Filtered 29 of 1370 ATom obs (2.1%)\"\n"
     ]
    }
   ],
   "source": [
    "# filter\n",
    "ints=read.table(paste(project_tmpdir_obs,'/atom_xsect_filt_datetime.txt',sep=''),header=T)\n",
    "startdt=ISOdatetime(ints$startyear,ints$startmon,ints$startday,ints$starthour,ints$startmin,ints$startsec,tz='UTC')\n",
    "stopdt=ISOdatetime(ints$stopyear,ints$stopmon,ints$stopday,ints$stophour,ints$stopmin,ints$stopsec,tz='UTC')\n",
    "blfilt=rep(T,nrow(atommerge))\n",
    "for(i in c(1:nrow(ints))){\n",
    "    blfilt[difftime(atomdt,startdt[i])>=0&difftime(atomdt,stopdt[i])<=0]=F\n",
    "}\n",
    "atomdt=atomdt[blfilt]\n",
    "atommerge=atommerge[blfilt,]\n",
    "print(paste('Filtered ',sum(!blfilt),' of ',length(blfilt),' ATom obs (',round(sum(!blfilt)/length(blfilt)*100,1),'%)',sep=''))"
   ]
  },
  {
   "cell_type": "code",
   "execution_count": 31,
   "id": "463e20e8-1067-46c9-babc-f66d84093d93",
   "metadata": {},
   "outputs": [],
   "source": [
    "# calculate differences\n",
    "atommerge$co2mspo=round(atommerge$co2-approx(as.POSIXct(spodt),spoco2$co2,as.POSIXct(atomdt))$y,2) ## co2 = 'CO2_MED'\n",
    "atommerge$co2mqcls=round(atommerge$co2-atommerge$co2qcls,3)\n",
    "atommerge$co2mao2=round(atommerge$co2-atommerge$co2ao2,3)\n",
    "atommerge$co2mnoaa=round(atommerge$co2-atommerge$co2noaa,3)"
   ]
  },
  {
   "cell_type": "code",
   "execution_count": 32,
   "id": "95575e42-3f79-4f05-a3d4-a6570ee3686b",
   "metadata": {},
   "outputs": [
    {
     "name": "stdout",
     "output_type": "stream",
     "text": [
      "    year      mon      day     hour      min      sec     camp      flt \n",
      "    1341     1341     1341     1341     1341     1341     1341     1341 \n",
      "    prof      lat      lon      alt pressure    theta      co2  co2noaa \n",
      "    1341     1341     1341     1341     1341     1341     1241     1279 \n",
      " co2qcls   co2ao2  ch4noaa  ch4qcls    strat   h2oref   n2oref    o3ref \n",
      "    1279     1314     1336      962     1341     1032      958     1337 \n",
      " co2mspo co2mqcls  co2mao2 co2mnoaa \n",
      "    1241     1188     1221     1184 \n"
     ]
    }
   ],
   "source": [
    "# write out\n",
    "write(names(atommerge),'../data/aircraft-obs/ATOM_SO_mSPO_medusa.txt',ncol=ncol(atommerge))\n",
    "write(t(atommerge),'../data/aircraft-obs/ATOM_SO_mSPO_medusa.txt',ncol=ncol(atommerge),append=T)\n",
    "\n",
    "print(apply(!is.na(atommerge),2,sum))"
   ]
  },
  {
   "cell_type": "code",
   "execution_count": null,
   "id": "d1e0ac38-e5e5-4191-8bdf-3132d79d3239",
   "metadata": {},
   "outputs": [],
   "source": []
  }
 ],
 "metadata": {
  "kernelspec": {
   "display_name": "R [conda env:miniconda3-so-co2-R]",
   "language": "R",
   "name": "conda-env-miniconda3-so-co2-R-r"
  },
  "language_info": {
   "codemirror_mode": "r",
   "file_extension": ".r",
   "mimetype": "text/x-r-source",
   "name": "R",
   "pygments_lexer": "r",
   "version": "4.1.1"
  }
 },
 "nbformat": 4,
 "nbformat_minor": 5
}

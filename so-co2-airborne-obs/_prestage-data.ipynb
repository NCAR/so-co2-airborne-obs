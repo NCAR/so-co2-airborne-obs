{
 "cells": [
  {
   "cell_type": "markdown",
   "metadata": {},
   "source": [
    "# Prestage data for computation"
   ]
  },
  {
   "cell_type": "code",
   "execution_count": 11,
   "metadata": {},
   "outputs": [
    {
     "name": "stdout",
     "output_type": "stream",
     "text": [
      "The autoreload extension is already loaded. To reload it, use:\n",
      "  %reload_ext autoreload\n"
     ]
    },
    {
     "name": "stderr",
     "output_type": "stream",
     "text": [
      "[autoreload of config failed: Traceback (most recent call last):\n",
      "  File \"/Users/mclong/miniconda3/envs/so-co2/lib/python3.7/site-packages/IPython/extensions/autoreload.py\", line 245, in check\n",
      "    superreload(m, reload, self.old_objects)\n",
      "  File \"/Users/mclong/miniconda3/envs/so-co2/lib/python3.7/site-packages/IPython/extensions/autoreload.py\", line 394, in superreload\n",
      "    module = reload(module)\n",
      "  File \"/Users/mclong/miniconda3/envs/so-co2/lib/python3.7/imp.py\", line 314, in reload\n",
      "    return importlib.reload(module)\n",
      "  File \"/Users/mclong/miniconda3/envs/so-co2/lib/python3.7/importlib/__init__.py\", line 169, in reload\n",
      "    _bootstrap._exec(spec, module)\n",
      "  File \"<frozen importlib._bootstrap>\", line 630, in _exec\n",
      "  File \"<frozen importlib._bootstrap_external>\", line 724, in exec_module\n",
      "  File \"<frozen importlib._bootstrap_external>\", line 860, in get_code\n",
      "  File \"<frozen importlib._bootstrap_external>\", line 791, in source_to_code\n",
      "  File \"<frozen importlib._bootstrap>\", line 219, in _call_with_frames_removed\n",
      "  File \"/Users/mclong/codes/so-co2-airborne-obs/so-co2-airborne-obs/config.py\", line 52\n",
      "    print(f\"setting {parameter} to {TMPDIR}/{parameter}\")\n",
      "        ^\n",
      "SyntaxError: invalid syntax\n",
      "]\n"
     ]
    }
   ],
   "source": [
    "%load_ext autoreload\n",
    "%autoreload 2"
   ]
  },
  {
   "cell_type": "code",
   "execution_count": 14,
   "metadata": {},
   "outputs": [],
   "source": [
    "import os\n",
    "from subprocess import Popen, PIPE\n",
    "import tarfile\n",
    "\n",
    "import xarray as xr\n",
    "xr.set_options(display_style='text')\n",
    "\n",
    "import config"
   ]
  },
  {
   "cell_type": "markdown",
   "metadata": {},
   "source": [
    "## Print storage locations"
   ]
  },
  {
   "cell_type": "code",
   "execution_count": 15,
   "metadata": {},
   "outputs": [
    {
     "name": "stdout",
     "output_type": "stream",
     "text": [
      "error in config: cannot mkdir /glade/work/mclong/so-co2-airborne-obs\n",
      "setting project_tmpdir to /Users/mclong/scratch/tmp/project_tmpdir\n"
     ]
    },
    {
     "data": {
      "text/plain": [
       "'/Users/mclong/scratch/tmp/so-co2-airborne-obs/project_tmpdir'"
      ]
     },
     "execution_count": 15,
     "metadata": {},
     "output_type": "execute_result"
    }
   ],
   "source": [
    "config.get(\"project_tmpdir\")"
   ]
  },
  {
   "cell_type": "code",
   "execution_count": 16,
   "metadata": {},
   "outputs": [
    {
     "name": "stdout",
     "output_type": "stream",
     "text": [
      "error in config: cannot mkdir /glade/work/mclong/so-co2-airborne-obs/obs-data\n",
      "setting project_tmpdir_obs to /Users/mclong/scratch/tmp/project_tmpdir_obs\n"
     ]
    },
    {
     "data": {
      "text/plain": [
       "'/Users/mclong/scratch/tmp/so-co2-airborne-obs/project_tmpdir_obs'"
      ]
     },
     "execution_count": 16,
     "metadata": {},
     "output_type": "execute_result"
    }
   ],
   "source": [
    "config.get(\"project_tmpdir_obs\")"
   ]
  },
  {
   "cell_type": "code",
   "execution_count": 17,
   "metadata": {},
   "outputs": [
    {
     "name": "stdout",
     "output_type": "stream",
     "text": [
      "error in config: cannot mkdir /glade/work/mclong/so-co2-airborne-obs/model-data\n",
      "setting model_data_dir_root to /Users/mclong/scratch/tmp/model_data_dir_root\n"
     ]
    },
    {
     "data": {
      "text/plain": [
       "'/Users/mclong/scratch/tmp/so-co2-airborne-obs/model_data_dir_root'"
      ]
     },
     "execution_count": 17,
     "metadata": {},
     "output_type": "execute_result"
    }
   ],
   "source": [
    "config.get(\"model_data_dir_root\")"
   ]
  },
  {
   "cell_type": "code",
   "execution_count": 32,
   "metadata": {},
   "outputs": [
    {
     "data": {
      "text/plain": [
       "'/glade/work/mclong/so-co2-airborne-obs/model-data/Long-etal-2021-SO-CO2-Science'"
      ]
     },
     "execution_count": 32,
     "metadata": {},
     "output_type": "execute_result"
    }
   ],
   "source": [
    "config.get(\"model_data_dir\")"
   ]
  },
  {
   "cell_type": "code",
   "execution_count": 19,
   "metadata": {},
   "outputs": [
    {
     "data": {
      "text/plain": [
       "'Long-etal-2021-SO-CO2-Science.tar.gz'"
      ]
     },
     "execution_count": 19,
     "metadata": {},
     "output_type": "execute_result"
    }
   ],
   "source": [
    "config.get(\"dash_asset_fname\")"
   ]
  },
  {
   "cell_type": "markdown",
   "metadata": {},
   "source": [
    "## Get data from DASH repo"
   ]
  },
  {
   "cell_type": "code",
   "execution_count": 20,
   "metadata": {},
   "outputs": [
    {
     "name": "stdout",
     "output_type": "stream",
     "text": [
      "error in config: cannot mkdir /glade/work/mclong/so-co2-airborne-obs/model-data\n",
      "setting model_data_dir_root to /Users/mclong/scratch/tmp/model_data_dir_root\n",
      "/Users/mclong/codes/so-co2-airborne-obs/so-co2-airborne-obs/wget-dash-archive.sh: line 4: wget: command not found\n",
      "/Users/mclong/codes/so-co2-airborne-obs/so-co2-airborne-obs/wget-dash-archive.sh: line 153: wget: command not found\n",
      "/Users/mclong/codes/so-co2-airborne-obs/so-co2-airborne-obs/wget-dash-archive.sh: line 153: wget: command not found\n",
      "/Users/mclong/codes/so-co2-airborne-obs/so-co2-airborne-obs/wget-dash-archive.sh: line 211: tac: command not found\n",
      "/Users/mclong/codes/so-co2-airborne-obs/so-co2-airborne-obs/wget-dash-archive.sh: line 211: tac: command not found\n",
      "\n",
      "Running wget-dash-archive.sh version: \n",
      "README.md ...Downloading\n",
      "download failed\n",
      "Long-etal-2021-SO-CO2-Science.tar.gz ...Downloading\n",
      "download failed\n",
      "\n"
     ]
    },
    {
     "ename": "OSError",
     "evalue": "data transfer failed",
     "output_type": "error",
     "traceback": [
      "\u001b[0;31m---------------------------------------------------------------------------\u001b[0m",
      "\u001b[0;31mOSError\u001b[0m                                   Traceback (most recent call last)",
      "\u001b[0;32m~/scratch/tmp/ipykernel_64610/1480168304.py\u001b[0m in \u001b[0;36m<module>\u001b[0;34m\u001b[0m\n\u001b[1;32m     12\u001b[0m         \u001b[0mprint\u001b[0m\u001b[0;34m(\u001b[0m\u001b[0mstderr\u001b[0m\u001b[0;34m.\u001b[0m\u001b[0mdecode\u001b[0m\u001b[0;34m(\u001b[0m\u001b[0;34m'UTF-8'\u001b[0m\u001b[0;34m)\u001b[0m\u001b[0;34m)\u001b[0m\u001b[0;34m\u001b[0m\u001b[0;34m\u001b[0m\u001b[0m\n\u001b[1;32m     13\u001b[0m         \u001b[0mprint\u001b[0m\u001b[0;34m(\u001b[0m\u001b[0mstdout\u001b[0m\u001b[0;34m.\u001b[0m\u001b[0mdecode\u001b[0m\u001b[0;34m(\u001b[0m\u001b[0;34m'UTF-8'\u001b[0m\u001b[0;34m)\u001b[0m\u001b[0;34m)\u001b[0m\u001b[0;34m\u001b[0m\u001b[0;34m\u001b[0m\u001b[0m\n\u001b[0;32m---> 14\u001b[0;31m         \u001b[0;32mraise\u001b[0m \u001b[0mOSError\u001b[0m\u001b[0;34m(\u001b[0m\u001b[0;34m'data transfer failed'\u001b[0m\u001b[0;34m)\u001b[0m\u001b[0;34m\u001b[0m\u001b[0;34m\u001b[0m\u001b[0m\n\u001b[0m\u001b[1;32m     15\u001b[0m \u001b[0;34m\u001b[0m\u001b[0m\n\u001b[1;32m     16\u001b[0m     \u001b[0;31m# untar archive\u001b[0m\u001b[0;34m\u001b[0m\u001b[0;34m\u001b[0m\u001b[0;34m\u001b[0m\u001b[0m\n",
      "\u001b[0;31mOSError\u001b[0m: data transfer failed"
     ]
    }
   ],
   "source": [
    "if not os.path.isdir(config.get(\"model_data_dir\")):\n",
    "    # run wget to stage data\n",
    "    # TODO: support curl too\n",
    "    cwd = os.getcwd()\n",
    "    script = f'{cwd}/wget-dash-archive.sh'\n",
    "\n",
    "    os.chdir(config.get(\"model_data_dir_root\"))\n",
    "\n",
    "    p = Popen(['bash', script], stdout=PIPE, stderr=PIPE)\n",
    "    stdout, stderr = p.communicate()\n",
    "    if p.returncode:    \n",
    "        print(stderr.decode('UTF-8'))\n",
    "        print(stdout.decode('UTF-8'))\n",
    "        raise OSError('data transfer failed')    \n",
    "\n",
    "    # untar archive\n",
    "    assert os.path.isfile(config.get(\"dash_asset_fname\")), f'missing {config.get(\"dash_asset_fname\")}'\n",
    "    tar = tarfile.open(config.get(\"dash_asset_fname\"), \"r:gz\")\n",
    "    tar.extractall()\n",
    "    tar.close()\n",
    "\n",
    "    os.chdir(cwd)\n",
    "\n",
    "os.listdir(config.get(\"model_data_dir\"))"
   ]
  },
  {
   "cell_type": "markdown",
   "metadata": {},
   "source": [
    "## Check on `intake` datasets"
   ]
  },
  {
   "cell_type": "code",
   "execution_count": 34,
   "metadata": {},
   "outputs": [
    {
     "name": "stdout",
     "output_type": "stream",
     "text": [
      "error in config: cannot mkdir /glade/work/mclong/so-co2-airborne-obs\n",
      "setting project_tmpdir to /Users/mclong/scratch/tmp/project_tmpdir\n"
     ]
    }
   ],
   "source": [
    "import models"
   ]
  },
  {
   "cell_type": "code",
   "execution_count": 35,
   "metadata": {},
   "outputs": [
    {
     "data": {
      "text/html": [
       "<pre>&lt;xarray.Dataset&gt;\n",
       "Dimensions:             (time: 432, lat: 180, lon: 360, d2: 2, bnds: 2)\n",
       "Coordinates:\n",
       "  * time                (time) datetime64[ns] 1982-01-15T12:00:00 ... 2017-12...\n",
       "  * lat                 (lat) float32 -89.5 -88.5 -87.5 -86.5 ... 87.5 88.5 89.5\n",
       "  * lon                 (lon) float32 -179.5 -178.5 -177.5 ... 177.5 178.5 179.5\n",
       "Dimensions without coordinates: d2, bnds\n",
       "Data variables: (12/15)\n",
       "    spco2_raw           (time, lat, lon) float32 nan nan nan nan ... nan nan nan\n",
       "    SFCO2_OCN           (time, lat, lon) float32 nan nan nan nan ... nan nan nan\n",
       "    spco2_smoothed      (time, lat, lon) float32 nan nan nan nan ... nan nan nan\n",
       "    SFCO2_OCN_smoothed  (time, lat, lon) float32 nan nan nan nan ... nan nan nan\n",
       "    sol                 (time, lat, lon) float32 nan nan nan nan ... nan nan nan\n",
       "    kw                  (time, lat, lon) float32 nan nan nan nan ... nan nan nan\n",
       "    ...                  ...\n",
       "    dco2_smoothed       (time, lat, lon) float32 nan nan nan nan ... nan nan nan\n",
       "    seamask             (lat, lon) int32 0 0 0 0 0 0 0 0 0 ... 0 0 0 0 0 0 0 0 0\n",
       "    time_bnds           (time, d2) datetime64[ns] 1981-12-31 ... 2017-12-31\n",
       "    lat_bnds            (lat, bnds) float32 -90.0 -89.0 -89.0 ... 89.0 89.0 90.0\n",
       "    lon_bnds            (lon, bnds) float32 -180.0 -179.0 -179.0 ... 179.0 180.0\n",
       "    area                (lat, lon) float64 1.079e+08 1.079e+08 ... 1.079e+08\n",
       "Attributes:\n",
       "    institution:    MPI-MET, Hamburg, Germany (former: ETH Zurich, Switzerland)\n",
       "    institude_id:   MPI\n",
       "    model_id:       SOM-FFN\n",
       "    run_id:         v2018\n",
       "    contact:        Peter Landschutzer (peter.landschuetzer@mpimet.mpg.de)\n",
       "    creation_date:  2019-03-21</pre>"
      ],
      "text/plain": [
       "<xarray.Dataset>\n",
       "Dimensions:             (time: 432, lat: 180, lon: 360, d2: 2, bnds: 2)\n",
       "Coordinates:\n",
       "  * time                (time) datetime64[ns] 1982-01-15T12:00:00 ... 2017-12...\n",
       "  * lat                 (lat) float32 -89.5 -88.5 -87.5 -86.5 ... 87.5 88.5 89.5\n",
       "  * lon                 (lon) float32 -179.5 -178.5 -177.5 ... 177.5 178.5 179.5\n",
       "Dimensions without coordinates: d2, bnds\n",
       "Data variables: (12/15)\n",
       "    spco2_raw           (time, lat, lon) float32 nan nan nan nan ... nan nan nan\n",
       "    SFCO2_OCN           (time, lat, lon) float32 nan nan nan nan ... nan nan nan\n",
       "    spco2_smoothed      (time, lat, lon) float32 nan nan nan nan ... nan nan nan\n",
       "    SFCO2_OCN_smoothed  (time, lat, lon) float32 nan nan nan nan ... nan nan nan\n",
       "    sol                 (time, lat, lon) float32 nan nan nan nan ... nan nan nan\n",
       "    kw                  (time, lat, lon) float32 nan nan nan nan ... nan nan nan\n",
       "    ...                  ...\n",
       "    dco2_smoothed       (time, lat, lon) float32 nan nan nan nan ... nan nan nan\n",
       "    seamask             (lat, lon) int32 0 0 0 0 0 0 0 0 0 ... 0 0 0 0 0 0 0 0 0\n",
       "    time_bnds           (time, d2) datetime64[ns] 1981-12-31 ... 2017-12-31\n",
       "    lat_bnds            (lat, bnds) float32 -90.0 -89.0 -89.0 ... 89.0 89.0 90.0\n",
       "    lon_bnds            (lon, bnds) float32 -180.0 -179.0 -179.0 ... 179.0 180.0\n",
       "    area                (lat, lon) float64 1.079e+08 1.079e+08 ... 1.079e+08\n",
       "Attributes:\n",
       "    institution:    MPI-MET, Hamburg, Germany (former: ETH Zurich, Switzerland)\n",
       "    institude_id:   MPI\n",
       "    model_id:       SOM-FFN\n",
       "    run_id:         v2018\n",
       "    contact:        Peter Landschutzer (peter.landschuetzer@mpimet.mpg.de)\n",
       "    creation_date:  2019-03-21"
      ]
     },
     "execution_count": 35,
     "metadata": {},
     "output_type": "execute_result"
    }
   ],
   "source": [
    "ds = models.dataset_som_ffn.open_dataset()\n",
    "ds"
   ]
  },
  {
   "cell_type": "code",
   "execution_count": null,
   "metadata": {},
   "outputs": [],
   "source": []
  }
 ],
 "metadata": {
  "kernelspec": {
   "display_name": "Python [conda env:so-co2]",
   "language": "python",
   "name": "conda-env-so-co2-py"
  },
  "language_info": {
   "codemirror_mode": {
    "name": "ipython",
    "version": 3
   },
   "file_extension": ".py",
   "mimetype": "text/x-python",
   "name": "python",
   "nbconvert_exporter": "python",
   "pygments_lexer": "ipython3",
   "version": "3.7.11"
  }
 },
 "nbformat": 4,
 "nbformat_minor": 5
}

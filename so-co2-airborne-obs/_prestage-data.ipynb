{
 "cells": [
  {
   "cell_type": "markdown",
   "id": "7745776b-88d9-4dc6-a95d-1859b6d3e460",
   "metadata": {},
   "source": [
    "# Prestage data for computation"
   ]
  },
  {
   "cell_type": "code",
   "execution_count": 19,
   "id": "eabd9a7f-1426-4849-8874-b26a4183e92a",
   "metadata": {},
   "outputs": [
    {
     "name": "stdout",
     "output_type": "stream",
     "text": [
      "The autoreload extension is already loaded. To reload it, use:\n",
      "  %reload_ext autoreload\n"
     ]
    }
   ],
   "source": [
    "%load_ext autoreload\n",
    "%autoreload 2"
   ]
  },
  {
   "cell_type": "code",
   "execution_count": 20,
   "id": "eb5f6475-e021-4354-b59f-8ebc9189d89d",
   "metadata": {},
   "outputs": [],
   "source": [
    "import os\n",
    "from subprocess import Popen, PIPE\n",
    "import tarfile\n",
    "\n",
    "import config"
   ]
  },
  {
   "cell_type": "markdown",
   "id": "4d12fb59-73a5-46b1-b3f1-ee63e1fbcd69",
   "metadata": {},
   "source": [
    "## Print storage locations"
   ]
  },
  {
   "cell_type": "code",
   "execution_count": 21,
   "id": "d01e2ca4-32e9-4e6a-b6d6-52c37d8790c2",
   "metadata": {},
   "outputs": [
    {
     "data": {
      "text/plain": [
       "'/glade/scratch/mclong/tmp/calc-cache'"
      ]
     },
     "execution_count": 21,
     "metadata": {},
     "output_type": "execute_result"
    }
   ],
   "source": [
    "config.project_tmpdir"
   ]
  },
  {
   "cell_type": "code",
   "execution_count": 22,
   "id": "07ba54c0-0b02-4905-908f-84f716629104",
   "metadata": {},
   "outputs": [
    {
     "data": {
      "text/plain": [
       "'/glade/scratch/mclong/tmp/so-co2-airborne-obs/model-data'"
      ]
     },
     "execution_count": 22,
     "metadata": {},
     "output_type": "execute_result"
    }
   ],
   "source": [
    "config.model_data_dir_root"
   ]
  },
  {
   "cell_type": "code",
   "execution_count": 23,
   "id": "c76386aa-6358-46b0-b93b-8815620d0826",
   "metadata": {},
   "outputs": [
    {
     "data": {
      "text/plain": [
       "'/glade/scratch/mclong/tmp/so-co2-airborne-obs/model-data/Long-etal-2021-SO-CO2-Science'"
      ]
     },
     "execution_count": 23,
     "metadata": {},
     "output_type": "execute_result"
    }
   ],
   "source": [
    "config.model_data_dir"
   ]
  },
  {
   "cell_type": "code",
   "execution_count": 24,
   "id": "fd91bd33-c1c4-4730-b00d-ae0e66f02dbb",
   "metadata": {},
   "outputs": [
    {
     "data": {
      "text/plain": [
       "'Long-etal-2021-SO-CO2-Science.tar.gz'"
      ]
     },
     "execution_count": 24,
     "metadata": {},
     "output_type": "execute_result"
    }
   ],
   "source": [
    "config.dash_asset_fname"
   ]
  },
  {
   "cell_type": "markdown",
   "id": "30ac18bb-bc08-4f75-8b2d-5960eddf6e34",
   "metadata": {},
   "source": [
    "## Get data from DASH repo"
   ]
  },
  {
   "cell_type": "code",
   "execution_count": 25,
   "id": "0f4221a3-f3c2-42ac-9822-4875c17d4666",
   "metadata": {},
   "outputs": [
    {
     "data": {
      "text/plain": [
       "['TM5-Flux-mrf',\n",
       " 'TM5-Flux-m0f',\n",
       " 'CT2019B',\n",
       " 's99oc_SOCCOM_v2020',\n",
       " 's99oc_v2020',\n",
       " 's99oc_ADJocI40S_v2020',\n",
       " 'CAMSv20r1',\n",
       " 'CT2017',\n",
       " 'MIROC',\n",
       " 'README.md',\n",
       " 'CTE2018',\n",
       " 'TM5-Flux-mmf',\n",
       " 'TM5-Flux-mwf',\n",
       " 'CTE2020']"
      ]
     },
     "execution_count": 25,
     "metadata": {},
     "output_type": "execute_result"
    }
   ],
   "source": [
    "if not os.path.isdir(config.model_data_dir):\n",
    "    # run wget to stage data\n",
    "    # TODO: support curl too\n",
    "    cwd = os.getcwd()\n",
    "    script = f'{cwd}/wget-dash-archive.sh'\n",
    "\n",
    "    os.chdir(config.model_data_dir_root)\n",
    "\n",
    "    p = Popen(['bash', script], stdout=PIPE, stderr=PIPE)\n",
    "    stdout, stderr = p.communicate()\n",
    "    if p.returncode:    \n",
    "        print(stderr.decode('UTF-8'))\n",
    "        print(stdout.decode('UTF-8'))\n",
    "        raise OSError('data transfer failed')    \n",
    "\n",
    "    # untar archive\n",
    "    assert os.path.isfile(config.dash_asset_fname), f'missing {config.dash_asset_fname}'\n",
    "    tar = tarfile.open(config.dash_asset_fname, \"r:gz\")\n",
    "    tar.extractall()\n",
    "    tar.close()\n",
    "\n",
    "    os.chdir(cwd)\n",
    "\n",
    "os.listdir(config.model_data_dir)"
   ]
  },
  {
   "cell_type": "markdown",
   "id": "2f145928-502b-4f05-9a8d-c5d0a3d24fa6",
   "metadata": {},
   "source": [
    "## Check on `intake` datasets"
   ]
  },
  {
   "cell_type": "code",
   "execution_count": 26,
   "id": "d01a72a3-1022-45fb-aef5-c99560608cc0",
   "metadata": {},
   "outputs": [],
   "source": [
    "import models"
   ]
  },
  {
   "cell_type": "code",
   "execution_count": 27,
   "id": "a10d9b57-9c1d-47db-a31b-ab18f52cebdf",
   "metadata": {},
   "outputs": [],
   "source": [
    "ds = models.dataset_som_ffn.open_dataset()"
   ]
  }
 ],
 "metadata": {
  "kernelspec": {
   "display_name": "Python [conda env:miniconda3-so-co2]",
   "language": "python",
   "name": "conda-env-miniconda3-so-co2-py"
  },
  "language_info": {
   "codemirror_mode": {
    "name": "ipython",
    "version": 3
   },
   "file_extension": ".py",
   "mimetype": "text/x-python",
   "name": "python",
   "nbconvert_exporter": "python",
   "pygments_lexer": "ipython3",
   "version": "3.7.11"
  }
 },
 "nbformat": 4,
 "nbformat_minor": 5
}

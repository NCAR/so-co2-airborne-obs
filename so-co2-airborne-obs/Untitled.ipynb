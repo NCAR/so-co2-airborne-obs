{
 "cells": [
  {
   "cell_type": "code",
   "execution_count": 3,
   "id": "d721eaf1-21a3-4332-a49f-31f484914fa7",
   "metadata": {},
   "outputs": [],
   "source": [
    "import os\n",
    "import yaml"
   ]
  },
  {
   "cell_type": "code",
   "execution_count": 25,
   "id": "783cdeb4-61a9-4cc1-94e4-df3f8f5cdfca",
   "metadata": {},
   "outputs": [],
   "source": [
    "\n",
    "fig_map['f12321'] = 'methane'"
   ]
  },
  {
   "cell_type": "code",
   "execution_count": 35,
   "id": "48233d6e-5126-4cdd-a3ed-53746e043bd0",
   "metadata": {},
   "outputs": [
    {
     "name": "stdout",
     "output_type": "stream",
     "text": [
      "Fig-1-co2-aircraft-surface-obs\n",
      "Fig-2-metrics-seasonal-cycle\n",
      "Fig-3-emergent-constraint-ocean_constraint\n",
      "Fig-4-fluxes-ocean_constraint\n",
      "Fig-S01-flight-tracks\n",
      "Fig-S02-aircraft-sections\n",
      "Fig-S03-zonal-mean-sections-CT2019B\n",
      "Fig-S04-surface-co2-maps\n",
      "Fig-S05-station-coverage\n",
      "Fig-S06-profiles-bottomrow-fff+lnd\n",
      "Fig-S07-seasonal-amplitude\n",
      "Fig-S08-methane\n",
      "Fig-S09-SF6\n",
      "Fig-S10-emergent-constraint-by-campaign-DJF-ocean_constraint\n",
      "Fig-S11-emergent-constraint-by-campaign-MAMJJASON-ocean_constraint\n",
      "Fig-S12-flux-timeseries-ocean_constraint\n",
      "Fig-S13-SPO-CGO-record-discrepancies\n",
      "Fig-S15-LMG-data\n",
      "Fig-S16-figure-3-emergent-constraint-total_constraint\n",
      "Fig-S17-theta-bin-S2N-ocean_constraint\n",
      "Fig-S18-fluxes-region-S2N-ocean_constraint\n",
      "Fig-S19-seasonal-cycle-zonal-representativeness\n",
      "Fig-S08-methane\n"
     ]
    }
   ],
   "source": [
    "\n",
    "\n",
    "for s in fig_map.values():\n",
    "    if s is None: continue\n",
    "    print(_gen_plotname(s))"
   ]
  },
  {
   "cell_type": "code",
   "execution_count": 13,
   "id": "40ba04c0-0749-4d0a-90cc-dd9bf406b258",
   "metadata": {},
   "outputs": [
    {
     "data": {
      "text/plain": [
       "'Fig-S19-seasonal-cycle-zonal-representativeness'"
      ]
     },
     "execution_count": 13,
     "metadata": {},
     "output_type": "execute_result"
    }
   ],
   "source": [
    " "
   ]
  },
  {
   "cell_type": "code",
   "execution_count": null,
   "id": "a20fd84a-1e05-432f-b849-231555a7b0e4",
   "metadata": {},
   "outputs": [],
   "source": []
  }
 ],
 "metadata": {
  "kernelspec": {
   "display_name": "Python [conda env:miniconda3-so-co2]",
   "language": "python",
   "name": "conda-env-miniconda3-so-co2-py"
  },
  "language_info": {
   "codemirror_mode": {
    "name": "ipython",
    "version": 3
   },
   "file_extension": ".py",
   "mimetype": "text/x-python",
   "name": "python",
   "nbconvert_exporter": "python",
   "pygments_lexer": "ipython3",
   "version": "3.7.11"
  }
 },
 "nbformat": 4,
 "nbformat_minor": 5
}

{
 "cells": [
  {
   "cell_type": "markdown",
   "id": "41e63f8a-fb64-4226-b729-b8df8a7a6e60",
   "metadata": {},
   "source": [
    "# Seasonal variation of CO2 over the Southern Ocean from aircraft observations"
   ]
  },
  {
   "cell_type": "code",
   "execution_count": 1,
   "id": "d721eaf1-21a3-4332-a49f-31f484914fa7",
   "metadata": {},
   "outputs": [],
   "source": [
    "%load_ext autoreload\n",
    "%autoreload 2"
   ]
  },
  {
   "cell_type": "code",
   "execution_count": null,
   "id": "783cdeb4-61a9-4cc1-94e4-df3f8f5cdfca",
   "metadata": {},
   "outputs": [],
   "source": [
    "import os\n",
    "import numpy as np\n",
    "import xarray as xr\n",
    "\n",
    "import matplotlib.pyplot as plt\n",
    "import matplotlib.gridspec as gridspec\n",
    "\n",
    "import datasets\n",
    "import emergent_constraint as ec\n",
    "import figure_panels\n",
    "import obs_aircraft\n",
    "import obs_surface\n",
    "import util"
   ]
  },
  {
   "cell_type": "markdown",
   "id": "718e80b0-b885-4026-be02-53a9e57851d7",
   "metadata": {},
   "source": [
    "## Compute trends at SPO \n",
    "\n",
    "Identify the models we're using the analysis."
   ]
  },
  {
   "cell_type": "code",
   "execution_count": null,
   "id": "48233d6e-5126-4cdd-a3ed-53746e043bd0",
   "metadata": {},
   "outputs": [],
   "source": [
    "campaign_info = obs_aircraft.get_campaign_info(verbose=False, lump_orcas=True)"
   ]
  },
  {
   "cell_type": "markdown",
   "id": "d33a9a5a-b317-438e-8289-b6a77f8cf4be",
   "metadata": {},
   "source": [
    "Load the observations and \"simulated\" observations."
   ]
  },
  {
   "cell_type": "code",
   "execution_count": null,
   "id": "a20fd84a-1e05-432f-b849-231555a7b0e4",
   "metadata": {},
   "outputs": [],
   "source": [
    "da_srf = obs_surface.open_surface_co2_data('obs', 'CO2')\n",
    "da_srf = da_srf.sel(record='SPO_NOAA_insitu_CO2')\n",
    "da_srf"
   ]
  },
  {
   "cell_type": "code",
   "execution_count": null,
   "id": "a372e941-30ef-47e9-8e9a-453e80214152",
   "metadata": {},
   "outputs": [],
   "source": [
    "spo_fit = util.apply_stl_decomp(da_srf)\n",
    "spo_fit"
   ]
  },
  {
   "cell_type": "markdown",
   "id": "e8db4ed8-be16-4dd7-b277-c5430c3ab34f",
   "metadata": {},
   "source": [
    "Visualize the fit"
   ]
  },
  {
   "cell_type": "code",
   "execution_count": null,
   "id": "353ea2ed-56f0-43c8-9db7-ed3ec115df2d",
   "metadata": {},
   "outputs": [],
   "source": [
    "fig, axs = plt.subplots(3, 1, figsize=(6, 8), squeeze=False,)\n",
    "\n",
    "spo_fit.observed.plot(label='Data', ax=axs[0, 0])\n",
    "spo_fit.trend.plot(label='STL trend', ax=axs[0, 0])\n",
    "axs[0, 0].set_ylabel('CO$_2$ [ppm]')\n",
    "axs[0, 0].set_xlabel('')\n",
    "axs[0, 0].set_xticklabels([])\n",
    "axs[0, 0].legend()\n",
    "axs[0, 0].set_title('SPO CO$_2$ record', loc='left')\n",
    "\n",
    "spo_fit.seasonal.plot(ax=axs[1, 0])\n",
    "axs[1, 0].axhline(0, linewidth=0.5, color='k')\n",
    "plt.title('Seasonal component of STL fit')\n",
    "axs[1, 0].set_ylabel('Seasonal CO$_2$ [ppm]')\n",
    "axs[1, 0].set_xlabel('')\n",
    "axs[1, 0].set_xticklabels([])\n",
    "axs[1, 0].set_title('STL-diagnosed seasonal cycle', loc='left')\n",
    "\n",
    "spo_fit.resid.plot(ax=axs[2, 0])\n",
    "axs[2, 0].axhline(0, linewidth=0.5, color='k')\n",
    "axs[2, 0].set_ylabel('Residual CO$_2$ [ppm]')\n",
    "axs[2, 0].set_xlabel('')\n",
    "axs[2, 0].set_title('STL-residuals', loc='left')\n",
    "ylm = np.array(axs[2, 0].get_ylim())\n",
    "axs[2, 0].text(\n",
    "    axs[2, 0].get_xlim()[0]+200, ylm[1]-np.diff(ylm)*0.15, \n",
    "    f'r$^2$ = {util.r2(spo_fit):0.4f}',\n",
    "    fontweight='bold',\n",
    "    ha='left',\n",
    ");"
   ]
  },
  {
   "cell_type": "code",
   "execution_count": null,
   "id": "310582b6-5c32-44ce-b262-2a59b0388f37",
   "metadata": {},
   "outputs": [],
   "source": [
    "dsets_prof = datasets.aircraft_profiles('obs')[['co2_med']]\n",
    "dsets_prof"
   ]
  },
  {
   "cell_type": "code",
   "execution_count": null,
   "id": "1efeb415-088a-4d46-8c00-3167b04726e1",
   "metadata": {},
   "outputs": [],
   "source": [
    "spo_trend = xr.DataArray(\n",
    "    np.interp(dsets_prof.time, spo_fit.time, spo_fit.trend),\n",
    "    dims=('profile'), \n",
    ")\n",
    "dco2 = dsets_prof.co2_med - spo_trend\n",
    "dco2"
   ]
  },
  {
   "cell_type": "code",
   "execution_count": null,
   "id": "e9f0b48f-a697-48ac-b3c3-f8a9c8c4c089",
   "metadata": {},
   "outputs": [],
   "source": [
    "xhat = np.arange(-5, 365+5, 1)    \n",
    "yhat = xr.DataArray(np.ones((len(dco2.theta), len(xhat)))*np.nan, \n",
    "                    dims=('theta', 'doy'),\n",
    "                    coords=dict(\n",
    "                        theta=dco2.theta,\n",
    "                        doy=xhat,\n",
    "                    ),\n",
    "                   )\n",
    "\n",
    "doy = dco2.doy.values\n",
    "for k in range(len(dco2.theta)):\n",
    "    x, y = util.antyear_daily(doy, dco2.isel(theta=k).values)\n",
    "    missing = np.isnan(x) | np.isnan(y)\n",
    "    if np.sum(~missing) < 5:\n",
    "        continue\n",
    "    p, pcov = ec.curve_fit(\n",
    "        ec.harmonic, \n",
    "        xdata=x[~missing]/365.25, \n",
    "        ydata=y[~missing], \n",
    "    )\n",
    "\n",
    "    yhat.data[k, :] = ec.harmonic(xhat/365.25, *p)\n",
    "\n",
    "    \n",
    "seasonal_amplitude = (yhat.max('doy') - yhat.min('doy'))\n",
    "yhat.plot()"
   ]
  },
  {
   "cell_type": "code",
   "execution_count": null,
   "id": "e67de1d7-9b97-436a-870a-98a2d0e7b3b6",
   "metadata": {},
   "outputs": [],
   "source": [
    "fig = plt.figure(figsize=(8, 4)) #dpi=300)\n",
    "\n",
    "c_spec = figure_panels.marker_spec_campaigns(lump_orcas=True)\n",
    "txt_box_props = dict(boxstyle='square,pad=0', facecolor='none', edgecolor='none')\n",
    "\n",
    "# set up plot grid\n",
    "gs = gridspec.GridSpec(\n",
    "    nrows=1, ncols=4, \n",
    "    width_ratios=[0.65, 0.015, 0.075, 0.375],\n",
    "    left=0., right=1.,\n",
    "    bottom=0.05, top=0.95,\n",
    "    hspace=0.25, wspace=0.05,\n",
    ")\n",
    "axs = np.empty((1, 2)).astype(object)\n",
    "axs[0, 0] = plt.subplot(gs[0, 0])\n",
    "cax = plt.subplot(gs[0, 1])\n",
    "axs[0, 1] = plt.subplot(gs[0, 3])\n",
    "\n",
    "ax = axs[0, 0] \n",
    "pc = ax.contourf(\n",
    "              yhat.doy,\n",
    "              yhat.theta.sel(theta=slice(None, 320)), \n",
    "              yhat.sel(theta=slice(None, 320)),\n",
    "              levels=figure_panels.levels,\n",
    "              norm=figure_panels.divnorm,\n",
    "              cmap=figure_panels.cmap,\n",
    "             )\n",
    "\n",
    "for c, info in campaign_info.items():\n",
    "    tb = util.day_of_year(info['time_bound'])\n",
    "    x, _ = util.antyear_daily(tb, np.ones(2))\n",
    "    ax.axvspan(\n",
    "        x[0], x[1], \n",
    "        ymin=0.84 if c == 'ORCAS' else 0.86, \n",
    "        ymax=0.98,\n",
    "        color=c_spec[c]['color'], \n",
    "        alpha=1 if c in ['HIPPO-1', 'ATOM-2'] else 0.75, \n",
    "    )\n",
    "    xtxt = x.mean() + np.diff(x)*0.18\n",
    "    if c == 'ORCAS':\n",
    "        xtxt += 10\n",
    "    ax.text(\n",
    "        xtxt, 320., c,\n",
    "        rotation=90, \n",
    "        ha='center', \n",
    "        verticalalignment='top', \n",
    "        color='k', \n",
    "        fontsize=7,\n",
    "        bbox=txt_box_props,\n",
    "    )\n",
    "    \n",
    "    \n",
    "ax.set_ylim((269., 321.))\n",
    "ax.set_title('Interpolated obs: CO$_2$ minus SPO trend')\n",
    "\n",
    "\n",
    "cb = plt.colorbar(pc, cax=cax)\n",
    "cb.ax.set_title('$\\Delta$CO$_2$ [ppm]      ', loc='center')\n",
    "\n",
    "ax.set_ylabel('$\\\\theta$ [K]')\n",
    "\n",
    "ax.set_xlim((-10, 375))\n",
    "ax.set_xticks(figure_panels.bomday)\n",
    "ax.set_xticklabels([f'        {m}' for m in figure_panels.monlabs_ant]+['']);\n",
    "\n",
    "ax = axs[0, 1]\n",
    "ax.plot(\n",
    "    seasonal_amplitude.sel(theta=slice(None, 320)), \n",
    "    yhat.theta.sel(theta=slice(None, 320)), \n",
    "    '.-', label='Seasonal amplitude')\n",
    "\n",
    "ax.set_yticklabels([]);\n",
    "ax.set_xlabel('Seasonal amplitude [ppm]')\n",
    "ax.axvline(seasonal_amplitude.sel(theta=300.), lw=0.5, c='dimgray', linestyle='--')\n",
    "ax.set_ylim((269., 321.))\n",
    "ax.set_title('Amplitude of seasonal cycle')\n",
    "util.label_plots(fig, [ax for ax in axs.ravel()], xoff=-0.02)\n",
    "\n",
    "util.savefig('seasonal-amplitude')"
   ]
  }
 ],
 "metadata": {
  "kernelspec": {
   "display_name": "Python [conda env:miniconda3-so-co2]",
   "language": "python",
   "name": "conda-env-miniconda3-so-co2-py"
  },
  "language_info": {
   "codemirror_mode": {
    "name": "ipython",
    "version": 3
   },
   "file_extension": ".py",
   "mimetype": "text/x-python",
   "name": "python",
   "nbconvert_exporter": "python",
   "pygments_lexer": "ipython3",
   "version": "3.7.11"
  }
 },
 "nbformat": 4,
 "nbformat_minor": 5
}

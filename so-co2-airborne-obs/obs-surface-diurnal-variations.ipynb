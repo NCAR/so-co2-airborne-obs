{
 "cells": [
  {
   "cell_type": "markdown",
   "id": "0cecd4da-c0ad-47f6-834e-6f955b5c3218",
   "metadata": {
    "tags": []
   },
   "source": [
    "# Climatological mean diurnal CO<sub>2</sub> cycles since 1999 for four stations with in situ instruments\n",
    "- R program"
   ]
  },
  {
   "cell_type": "code",
   "execution_count": 38,
   "id": "a3c32756-df80-411a-9383-dafc489f5155",
   "metadata": {},
   "outputs": [],
   "source": [
    "library('ncdf4')\n",
    "library('yaml')\n",
    "library('RColorBrewer')\n",
    "cols = brewer.pal(6, 'Set1')"
   ]
  },
  {
   "cell_type": "code",
   "execution_count": 39,
   "id": "76aef1ff-2f29-4629-b247-ff5bc106bbc7",
   "metadata": {
    "tags": []
   },
   "outputs": [],
   "source": [
    "project_tmpdir_obs = read_yaml('_config_calc.yml')$project_tmpdir_obs\n",
    "username = Sys.info()['user']\n",
    "project_tmpdir_obs = gsub('\\\\{\\\\{env\\\\[\\'USER\\'\\\\]\\\\}\\\\}', username, project_tmpdir_obs)"
   ]
  },
  {
   "cell_type": "code",
   "execution_count": 40,
   "id": "6dfd1cbd-eb9f-4aee-9d4e-b1108f09630a",
   "metadata": {},
   "outputs": [],
   "source": [
    "meanwin = c(1998.8, 2019.2) # window for calculating means,  inclusive\n",
    "\n",
    "flag = '_Custom'\n",
    "\n",
    "# read in NOAA in situ record from SPO for subtraction\n",
    "file_in = paste(project_tmpdir_obs, 'obspack_co2_1_GLOBALVIEWplus_v6.0_2020-09-11/data/nc/co2_spo_surface-insitu_1_allvalid.nc', sep = '/')\n",
    "\n",
    "sponc = nc_open(file_in)\n",
    "spoco2 = data.frame(cbind(t(ncvar_get(sponc, 'time_components')), ncvar_get(sponc, 'value') * 1E6))\n",
    "\n",
    "colnames(spoco2) = c('year', 'mon', 'day', 'hour', 'min', 'sec', 'co2')\n",
    "\n",
    "qcflag =  ncvar_get(sponc, 'qcflag') \n",
    "spoco2$co2[substr(qcflag, 1, 1) !=  '.'] = NA\n",
    "spoco2$co2[substr(qcflag, 2, 2) !=  '.'] = NA\n",
    "\n",
    "spoco2dt = ISOdatetime(spoco2$year, spoco2$mon, spoco2$day, spoco2$hour, spoco2$min, spoco2$sec, tz = 'UTC') "
   ]
  },
  {
   "cell_type": "code",
   "execution_count": 41,
   "id": "109d5001-7a04-4a3b-99d7-23d08d9f9e9d",
   "metadata": {
    "tags": []
   },
   "outputs": [
    {
     "name": "stdout",
     "output_type": "stream",
     "text": [
      "[1] \"ams\"\n",
      "[1] \"GV+ mean 0.11\"\n",
      "[1] \"Custom mean -0.05\"\n",
      "[1] \"cpt\"\n",
      "[1] \"GV+ mean -0.03\"\n",
      "[1] \"Custom mean -0.19\"\n",
      "[1] \"mqa\"\n",
      "[1] \"Custom mean 0.06\"\n",
      "[1] \"syo\"\n",
      "[1] \"GV+ mean 0.07\"\n"
     ]
    },
    {
     "data": {
      "text/html": [
       "<strong>png:</strong> 2"
      ],
      "text/latex": [
       "\\textbf{png:} 2"
      ],
      "text/markdown": [
       "**png:** 2"
      ],
      "text/plain": [
       "png \n",
       "  2 "
      ]
     },
     "metadata": {},
     "output_type": "display_data"
    }
   ],
   "source": [
    "# set up png\n",
    "png(paste('figures/Fig-S14-suface-diurnal-cycles', flag, '.png', sep = ''), width = 1200, height = 1200, pointsize = 25)\n",
    "par(mfrow = c(2, 2))\n",
    "par(mar = c(3, 3, 2, 1))\n",
    "par(oma = c(2, 2, 0, 0))\n",
    "par(mgp = c(2.5, 0.75, 0))\n",
    "\n",
    "# loop on site\n",
    "siteno = 0\n",
    "for(site in c('ams', 'cpt', 'mqa', 'syo')){\n",
    "\n",
    "    print(site)\n",
    "    siteno = siteno + 1\n",
    "\n",
    "    isgvp = NULL # in situ GlobalView+ record\n",
    "    iscust = NULL # in situ custom record\n",
    "\n",
    "    # read in data\n",
    "    if(site == 'ams'){\n",
    "\n",
    "        file_in = paste('obspack_co2_1_GLOBALVIEWplus_v6.0_2020-09-11/data/nc/co2_', site, '_surface-insitu_11_representative.nc',  sep = '')\n",
    "        file_in = paste(project_tmpdir_obs,  file_in,  sep = \"/\")\n",
    "        is = nc_open(file_in)\n",
    "        isgvp = data.frame(cbind(t(ncvar_get(is, 'time_components')), ncvar_get(is, 'value')*1E6)) \n",
    "        colnames(isgvp) = c('year', 'mon', 'day', 'hour', 'min', 'sec', 'co2')\n",
    "        lon = median(ncvar_get(is, 'longitude'))\n",
    "\n",
    "        # for custom,  now using GV+ 7.0 with flagging ### use GV+ 6.1 instead? if so,  set value_original_scale back to value\n",
    "        file_in = paste('obspack_co2_1_GLOBALVIEWplus_v7.0_2021-08-18/data/nc/co2_', site, '_surface-insitu_11_allvalid.nc', sep = '')\n",
    "        file_in = paste(project_tmpdir_obs,  file_in,  sep = \"/\")\n",
    "        is = nc_open(file_in)\n",
    "        iscust = data.frame(cbind(t(ncvar_get(is, 'time_components')), ncvar_get(is, 'value_original_scale')*1E6)) \n",
    "        colnames(iscust) = c('year', 'mon', 'day', 'hour', 'min', 'sec', 'co2')\n",
    "        iscust$co2[ncvar_get(is, 'obs_flag') == 0] = NA\n",
    "\n",
    "    } else if(site == 'cpt'){\n",
    "\n",
    "        file_in = paste('obspack_co2_1_GLOBALVIEWplus_v6.0_2020-09-11/data/nc/co2_', site, '_surface-insitu_36_marine.nc', sep = '')\n",
    "        file_in = paste(project_tmpdir_obs,  file_in,  sep = \"/\")\n",
    "        is = nc_open(file_in)\n",
    "        isgvp = data.frame(cbind(t(ncvar_get(is, 'time_components')), ncvar_get(is, 'value')*1E6)) \n",
    "        colnames(isgvp) = c('year', 'mon', 'day', 'hour', 'min', 'sec', 'co2')\n",
    "        lon = median(ncvar_get(is, 'longitude'))\n",
    "\n",
    "        # for custom,  using WDCGG 222Rn to filter (WDCGG CO2 is on X2019 so still using ObsPack for CO2)\n",
    "        # filter for 222Rn < 150\n",
    "        file_in = 'WDCGG/nc/222rn/hourly/222rn_cpt_surface-insitu_7_9999-9999_hourly.nc'\n",
    "        file_in = paste(project_tmpdir_obs,  file_in,  sep = \"/\")\n",
    "        rn = nc_open(file_in)\n",
    "        rncust = data.frame(cbind(t(ncvar_get(rn, 'start_time_components')), ncvar_get(rn, 'value'))) \n",
    "        colnames(rncust) = c('year', 'mon', 'day', 'hour', 'min', 'sec', 'rn')\n",
    "        iscust = merge(isgvp, rncust, by = c('year', 'mon', 'day', 'hour', 'min', 'sec'), all = F)\n",
    "        iscust$co2[iscust$rn>150] = NA\n",
    "        iscust$co2[is.na(iscust$rn)] = NA\n",
    "\n",
    "    } else if(site == 'mqa'){\n",
    "\n",
    "        # for custom,  now using WDCGG\n",
    "        file_in = 'WDCGG/nc/co2/hourly/co2_mqa_surface-insitu_16_9999-9999_hourly.nc'\n",
    "        file_in = paste(project_tmpdir_obs,  file_in,  sep = \"/\")\n",
    "        is = nc_open(file_in)\n",
    "\n",
    "        iscust = data.frame(cbind(t(ncvar_get(is, 'start_time_components')), ncvar_get(is, 'value')))\n",
    "        colnames(iscust) = c('year', 'mon', 'day', 'hour', 'min', 'sec', 'co2')\n",
    "        iscust$co2[ncvar_get(is, 'QCflag') != 1] = NA\n",
    "        lon = median(ncvar_get(is, 'longitude'), na.rm=T)\n",
    "\n",
    "    } else if(site == 'syo'){\n",
    "\n",
    "\n",
    "        file_in = 'obspack_co2_1_GLOBALVIEWplus_v6.0_2020-09-11/data/nc/co2_syo_surface-insitu_8_allvalid.nc'\n",
    "        file_in = paste(project_tmpdir_obs,  file_in,  sep = \"/\")\n",
    "        is = nc_open(file_in)\n",
    "        isgvp = data.frame(cbind(t(ncvar_get(is, 'time_components')), ncvar_get(is, 'value')*1E6))\n",
    "        colnames(isgvp) = c('year', 'mon', 'day', 'hour', 'min', 'sec', 'co2')\n",
    "        lon = median(ncvar_get(is, 'longitude'))\n",
    "\n",
    "    } \n",
    "\n",
    "    # trim for 1999-present\n",
    "    if(!is.null(isgvp)){\n",
    "        decdate = isgvp$year + (isgvp$mon - 0.5) / 12\n",
    "        isgvp = isgvp[decdate>= meanwin[1]&decdate<meanwin[2], ]\n",
    "    }\n",
    "    if(!is.null(iscust)){\n",
    "        decdate = iscust$year + (iscust$mon - 0.5) / 12\n",
    "        iscust = iscust[decdate>= meanwin[1]&decdate<meanwin[2], ]\n",
    "    }\n",
    "\n",
    "    ylm = NULL\n",
    "    yspan = 0.8\n",
    "    xlm = c(0, 24)\n",
    "\n",
    "    localnoon = -lon/360*24 + 12\n",
    "\n",
    "    # subtract off SPO,  calculate mean diurnal cycle,  and shift to local time\n",
    "    if(!is.null(isgvp)){\n",
    "\n",
    "        isgvpdt = ISOdatetime(isgvp$year, isgvp$mon, isgvp$day, isgvp$hour, isgvp$min, isgvp$sec, tz = 'UTC')\n",
    "        isgvp$mmint = approx(as.POSIXct(spoco2dt), spoco2$co2, as.POSIXct(isgvpdt), rule = 2)$y # interpolate spo monthly means to times of obs\n",
    "        isgvp$anom = isgvp$co2-isgvp$mmint\n",
    "        diur = aggregate(isgvp$anom, by = list(hour = isgvp$hour), median, na.rm = T)\n",
    "        diur$hour = diur$hour + 0.5\n",
    "        diur$lst = diur$hour-localnoon + 12\n",
    "        diur$lst[diur$lst>24] = diur$lst[diur$lst>24] - 24; diur$lst[diur$lst<0] = diur$lst[diur$lst<0] + 24\n",
    "        diur = diur[order(diur$lst), ] # 'solar' local standard time\n",
    "        ylm = (max(diur$x) + min(diur$x))/2 + c(-0.5, 0.5)*yspan\n",
    "\n",
    "    } # if(!is.null(isgvp))\n",
    "\n",
    "    if(!is.null(iscust)){\n",
    "\n",
    "        iscustdt = ISOdatetime(iscust$year, iscust$mon, iscust$day, iscust$hour, iscust$min, iscust$sec, tz = 'UTC')\n",
    "        iscust$mmint = approx(as.POSIXct(spoco2dt), spoco2$co2, as.POSIXct(iscustdt), rule = 2)$y # interpolate spo monthly means to times of obs\n",
    "            iscust$anom = iscust$co2-iscust$mmint\n",
    "            diurcust = aggregate(iscust$anom, by = list(hour = iscust$hour), median, na.rm = T)\n",
    "            diurcust$hour = diurcust$hour + 0.5; diurcust$lst = diurcust$hour-localnoon + 12\n",
    "            diurcust$lst[diurcust$lst>24] = diurcust$lst[diurcust$lst>24]-24; diurcust$lst[diurcust$lst<0] = diurcust$lst[diurcust$lst<0] + 24\n",
    "            diurcust = diurcust[order(diurcust$lst), ] # 'solar' local standard time\n",
    "            if(is.null(ylm)){\n",
    "                    ylm = (max(diurcust$x) + min(diurcust$x))/2 + c(-0.5, 0.5)*yspan\n",
    "            } else {\n",
    "                    ylm = (max(c(diurcust$x, diur$x)) + min(c(diurcust$x, diur$x)))/2 + c(-0.5, 0.5)*yspan\n",
    "            }\n",
    "    }\n",
    "\n",
    "    # plot\n",
    "    plot(c(1:3), c(1:3), type = 'n', xlab = '', ylab = '', cex.main = 1.5, cex.lab = 1.5, cex.axis = 1.5, xlim = xlm, ylim = ylm, axes = F) # blank plot\n",
    "    abline(h = 0)\n",
    "    box()\n",
    "    axis(1, at = seq(0, 24, 6), cex.axis = 1.5, cex.lab = 1.5)\n",
    "    axis(2, at = seq(-0.4, 0.2, 0.2), cex.axis = 1.5, cex.lab = 1.5)\n",
    " \n",
    "    if(!is.null(isgvp)){\n",
    "        if(site!= 'syo'){\n",
    "            points(diur$lst, diur$x, cex = 1.5, lwd = 2.5, col = 'black')\n",
    "        } else {\n",
    "            points(diur$lst, diur$x, cex = 1.5, lwd = 4, col = 'black')\n",
    "        }\n",
    "        print(paste('GV+ mean', round(mean(diur$x), 2)))\n",
    "    }\n",
    "    \n",
    "    if(!is.null(iscust)){\n",
    "        points(diurcust$lst, diurcust$x, cex = 1.5, lwd = 4, col = cols[siteno])\n",
    "        print(paste('Custom mean', round(mean(diurcust$x), 2)))\n",
    "    }\n",
    "    \n",
    "    if(site == 'syo'){ ptlwd = 4 } else { ptlwd = 2.5 }\n",
    "    \n",
    "    sel = c(!is.null(isgvp), !is.null(iscust))\n",
    "    legend('bottomleft', c('GV+ 6.0', 'Custom')[sel], col = c('black', cols[siteno])[sel], pt.lwd = c(ptlwd, 4)[sel], pch = 1, cex = 1.5, bty = 'n')\n",
    "    \n",
    "    mtext(c('A', 'B', 'C', 'D')[siteno], 3, adj = 0.05, line = 0.5, cex = 1.5, font = 2)\n",
    "    mtext(toupper(site), 3, adj = 0.95, line = -2, cex = 1.5)\n",
    "\n",
    "} # loop on site \n",
    "\n",
    "mtext(expression(paste(CO[2], ' - SPO (ppm)')), 2, 0, outer = T, cex = 1.5)\n",
    "mtext('Hour (Local Solar Time)', 1, 0, outer = T, cex = 1.5)\n",
    "\n",
    "dev.off()"
   ]
  },
  {
   "cell_type": "markdown",
   "id": "5424ce03-dfbb-44a6-be2d-334f5149a692",
   "metadata": {
    "tags": []
   },
   "source": [
    "![](figures/Fig-S14-suface-diurnal-cycles_Custom.png)\n",
    "\"**Climatological mean diurnal CO2 cycles since 1999 for four stations with in situ instruments.** (A) Amsterdam Island (AMS), (B) Cape Point (CPT), (C) MacQuarie Island (MQA), and (D) Syowa Station (SYO). Plotted values are binned hourly-mean values with the NOAA in situ SPO record subtracted. The black points in panels A, B, and D were calculated from the GV+ version 6.0 ObsPack product with the provided baseline flags applied. The colored points in panels A, B, and C were calculated using custom files that excluded data with large terrestrial influence from the data providers rather than ObsPack. In the case of AMS, the custom file included intended filtering for wind direction and variability, not included in the ObsPack GV+ version 6.0 file. This filtering information has subsequently been added in ObsPack GV+ version 6.1. In the case of CPT, the custom file included additional filtering using 222Rn not included in the ObsPack file. MQA in situ data are not included in ObsPack, but have subsequently been provided to WDCGG. We show SYO here as an example of a coastal site with no local vegetation.\""
   ]
  },
  {
   "cell_type": "raw",
   "id": "7e74ed90-3bb5-4447-b51c-2c96ab5a3fe1",
   "metadata": {},
   "source": []
  }
 ],
 "metadata": {
  "kernelspec": {
   "display_name": "R [conda env:miniconda3-so-co2-R]",
   "language": "R",
   "name": "conda-env-miniconda3-so-co2-R-r"
  },
  "language_info": {
   "codemirror_mode": "r",
   "file_extension": ".r",
   "mimetype": "text/x-r-source",
   "name": "R",
   "pygments_lexer": "r",
   "version": "4.1.1"
  }
 },
 "nbformat": 4,
 "nbformat_minor": 5
}

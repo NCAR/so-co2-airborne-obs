{
 "cells": [
  {
   "cell_type": "markdown",
   "id": "0c2b7f77-a9e5-4d31-91cf-a062a43ec104",
   "metadata": {},
   "source": [
    "# Process airborne Medusa merge files\n",
    "- R Program to read in HIPPO, ORCAS, and ATom MED merge files, massage time variables, add a strat flag, subset, and write to RData object for use by aircraft_filter_mspo_med.r"
   ]
  },
  {
   "cell_type": "code",
   "execution_count": 21,
   "id": "eafc6b9e-6045-4aab-8db6-250e4830c4b4",
   "metadata": {
    "tags": []
   },
   "outputs": [],
   "source": [
    "library('ncdf4')\n",
    "library('yaml')"
   ]
  },
  {
   "cell_type": "code",
   "execution_count": 22,
   "id": "cb9e96f5-86ec-40fd-adc1-0545683d24e7",
   "metadata": {
    "tags": []
   },
   "outputs": [],
   "source": [
    "project_tmpdir_obs = read_yaml('../_config_calc.yml')$project_tmpdir_obs\n",
    "username = Sys.info()['user']\n",
    "project_tmpdir_obs = gsub('\\\\{\\\\{env\\\\[\\'USER\\'\\\\]\\\\}\\\\}', username, project_tmpdir_obs)"
   ]
  },
  {
   "cell_type": "code",
   "execution_count": 23,
   "id": "76495f1e-8e00-42bb-9267-6daf03713566",
   "metadata": {},
   "outputs": [],
   "source": [
    "# specify aircraft data file names\n",
    "hippomergefile=paste(project_tmpdir_obs,'/aircraft-merge-products/HIPPO_medusa_flasks_merge_insitu_20121129.tbl',sep='') # this is the official HIPPO merge product\n",
    "atommergedir=paste(project_tmpdir_obs,'/aircraft-merge-products',sep='') # these are version 2.0 (21-08-26)\n",
    "atommergefiles=c('MER-MED_DC8_ATom-1.nc','MER-MED_DC8_ATom-2.nc','MER-MED_DC8_ATom-3.nc','MER-MED_DC8_ATom-4.nc')  # these files have problems (see below)\n",
    "orcasmergefile=paste(project_tmpdir_obs,'/aircraft-merge-products/ORCASall.mergeMED.tbl',sep='') # original release version"
   ]
  },
  {
   "cell_type": "code",
   "execution_count": 24,
   "id": "9e09915c-a84b-452f-b7c2-3051c138988f",
   "metadata": {},
   "outputs": [],
   "source": [
    "# set strat flag cutoffs for use below based upon Jin et al., 2021 (https://doi.org/10.5194/acp-21-217-2021)\n",
    "stratcoh2o=50\n",
    "stratcoo3=150\n",
    "stratcon2o=319"
   ]
  },
  {
   "cell_type": "code",
   "execution_count": 25,
   "id": "4a2c0daf-3be4-49e6-a7e4-a92cf73143eb",
   "metadata": {},
   "outputs": [],
   "source": [
    "# read in global N2O for detrending aircraft N2O\n",
    "glbn2ofile=url('ftp://aftp.cmdl.noaa.gov/products/trends/n2o/n2o_annmean_gl.txt')\n",
    "hlines=61\n",
    "glbn2o=read.table(glbn2ofile,skip=hlines,header=F,stringsAsFactors=F)\n",
    "colnames(glbn2o)=c('year','n2o','unc')"
   ]
  },
  {
   "cell_type": "code",
   "execution_count": 26,
   "id": "aaf70953-878e-4c1b-897b-a33c0f4488c8",
   "metadata": {
    "tags": []
   },
   "outputs": [],
   "source": [
    "# for HIPPO, need to interpolate prof variable from 10-sec merge - load from read_aircraft_10s.ipynb output before reading MED data below\n",
    "load('HIPPO_10s.RData')\n",
    "hippomerge10s=hippomerge # 'hippomerge' reused below\n",
    "hippo10sdt=ISOdatetime(hippomerge$year,hippomerge$mon,hippomerge$day,hippomerge$hour,hippomerge$min,hippomerge$sec,tz='UTC')"
   ]
  },
  {
   "cell_type": "markdown",
   "id": "7206274b-dab7-4216-8fa9-cf412c167fe7",
   "metadata": {},
   "source": [
    "# read in HIPPO file, calc strat flag, subset, and output"
   ]
  },
  {
   "cell_type": "code",
   "execution_count": 27,
   "id": "4606993f-a3d1-4f08-8bc9-68a4e1dadb62",
   "metadata": {},
   "outputs": [],
   "source": [
    "# read and add time variables\n",
    "hippomerge=read.table(hippomergefile,header=T)\n",
    "hippodt=strptime(paste(hippomerge[,\"Year\"],hippomerge[,\"DOY\"]),format='%Y %j',tz='UTC')+hippomerge[,\"UTC\"] # DOY is day of year of takeoff; UTC is seconds since midnight on day of takeoff\n",
    "hippomerge$Month=as.POSIXlt(hippodt)$mon+1\n",
    "hippomerge$Day=as.POSIXlt(hippodt)$mday\n",
    "hippomerge$Hour=as.POSIXlt(hippodt)$hour\n",
    "hippomerge$Min=as.POSIXlt(hippodt)$min\n",
    "hippomerge$Sec=as.POSIXlt(hippodt)$sec"
   ]
  },
  {
   "cell_type": "code",
   "execution_count": 28,
   "id": "c63eda0d-e5ec-4c8a-88e7-ee7ac91990b4",
   "metadata": {},
   "outputs": [],
   "source": [
    "# filter in situ records for overlap\n",
    "hippomerge$CO2_QCLS[hippomerge$wt.qcls<0.5]=NA\n",
    "hippomerge$CO2_AO2[hippomerge$wt.ao2<0.5]=NA\n",
    "hippomerge$CO2_OMS[hippomerge$wt.oms<0.5]=NA"
   ]
  },
  {
   "cell_type": "code",
   "execution_count": 29,
   "id": "383d7a1f-f5c0-4760-b569-00d56d94a476",
   "metadata": {},
   "outputs": [],
   "source": [
    "# interpolate prof from 10 sec file\n",
    "hippomerge$prof=approx(as.POSIXct(hippo10sdt),hippomerge10s$prof,as.POSIXct(hippodt),method='constant',f=0)$y"
   ]
  },
  {
   "cell_type": "code",
   "execution_count": 30,
   "id": "dfff2dbc-10f7-454d-9eb6-23d87361d982",
   "metadata": {},
   "outputs": [],
   "source": [
    "# add strat flag\n",
    "hippomerge$strat=rep(0,nrow(hippomerge)) # 0 means trop\n",
    "h2oref=hippomerge$H2Oppmv_vxl; h2oref[is.na(h2oref)]=hippomerge$H2O_UWV[is.na(h2oref)]\n",
    "hippomerge$h2oref=h2oref # for output\n",
    "h2oref[is.na(h2oref)]=0 # if H2O missing treat as if potentially strat\n",
    "n2oref=hippomerge$N2O_QCLS \n",
    "n2oref=n2oref-(approx(glbn2o$year+0.5,glbn2o$n2o,hippomerge$Year+hippomerge$DOY/365)$y-glbn2o$n2o[glbn2o$year==2009])\n",
    "hippomerge$n2oref=n2oref # for output\n",
    "n2oref[is.na(n2oref)]=400 # if N2O missing do not use for filter\n",
    "o3ref=hippomerge$O3_ppb; o3ref[is.na(o3ref)]=hippomerge$O3_UO3[is.na(o3ref)]\n",
    "hippomerge$o3ref=o3ref # for output\n",
    "o3ref[is.na(o3ref)]=0 # if O3 missing do not use for filter\n",
    "hippomerge$strat[h2oref<stratcoh2o&(o3ref>stratcoo3|n2oref<stratcon2o|(o3ref==0&n2oref==400))]=1 # if either o3 or n2o criteria are met, or if both are missing, consider strat\n",
    "hippomerge$strat[h2oref==0&o3ref==0&n2oref==400&hippomerge$GGALT<8000]=0 # if all 3 missing assume < 8 km is trop"
   ]
  },
  {
   "cell_type": "code",
   "execution_count": 31,
   "id": "d3a81522-b61b-427b-bd2e-097eddc15bdb",
   "metadata": {},
   "outputs": [],
   "source": [
    "# select columns and save\n",
    "colsel=c('Year','Month','Day','Hour','Min','Sec','H.no','flt','prof','GGLAT','GGLON','GGALT','PSXC','THETA','CO2_MED','CO2_QCLS','CO2_OMS','CO2_AO2','strat','h2oref','n2oref','o3ref')\n",
    "hippomerge=hippomerge[,is.element(colnames(hippomerge),colsel)]\n",
    "hippomerge=hippomerge[,match(colsel,names(hippomerge))] # reorder\n",
    "names(hippomerge)=c('year','mon','day','hour','min','sec','camp','flt','prof','lat','lon','alt','pressure','theta','co2','co2qcls','co2oms','co2ao2','strat','h2oref','n2oref','o3ref') ## 'co2' = CO2_MED\n",
    "save('hippomerge',file='HIPPO_MED.RData')"
   ]
  },
  {
   "cell_type": "markdown",
   "id": "b9ac5abf-22e6-4c79-a4cd-a42fdd4b62db",
   "metadata": {},
   "source": [
    "# read in ORCAS file, calc strat flag, subset, and output"
   ]
  },
  {
   "cell_type": "code",
   "execution_count": 32,
   "id": "61f89df6-cde8-4a75-9a1c-081852f8de44",
   "metadata": {},
   "outputs": [],
   "source": [
    "# read and add time variables\n",
    "orcasmerge=read.table(orcasmergefile,header=T)\n",
    "orcasdt=strptime(paste(orcasmerge[,\"Year\"],orcasmerge[,\"DOY\"]),format='%Y %j',tz='UTC')+orcasmerge[,\"UTC\"] # DOY is day of year of takeoff; UTC is seconds since midnight on day of takeoff\n",
    "orcasmerge$Month=as.POSIXlt(orcasdt)$mon+1\n",
    "orcasmerge$Day=as.POSIXlt(orcasdt)$mday\n",
    "orcasmerge$Hour=as.POSIXlt(orcasdt)$hour\n",
    "orcasmerge$Min=as.POSIXlt(orcasdt)$min\n",
    "orcasmerge$Sec=as.POSIXlt(orcasdt)$sec"
   ]
  },
  {
   "cell_type": "code",
   "execution_count": 33,
   "id": "13e86561-0ebd-4057-8512-7587cf09cbff",
   "metadata": {},
   "outputs": [],
   "source": [
    "# filter in situ records for overlap ### add for HIPPO and ATom?\n",
    "orcasmerge$CO2_NOAA[orcasmerge$wt.CO2_NOAA<0.5]=NA\n",
    "orcasmerge$CO2_QCLS[orcasmerge$wt.CO2_QCLS<0.5]=NA\n",
    "orcasmerge$CO2_AO2[orcasmerge$wt.CO2_AO2<0.5]=NA\n",
    "orcasmerge$CO2.X[orcasmerge$wt.CO2.X<0.5]=NA"
   ]
  },
  {
   "cell_type": "code",
   "execution_count": 34,
   "id": "6ffc1e6f-6612-4929-aead-21dd511fe81d",
   "metadata": {},
   "outputs": [],
   "source": [
    "# add strat flag\n",
    "orcasmerge$strat=rep(0,nrow(orcasmerge)) # 0 means trop\n",
    "h2oref=orcasmerge$VMR_VXL; h2oref[is.na(h2oref)]=orcasmerge$H2O_NOAA[is.na(h2oref)]\n",
    "orcasmerge$h2oref=h2oref # for output\n",
    "h2oref[is.na(h2oref)]=0 # if H2O missing treat as if potentially strat\n",
    "n2oref=orcasmerge$N2O_QCLS\n",
    "n2oref=n2oref-(approx(glbn2o$year+0.5,glbn2o$n2o,orcasmerge$Year+orcasmerge$DOY/365)$y-glbn2o$n2o[glbn2o$year==2009])\n",
    "orcasmerge$n2oref=n2oref # for output\n",
    "n2oref[is.na(n2oref)]=400 # if N2O missing do not use for filter\n",
    "orcasmerge$strat[h2oref<stratcoh2o&(n2oref<stratcon2o|n2oref==400)]=1 # no O3, if n2o criteria is met or missing, consider strat\n",
    "orcasmerge$strat[h2oref==0&n2oref==400&orcasmerge$G_ALT<8000]=0 # if both missing assume < 8 km is trop"
   ]
  },
  {
   "cell_type": "code",
   "execution_count": 35,
   "id": "2394fa65-a972-46b8-a7b5-bf728e425bd2",
   "metadata": {},
   "outputs": [],
   "source": [
    "# select columns and save\n",
    "colsel=c('Year','Month','Day','Hour','Min','Sec','flt','n.prof','GGLAT','GGLON','GGALT','PSXC','THETA','CO2_MED','CO2.X','CO2_QCLS','CO2_NOAA','CO2_AO2','strat','h2oref','n2oref')\n",
    "orcasmerge=orcasmerge[,is.element(colnames(orcasmerge),colsel)]\n",
    "orcasmerge=orcasmerge[,match(colsel,names(orcasmerge))] # reorder\n",
    "names(orcasmerge)=c('year','mon','day','hour','min','sec','flt','prof','lat','lon','alt','pressure','theta','co2','co2x','co2qcls','co2noaa','co2ao2','strat','h2oref','n2oref') ## 'co2' = CO2_MED\n",
    "save('orcasmerge',file='ORCAS_MED.RData')"
   ]
  },
  {
   "cell_type": "markdown",
   "id": "936f2301-14d1-4e4b-a590-081fc498a4de",
   "metadata": {},
   "source": [
    "# read in ATom files, calc strat flag, subset, and output"
   ]
  },
  {
   "cell_type": "code",
   "execution_count": 40,
   "id": "e3b3af84-daf5-40c8-b98a-be8d58f90a2e",
   "metadata": {},
   "outputs": [],
   "source": [
    "# read and add time variables\n",
    "atomvar=c('time','Flight_Date','DLH-H2O/H2O_ppmv','UCATS-H2O/H2O_UWV','QCLS-CH4-CO-N2O/N2O_QCLS','NOyO3-O3/O3_CL','UCATS-O3/O3_UO3','MMS/G_ALT','RF','prof.no','MMS/P','MMS/POT','MMS/G_LAT','MMS/G_LONG',\n",
    "          'MMS/G_ALT','MEDUSA/CO2_MED','NOAA-Picarro/CO2_NOAA','QCLS-CO2/CO2_QCLS','AO2/CO2_AO2','NOAA-Picarro/CH4_NOAA','QCLS-CH4-CO-N2O/CH4_QCLS')\n",
    "atommerge=NULL\n",
    "for(i in c(1:4)){\n",
    "\tatomnc=nc_open(paste(atommergedir,'/',atommergefiles[i],sep=''))\n",
    "       \tcount=length(ncvar_get(atomnc,'time'))\n",
    "\tcampdata=NULL\n",
    "\tfor(var in atomvar){\n",
    "\t\tif(i==1&var=='UCATS-H2O/H2O_UWV'){ # no UCATS H2O on ATom-1\n",
    "\t\t\tcampdata=cbind(campdata,rep(NA,count))\n",
    "\t\t} else {\n",
    "\t\t\tcampdata=cbind(campdata,ncvar_get(atomnc,var))\n",
    "\t\t}\n",
    "\t}\n",
    "\tcampdata=cbind(campdata,rep(i,count)) # A.no\n",
    "       \tnc_close(atomnc)\n",
    "\tatommerge=rbind(atommerge,campdata)\n",
    "}\n",
    "atommerge=data.frame(atommerge,stringsAsFactors=F)\n",
    "names(atommerge)=c(gsub('.*/','',atomvar),'A.no')\n",
    "atommerge$YYYYMMDD=atommerge$Flight_Date\n",
    "atomdt=as.POSIXlt(ISOdatetime(2016,1,1,0,0,0,tz='UTC')+atommerge$time,tz='UTC')\n",
    "atommerge$Year=atomdt$year+1900\n",
    "atommerge$Month=as.POSIXlt(atomdt)$mon+1\n",
    "atommerge$Day=as.POSIXlt(atomdt)$mday\n",
    "atommerge$Hour=as.POSIXlt(atomdt)$hour\n",
    "atommerge$Min=as.POSIXlt(atomdt)$min\n",
    "atommerge$Sec=as.POSIXlt(atomdt)$sec"
   ]
  },
  {
   "cell_type": "code",
   "execution_count": 41,
   "id": "77ffa832-9933-418c-a771-e8f26be2ae58",
   "metadata": {},
   "outputs": [],
   "source": [
    "# filter in situ records for overlap\n",
    "atommerge$CO2_NOAA[atommerge$wt.CO2_NOAA<0.5]=NA\n",
    "atommerge$CO2_QCLS[atommerge$wt.CO2_QCLS<0.5]=NA\n",
    "atommerge$CO2_AO2[atommerge$wt.CO2_AO2<0.5]=NA"
   ]
  },
  {
   "cell_type": "code",
   "execution_count": 42,
   "id": "7cb5504f-342b-4d40-bb2a-da6149bab122",
   "metadata": {},
   "outputs": [],
   "source": [
    "# add strat flag\n",
    "atommerge$strat=rep(0,nrow(atommerge)) # 0 means trop\n",
    "h2oref=atommerge$H2O_ppmv; h2oref[is.na(h2oref)]=atommerge$H2O_UWV[is.na(h2oref)]\n",
    "atommerge$h2oref=h2oref # for output\n",
    "h2oref[is.na(h2oref)]=0 # if H2O missing treat as if potentially strat\n",
    "n2oref=atommerge$N2O_QCLS\n",
    "n2oref=n2oref-(approx(glbn2o$year+0.5,glbn2o$n2o,atommerge$Year+atomdt$yday/365)$y-glbn2o$n2o[glbn2o$year==2009])\n",
    "atommerge$n2oref=n2oref # for outptut\n",
    "n2oref[is.na(n2oref)]=400 # if N2O missing do not use for filter\n",
    "o3ref=atommerge$O3_CL; o3ref[is.na(o3ref)]=atommerge$O3_UO3[is.na(o3ref)]\n",
    "atommerge$o3ref=o3ref\n",
    "o3ref[is.na(o3ref)]=0 # if O3 missing do not use for filter\n",
    "atommerge$strat[h2oref<stratcoh2o&(o3ref>stratcoo3|n2oref<stratcon2o|(o3ref==0&n2oref==400))]=1 # if either o3 or n2o criteria are met, or if both are missing, consider strat\n",
    "atommerge$strat[h2oref==0&o3ref==0&n2oref==400&atommerge$G_ALT<8000]=0 # if all 3 missing assume < 8 km is trop"
   ]
  },
  {
   "cell_type": "code",
   "execution_count": 43,
   "id": "a9bbe167-455d-430f-8f3e-2dd454bc44b7",
   "metadata": {},
   "outputs": [],
   "source": [
    "# select column and save\n",
    "colsel=c('Year','Month','Day','Hour','Min','Sec','A.no','RF','prof.no','G_LAT','G_LONG','G_ALT','P','POT','CO2_MED','CO2_NOAA','CO2_QCLS','CO2_AO2','CH4_NOAA','CH4_QCLS','strat','h2oref','n2oref','o3ref')\n",
    "atommerge=atommerge[,is.element(colnames(atommerge),colsel)]\n",
    "atommerge=atommerge[,match(colsel,names(atommerge))] # reorder\n",
    "names(atommerge)=c('year','mon','day','hour','min','sec','camp','flt','prof','lat','lon','alt','pressure','theta','co2','co2noaa','co2qcls','co2ao2','ch4noaa','ch4qcls','strat','h2oref','n2oref','o3ref') ## 'co2' = CO2_MED\n",
    "save('atommerge',file='ATom_MED.RData')"
   ]
  }
 ],
 "metadata": {
  "kernelspec": {
   "display_name": "R [conda env:miniconda3-so-co2-R]",
   "language": "R",
   "name": "conda-env-miniconda3-so-co2-R-r"
  },
  "language_info": {
   "codemirror_mode": "r",
   "file_extension": ".r",
   "mimetype": "text/x-r-source",
   "name": "R",
   "pygments_lexer": "r",
   "version": "4.1.1"
  }
 },
 "nbformat": 4,
 "nbformat_minor": 5
}

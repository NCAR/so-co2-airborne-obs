{
 "cells": [
  {
   "cell_type": "markdown",
   "id": "23fbef41-6cba-4045-b861-3e51a2b21fe0",
   "metadata": {
    "tags": []
   },
   "source": [
    "# Process surface SF6 observations\n",
    "- R program to read in and monthly-average Southern Ocean NOAA station SF6 data"
   ]
  },
  {
   "cell_type": "code",
   "execution_count": 4,
   "id": "85162c71-3122-44a2-a125-c39c6ba9c926",
   "metadata": {
    "tags": []
   },
   "outputs": [],
   "source": [
    "library('ncdf4')\n",
    "library('yaml')\n",
    "library('RColorBrewer')"
   ]
  },
  {
   "cell_type": "code",
   "execution_count": 5,
   "id": "3d6e897b-d93f-40b4-9305-a98b287852eb",
   "metadata": {},
   "outputs": [
    {
     "name": "stdout",
     "output_type": "stream",
     "text": [
      "   station  lab method use      lat       lon masl\n",
      "1      SPO NOAA  flask   0 -89.9800  -24.8000 2810\n",
      "2      HBA NOAA  flask   2 -75.6050  -26.2100   10\n",
      "3      SYO NOAA  flask   2 -69.0125   39.5900   14\n",
      "4      PSA NOAA  flask   2 -64.9000  -64.0000   10\n",
      "5      DRP NOAA  flask   2 -59.0000  -64.6900   10\n",
      "6      CRZ NOAA  flask   2 -46.4337   51.8478  197\n",
      "7      CGO NOAA  flask   0 -40.6830  144.6900  164\n",
      "8      CPT NOAA  flask   0 -34.3523   18.4891  230\n",
      "9      USH NOAA  flask   0 -54.8484  -68.3106   12\n",
      "10     BHD NOAA  flask   0 -41.4083  174.8710   85\n",
      "11     EIC NOAA  flask   0 -27.1600 -109.4300   47\n",
      "12     NMB NOAA  flask   0 -23.5800   15.0300  456\n",
      "13     SMO NOAA  flask   0 -14.2474 -170.5644   42\n",
      "14     ASC NOAA  flask   0  -7.9667  -14.4000   85\n",
      "15     SEY NOAA  flask   0  -4.6824   55.5325    2\n"
     ]
    }
   ],
   "source": [
    "# General options:\n",
    "endyear=2020\n",
    "\n",
    "# Aggregation options:\n",
    "minnmon=2 # lowest number of months allowed for seasonal average\n",
    "meanwin=c(1998.9,2020.2) # window for calculating means, inclusive\n",
    "\n",
    "# Plotting options\n",
    "zoomyr=1999 \n",
    "ylm=c(-0.10,0.15) \n",
    "\n",
    "# Select which sites to use:\n",
    "stationlist=read.table('SO_SF6_stationlist.txt',header=T,stringsAsFactors=F) # use = 0 for do not use, 2 for SO, 1 was for reference but no longer used - use refcol below \n",
    "print(stationlist)"
   ]
  },
  {
   "cell_type": "markdown",
   "id": "f3fe850e-be12-472d-a4ea-44194b53d876",
   "metadata": {},
   "source": [
    "# Read in surface data:"
   ]
  },
  {
   "cell_type": "code",
   "execution_count": 6,
   "id": "c958dd1d-fba9-42d4-b050-ab7655653689",
   "metadata": {},
   "outputs": [
    {
     "name": "stdout",
     "output_type": "stream",
     "text": [
      "[1] \"SPO\"   \"NOAA\"  \"flask\" \"0\"    \n",
      "[1] \"HBA\"   \"NOAA\"  \"flask\" \"2\"    \n",
      "[1] \"SYO\"   \"NOAA\"  \"flask\" \"2\"    \n",
      "[1] \"PSA\"   \"NOAA\"  \"flask\" \"2\"    \n",
      "[1] \"DRP\"   \"NOAA\"  \"flask\" \"2\"    \n",
      "[1] \"CRZ\"   \"NOAA\"  \"flask\" \"2\"    \n",
      "[1] \"CGO\"   \"NOAA\"  \"flask\" \"0\"    \n",
      "[1] \"CPT\"   \"NOAA\"  \"flask\" \"0\"    \n",
      "[1] \"USH\"   \"NOAA\"  \"flask\" \"0\"    \n",
      "[1] \"BHD\"   \"NOAA\"  \"flask\" \"0\"    \n",
      "[1] \"EIC\"   \"NOAA\"  \"flask\" \"0\"    \n",
      "[1] \"NMB\"   \"NOAA\"  \"flask\" \"0\"    \n",
      "[1] \"SMO\"   \"NOAA\"  \"flask\" \"0\"    \n",
      "[1] \"ASC\"   \"NOAA\"  \"flask\" \"0\"    \n",
      "[1] \"SEY\"   \"NOAA\"  \"flask\" \"0\"    \n"
     ]
    }
   ],
   "source": [
    "# set up arrays\n",
    "allsta=data.frame(cbind(rep(seq(1957,endyear),each=12),rep(seq(1,12),times=endyear-1957+1)))\n",
    "colnames(allsta)=c('year','month')\n",
    "yrfrac=allsta$year+(allsta$mon-0.5)/12\n",
    "monseas=rep(1,nrow(allsta)) # DJF\n",
    "monseas[allsta$month>2&allsta$month<6]=2 # MAM\n",
    "monseas[allsta$month>5&allsta$month<9]=3 # JJA\n",
    "monseas[allsta$month>8&allsta$month<12]=4 # SON\n",
    "seasyear=trunc(yrfrac+1/12) # shift Dec to next year\n",
    "allseas=data.frame(cbind(aggregate(monseas,by=list(seas=monseas,year=seasyear),mean)$x,aggregate(yrfrac,by=list(seas=monseas,year=seasyear),mean)$x))\n",
    "colnames(allseas)=c('seas','yrfrac')\n",
    "alllat=NULL\n",
    "alllon=NULL\n",
    "allalt=NULL\n",
    "\n",
    "# loop over records\n",
    "for(i in c(1:nrow(stationlist))){\n",
    "\n",
    "\tstasf6=NULL\n",
    "\tsta=stationlist$station[i]\n",
    "\tlab=stationlist$lab[i]\n",
    "\tmeth=stationlist$method[i]\n",
    "\tuse=stationlist$use[i]\n",
    "\tlabcode=stationlist$labcode[i]\n",
    "\tprint(c(sta,lab,meth,use))\n",
    "\n",
    "\tinfile=url(paste('ftp://ftp.cmdl.noaa.gov/data/trace_gases/sf6/flask/surface/sf6_',tolower(sta),'_surface-flask_1_ccgg_month.txt',sep=''))\n",
    "\tline1=readLines(infile,n=1) ; nhead=as.numeric(tail(unlist(strsplit(line1,' ')),1))\n",
    "\tnames=readLines(infile,n=nhead)[nhead] ; names=unlist(strsplit(names,' ')) ; names=names[3:length(names)]\n",
    "\tindata=read.table(infile,skip=nhead,stringsAsFactors=F); colnames(indata)=names\n",
    "\tstasf6=data.frame(cbind(indata$year,indata$month,indata$value)); colnames(stasf6)=c('year','month','sf6')\n",
    "\tstasf6$sf6[stasf6$sf6==-999.99]=NA\n",
    "\n",
    "\t# aggregate records by season\n",
    "\tif(!is.null(stasf6)){\n",
    "\t\toldnames=colnames(allsta)\n",
    "\t\tallsta=merge(allsta,stasf6,by=c('year','month'),all.x=T)\n",
    "\t\tcolnames(allsta)=c(oldnames,paste(sta,'_',lab,'_',meth,sep=''))\n",
    "\t\t# aggregate by season\n",
    "\t\tseassf6=aggregate(allsta[,ncol(allsta)],by=list(seas=monseas,year=seasyear),mean,na.rm=T)$x # with na.rm=T so returns value even if only 1 month present (alldiffs filtered for < 2 months below)\n",
    "\t\toldnames=colnames(allseas)\n",
    "\t\tallseas=cbind(allseas,seassf6) # since aggregating after merge, all rows present\n",
    "\t\tcolnames(allseas)=c(oldnames,paste(sta,'_',lab,'_',meth,sep=''))\n",
    "\t\talllat=c(alllat,stationlist$lat[i])\n",
    "\t\talllon=c(alllon,stationlist$lon[i])\n",
    "\t\tallalt=c(allalt,stationlist$masl[i])\n",
    "\t}\n",
    "\n",
    "} # loop on surface record"
   ]
  },
  {
   "cell_type": "code",
   "execution_count": 7,
   "id": "bb6a6a65-189b-48bd-a897-96e71e1c7215",
   "metadata": {},
   "outputs": [
    {
     "name": "stdout",
     "output_type": "stream",
     "text": [
      "[1] \"SPO_NOAA_flask , Jan 1997 - Dec 2020\"\n",
      "[1] \"HBA_NOAA_flask , Jan 1997 - Jan 2017\"\n",
      "[1] \"SYO_NOAA_flask , Feb 1997 - Dec 2020\"\n",
      "[1] \"PSA_NOAA_flask , Apr 1997 - Dec 2020\"\n",
      "[1] \"DRP_NOAA_flask , Mar 2006 - Dec 2019\"\n",
      "[1] \"CRZ_NOAA_flask , Jan 1998 - Dec 2020\"\n",
      "[1] \"CGO_NOAA_flask , Apr 1997 - Dec 2020\"\n",
      "[1] \"CPT_NOAA_flask , Feb 2010 - Dec 2020\"\n",
      "[1] \"USH_NOAA_flask , Jun 1997 - Dec 2020\"\n",
      "[1] \"BHD_NOAA_flask , Mar 2000 - Dec 2020\"\n",
      "[1] \"EIC_NOAA_flask , Jul 1997 - Nov 2019\"\n",
      "[1] \"NMB_NOAA_flask , Aug 1997 - Dec 2020\"\n",
      "[1] \"SMO_NOAA_flask , May 1997 - Dec 2020\"\n",
      "[1] \"ASC_NOAA_flask , Aug 1997 - Dec 2020\"\n",
      "[1] \"SEY_NOAA_flask , Jun 1997 - Dec 2020\"\n"
     ]
    }
   ],
   "source": [
    "# print out time periods \n",
    "for(i in c(3:ncol(allsta))){\n",
    "\tind=c(1:nrow(allsta))[!is.na(allsta[,i])]\n",
    "\tprint(paste(colnames(allsta)[i],',',month.abb[allsta$month[ind[1]]],allsta$year[ind[1]],'-',month.abb[allsta$month[tail(ind,1)]],allsta$year[tail(ind,1)]))\n",
    "}"
   ]
  },
  {
   "cell_type": "code",
   "execution_count": 8,
   "id": "ade7b7b8-aa84-4805-841b-de8359fe26b4",
   "metadata": {
    "tags": []
   },
   "outputs": [],
   "source": [
    "# write out results\n",
    "write(paste(names(allsta),collapse=' '),'../data/surface-obs/SO_SF6_monthly.txt')\n",
    "write(t(allsta),'../data/surface-obs/SO_SF6_monthly.txt',append=T,ncol=ncol(allsta))\n",
    "write('record lat lon alt','../data/surface-obs/SO_SF6_locations.txt')\n",
    "write(rbind(names(allsta)[3:ncol(allsta)],alllat,alllon,allalt),'../data/surface-obs/SO_SF6_locations.txt',append=T,ncol=4)"
   ]
  },
  {
   "cell_type": "markdown",
   "id": "bd411cea-7e30-47bc-817b-3b18d9f39f93",
   "metadata": {},
   "source": [
    "# code from here to end (and seasonal aggregation above) not used in calculation but kept for diagnostic purposes"
   ]
  },
  {
   "cell_type": "code",
   "execution_count": 9,
   "id": "46e6a962-45c7-4f13-bcb6-2324ddf56d66",
   "metadata": {},
   "outputs": [],
   "source": [
    "# Calc diffs for all stations using NOAA in situ SPO record as the reference\n",
    "alldiffsmon=allsta # monthly resolution\n",
    "refcol=which(names(allsta)=='SPO_NOAA_flask')\n",
    "for(i in c(3:ncol(allsta))){\n",
    "\talldiffsmon[,i]=allsta[,i]-allsta[,refcol]\n",
    "}\n",
    "alldiffsmonclim=aggregate(alldiffsmon[alldiffsmon$year>=meanwin[1]&alldiffsmon$year<=meanwin[2],3:ncol(alldiffsmon)],by=list(month=alldiffsmon$month[alldiffsmon$year>=meanwin[1]&alldiffsmon$year<=meanwin[2]]),mean,na.rm=T) # allows missing months\n",
    "alldiffsmonclimcomp=apply(alldiffsmonclim[,which(stationlist$use==2)+1],1,mean,na.rm=T)\n",
    "\n",
    "alldiffs=data.frame(cbind(aggregate(monseas,by=list(seas=monseas,year=seasyear),mean)$x,aggregate(yrfrac,by=list(seas=monseas,year=seasyear),mean)$x,aggregate(alldiffsmon[,3:ncol(alldiffsmon)],by=list(seas=monseas,year=seasyear),mean,na.rm=T)[,3:ncol(alldiffsmon)]))\n",
    "allnmon=data.frame(cbind(aggregate(monseas,by=list(seas=monseas,year=seasyear),mean)$x,aggregate(yrfrac,by=list(seas=monseas,year=seasyear),mean)$x,aggregate(!is.na(alldiffsmon[,3:ncol(alldiffsmon)]),by=list(seas=monseas,year=seasyear),sum)[,3:ncol(alldiffsmon)]))\n",
    "alldiffs[,3:ncol(alldiffs)][allnmon[,3:ncol(alldiffs)]<minnmon]=NA ## allow seasons with one missing month, but not two\n",
    "colnames(alldiffs)[1:2]=c('seas','yrfrac')"
   ]
  },
  {
   "cell_type": "code",
   "execution_count": 10,
   "id": "2a82e3d1-2cf5-4e98-81ad-a166abd22e1b",
   "metadata": {},
   "outputs": [],
   "source": [
    "# Calc long term mean and sd of diffs, from seasonal differences\n",
    "meandiff=apply(alldiffs[alldiffs$yrfrac>=meanwin[1]&alldiffs$yrfrac<=meanwin[2],],2,mean,na.rm=T)\n",
    "sddiff=apply(alldiffs[alldiffs$yrfrac>=meanwin[1]&alldiffs$yrfrac<=meanwin[2],],2,sd,na.rm=T)\n",
    "sumdiff=apply(!is.na(alldiffs[alldiffs$yrfrac>=meanwin[1]&alldiffs$yrfrac<=meanwin[2],]),2,sum,na.rm=T)\n",
    "meandiffseas=NULL\n",
    "sddiffseas=NULL\n",
    "for(seas in c(1:4)){\n",
    "\tmeandiffseas=rbind(meandiffseas,apply(alldiffs[alldiffs$yrfrac>=meanwin[1]&alldiffs$yrfrac<=meanwin[2]&alldiffs$seas==seas,],2,mean,na.rm=T))\n",
    "\tsddiffseas=rbind(sddiffseas,apply(alldiffs[alldiffs$yrfrac>=meanwin[1]&alldiffs$yrfrac<=meanwin[2]&alldiffs$seas==seas,],2,sd,na.rm=T))\n",
    "}\n",
    "meandiffseas=data.frame(meandiffseas)\n",
    "sddiffseas=data.frame(sddiffseas)\n",
    "sddiffseas$seas=meandiffseas$seas"
   ]
  },
  {
   "cell_type": "code",
   "execution_count": 12,
   "id": "2d664dcc-f3ba-4e6b-869c-725382a94837",
   "metadata": {},
   "outputs": [
    {
     "data": {
      "text/html": [
       "<strong>png:</strong> 2"
      ],
      "text/latex": [
       "\\textbf{png:} 2"
      ],
      "text/markdown": [
       "**png:** 2"
      ],
      "text/plain": [
       "png \n",
       "  2 "
      ]
     },
     "metadata": {},
     "output_type": "display_data"
    }
   ],
   "source": [
    "# Make plots:\n",
    "cols=rep(brewer.pal(12,'Paired'),5) # can handle up to 60 stations\n",
    "pchs=rep(21,length(cols)) # NOAA\n",
    "numsta=ncol(allsta)-2\n",
    "bgs=cols # these are fill colors for pch 21-25\n",
    "cols[which(stationlist$method=='underway')]=rgb(0,0,0) # these are edge colors for pch 21-25\n",
    "\n",
    "seasname=c('DJF','MAM','JJA','SON')\n",
    "for(seas in c(1,3)){\n",
    "\n",
    "# lat grad of diffs\n",
    "\n",
    "png(paste('so_station_sf6diff_gradient_',meanwin[1],'-',meanwin[2],'_',seasname[seas],'.png',sep=''),height=1200,width=1200,pointsize=30)\n",
    "par(mar=c(5,5,4,2)+0.1)\n",
    "\n",
    "plot(as.numeric(stationlist$lat),meandiffseas[meandiffseas$seas==seas,3:ncol(meandiffseas)],type='n',xlim=c(-90,max(as.numeric(stationlist$lat))),ylim=ylm,main=substitute(paste('Southern Ocean Seasonal ',SF[6],' Gradient - ',v),list(v=seasname[seas])),ylab=expression(paste(Delta,SF[6],' (ppt)')),xlab='Latitude (degrees N)',cex.main=1.2,cex.axis=1.2,cex.lab=1.2)\n",
    "abline(h=0)\n",
    "mtext(paste(stationlist$station[refcol-2],' ',stationlist$lab[refcol-2],' ',stationlist$method[refcol-2],' Subtracted, ',meanwin[1],'-',meanwin[2],' Average and SD',sep=''),3,0.3)\n",
    "segwd=0.2\n",
    "stasel=c(1:numsta)[c(1:numsta)+2!=refcol&!is.na(meandiffseas[meandiffseas$seas==seas,3:(length(meandiff))])]\n",
    "y=c(0,as.numeric(meandiffseas[meandiffseas$seas==seas,3:length(meandiff)][stasel]))\n",
    "x=c(-90,stationlist$lat[stasel])\n",
    "w=c(10000,as.numeric(1/sddiffseas[sddiffseas$seas==seas,3:length(meandiff)][stasel]^2)) # 10000 for SPO equiv of SD of 0.01\n",
    "new=data.frame(x=seq(-90,ceiling(max(x)),1))\n",
    "lines(new$x,predict.lm(lm(y ~ poly(x,3),weights=w),new),lwd=2)\n",
    "for(i in stasel){\n",
    "\tsegments(stationlist$lat[i],meandiffseas[meandiffseas$seas==seas,i+2]-sddiffseas[sddiffseas$seas==seas,i+2],stationlist$lat[i],meandiffseas[meandiffseas$seas==seas,i+2]+sddiffseas[sddiffseas$seas==seas,i+2],col=cols[i])\n",
    "\tsegments(stationlist$lat[i]-segwd,meandiffseas[meandiffseas$seas==seas,i+2]-sddiffseas[sddiffseas$seas==seas,i+2],stationlist$lat[i]+segwd,meandiffseas[meandiffseas$seas==seas,i+2]-sddiffseas[sddiffseas$seas==seas,i+2],col=cols[i])\n",
    "\tsegments(stationlist$lat[i]-segwd,meandiffseas[meandiffseas$seas==seas,i+2]+sddiffseas[sddiffseas$seas==seas,i+2],stationlist$lat[i]+segwd,meandiffseas[meandiffseas$seas==seas,i+2]+sddiffseas[sddiffseas$seas==seas,i+2],col=cols[i])\n",
    "        points(stationlist$lat[i],meandiffseas[meandiffseas$seas==seas,i+2],pch=pchs[i],bg=bgs[i],col=cols[i],cex=1.5,lwd=2)\n",
    "\tif(any(!is.na(meandiffseas[meandiffseas$seas==seas,i+2]))) text(stationlist$lat[i],ylm[1],stationlist$sta[i],col=cols[i],srt=90,offset=0,adj=c(0,0.5))\n",
    "}\n",
    "labsel=stationlist$lab[stasel]; pchsel=pchs[stasel]; pchsel=pchsel[!duplicated(labsel)]; labsel=labsel[!duplicated(labsel)]\n",
    "legend('topleft',labsel,pch=pchsel,pt.bg='black',cex=1.0,col='gray30',ncol=2)\n",
    "if(any(stationlist$method=='underway')) legend('topright','Underway data points outlined in black',cex=0.75,bty='n')\n",
    "\n",
    "dev.off()\n",
    "\n",
    "} # loop on season\n",
    "\n",
    "\n",
    "# Plot composite seasonal cycle\n",
    "\n",
    "compflag=paste(tolower(substr(stationlist$station[stationlist$use==2],1,1)),collapse='')\n",
    "refflag='s'\n",
    "\n",
    "png(paste('so_station_composite_sf6diff_seascycle_',compflag,'-',refflag,'_',meanwin[1],'-',meanwin[2],'.png',sep=''),height=1200,width=1800,pointsize=30)\n",
    "par(mar=c(5,5,4,2)+0.1)\n",
    "\n",
    "plot(seq(0.5,11.5),alldiffsmonclim[c(7:12,1:6),3],type='n',xlim=c(0,12),ylim=ylm,main=expression(paste('Southern Ocean Climatological Monthly Mean ',SF[6])),ylab=expression(paste(Delta,SF[6],' (ppt)')),xlab='Month',cex.main=1.2,cex.lab=1.2,axes=F)\n",
    "box()\n",
    "axis(2,cex.axis=1.2)\n",
    "axis(1,at=c(0:12),labels=F,cex.axis=1.5)\n",
    "axis(1,seq(0.5,11.5),labels=c('J','A','S','O','N','D','J','F','M','A','M','J'),cex.axis=1.3,tick=F)\n",
    "mtext(paste(stationlist$station[refcol-2],' ',stationlist$lab[refcol-2],' ',stationlist$method[refcol-2],' Subtracted, ',meanwin[1],'-',meanwin[2],sep=''),3,0.3)\n",
    "abline(h=0)\n",
    "for(i in c(1:numsta)[stationlist$use==2]){\n",
    "        points(seq(0.5,11.5),alldiffsmonclim[c(7:12,1:6),i+1],type='b',pch=pchs[i],bg=bgs[i],col=cols[i],cex=1.5,lwd=2)\n",
    "}\n",
    "lines(seq(0.5,11.5),alldiffsmonclimcomp[c(7:12,1:6)],col='grey10',lwd=10)\n",
    "\n",
    "legend('topleft',names(alldiffsmonclim)[c(1:numsta)[stationlist$use==2]+1],col=cols[c(1:numsta)[stationlist$use==2]],pch=pchs[c(1:numsta)[stationlist$use==2]],pt.bg=bgs[c(1:numsta)[stationlist$use==2]],cex=0.75,pt.cex=0.75,lwd=2,ncol=3) # pt.lwd?\n",
    "\n",
    "dev.off()"
   ]
  },
  {
   "cell_type": "markdown",
   "id": "69f4dde7-52e8-49cc-9948-e25981503fb6",
   "metadata": {},
   "source": [
    "![](so_station_sf6diff_gradient_1998.9-2020.2_DJF.png)"
   ]
  },
  {
   "cell_type": "markdown",
   "id": "982d13bc-349b-4bdb-97b6-9801383143be",
   "metadata": {},
   "source": [
    "![](so_station_sf6diff_gradient_1998.9-2020.2_JJA.png)"
   ]
  },
  {
   "cell_type": "markdown",
   "id": "0c91977c-b84d-41a8-bc10-d5cf3b28af6a",
   "metadata": {},
   "source": [
    "![](so_station_composite_sf6diff_seascycle_hspdc-s_1998.9-2020.2.png)"
   ]
  },
  {
   "cell_type": "code",
   "execution_count": null,
   "id": "7f118dec-c40d-4db4-9401-6c512ba94d6c",
   "metadata": {},
   "outputs": [],
   "source": []
  }
 ],
 "metadata": {
  "kernelspec": {
   "display_name": "R [conda env:miniconda3-so-co2-R]",
   "language": "R",
   "name": "conda-env-miniconda3-so-co2-R-r"
  },
  "language_info": {
   "codemirror_mode": "r",
   "file_extension": ".r",
   "mimetype": "text/x-r-source",
   "name": "R",
   "pygments_lexer": "r",
   "version": "4.1.1"
  }
 },
 "nbformat": 4,
 "nbformat_minor": 5
}

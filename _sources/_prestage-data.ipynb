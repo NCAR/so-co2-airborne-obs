{
 "cells": [
  {
   "cell_type": "markdown",
   "metadata": {},
   "source": [
    "# Prestage model data\n",
    "\n",
    "This notebook downloads data from the [NCAR DASH repository](https://doi.org/10.5065/fepv-0z52) where the modeling data for this study has been archived {cite:p}`Long2021-ak` and also ensures that a dataset curated via [Intake](https://intake.readthedocs.io/en/latest/) is accessible—local caching of this dataset happen automatically behind the scenes.\n",
    "\n",
    "First, we demonstrate the various local storage locations used to support the calculation."
   ]
  },
  {
   "cell_type": "code",
   "execution_count": 10,
   "metadata": {},
   "outputs": [
    {
     "name": "stdout",
     "output_type": "stream",
     "text": [
      "The autoreload extension is already loaded. To reload it, use:\n",
      "  %reload_ext autoreload\n"
     ]
    }
   ],
   "source": [
    "%load_ext autoreload\n",
    "%autoreload 2"
   ]
  },
  {
   "cell_type": "code",
   "execution_count": 11,
   "metadata": {},
   "outputs": [],
   "source": [
    "import os\n",
    "from subprocess import Popen, PIPE\n",
    "import tarfile\n",
    "\n",
    "import xarray as xr\n",
    "xr.set_options(display_style='text')\n",
    "\n",
    "import config"
   ]
  },
  {
   "cell_type": "markdown",
   "metadata": {},
   "source": [
    "## Print storage locations"
   ]
  },
  {
   "cell_type": "code",
   "execution_count": 12,
   "metadata": {},
   "outputs": [
    {
     "data": {
      "text/plain": [
       "'/glade/work/mclong/so-co2-airborne-obs'"
      ]
     },
     "execution_count": 12,
     "metadata": {},
     "output_type": "execute_result"
    }
   ],
   "source": [
    "config.get(\"project_tmpdir\")"
   ]
  },
  {
   "cell_type": "code",
   "execution_count": 13,
   "metadata": {},
   "outputs": [
    {
     "data": {
      "text/plain": [
       "'/glade/work/mclong/so-co2-airborne-obs/obs-data'"
      ]
     },
     "execution_count": 13,
     "metadata": {},
     "output_type": "execute_result"
    }
   ],
   "source": [
    "config.get(\"project_tmpdir_obs\")"
   ]
  },
  {
   "cell_type": "code",
   "execution_count": 14,
   "metadata": {},
   "outputs": [
    {
     "data": {
      "text/plain": [
       "'/glade/work/mclong/so-co2-airborne-obs/model-data'"
      ]
     },
     "execution_count": 14,
     "metadata": {},
     "output_type": "execute_result"
    }
   ],
   "source": [
    "config.get(\"model_data_dir_root\")"
   ]
  },
  {
   "cell_type": "code",
   "execution_count": 15,
   "metadata": {},
   "outputs": [
    {
     "data": {
      "text/plain": [
       "'/glade/work/mclong/so-co2-airborne-obs/model-data/Long-etal-2021-SO-CO2-Science'"
      ]
     },
     "execution_count": 15,
     "metadata": {},
     "output_type": "execute_result"
    }
   ],
   "source": [
    "config.get(\"model_data_dir\")"
   ]
  },
  {
   "cell_type": "code",
   "execution_count": 16,
   "metadata": {},
   "outputs": [
    {
     "data": {
      "text/plain": [
       "'Long-etal-2021-SO-CO2-Science.tar.gz'"
      ]
     },
     "execution_count": 16,
     "metadata": {},
     "output_type": "execute_result"
    }
   ],
   "source": [
    "config.get(\"dash_asset_fname\")"
   ]
  },
  {
   "cell_type": "markdown",
   "metadata": {},
   "source": [
    "## Get data from DASH repo\n",
    "\n",
    "Use a DASH-NCAR provided `wget` script to download the modeling data in {cite:t}`Long2021-ak`. This won't work on machines that do not support `wget` (i.e., MacOS)."
   ]
  },
  {
   "cell_type": "code",
   "execution_count": 17,
   "metadata": {},
   "outputs": [
    {
     "data": {
      "text/plain": [
       "['TM5-Flux-mrf',\n",
       " 'TM5-Flux-m0f',\n",
       " 'CT2019B',\n",
       " 's99oc_SOCCOM_v2020',\n",
       " 's99oc_v2020',\n",
       " 's99oc_ADJocI40S_v2020',\n",
       " 'CAMSv20r1',\n",
       " 'CT2017',\n",
       " 'MIROC',\n",
       " 'README.md',\n",
       " 'CTE2018',\n",
       " 'TM5-Flux-mmf',\n",
       " 'TM5-Flux-mwf',\n",
       " 'CTE2020']"
      ]
     },
     "execution_count": 17,
     "metadata": {},
     "output_type": "execute_result"
    }
   ],
   "source": [
    "if not os.path.isdir(config.get(\"model_data_dir\")):\n",
    "    # run wget to stage data\n",
    "    # TODO: support curl too\n",
    "    cwd = os.getcwd()\n",
    "    script = f'{cwd}/wget-dash-archive.sh'\n",
    "\n",
    "    os.chdir(config.get(\"model_data_dir_root\"))\n",
    "\n",
    "    p = Popen(['bash', script], stdout=PIPE, stderr=PIPE)\n",
    "    stdout, stderr = p.communicate()\n",
    "    if p.returncode:    \n",
    "        print(stderr.decode('UTF-8'))\n",
    "        print(stdout.decode('UTF-8'))\n",
    "        raise OSError('data transfer failed')    \n",
    "\n",
    "    # untar archive\n",
    "    assert os.path.isfile(config.get(\"dash_asset_fname\")), f'missing {config.get(\"dash_asset_fname\")}'\n",
    "    tar = tarfile.open(config.get(\"dash_asset_fname\"), \"r:gz\")\n",
    "    tar.extractall()\n",
    "    tar.close()\n",
    "\n",
    "    os.chdir(cwd)\n",
    "\n",
    "os.listdir(config.get(\"model_data_dir\"))"
   ]
  },
  {
   "cell_type": "markdown",
   "metadata": {},
   "source": [
    "## Check on `intake` datasets\n",
    "\n",
    "The `models` sub-package includes an [Intake](https://intake.readthedocs.io/en/latest/) catalog file providing access to the CO<sub>2</sub> air-sea flux product of {cite:t}`Landschutzer2016-wg`. Here, we simply request that dataset; `intake` is configured to cache the dataset locally."
   ]
  },
  {
   "cell_type": "code",
   "execution_count": 18,
   "metadata": {},
   "outputs": [
    {
     "data": {
      "text/html": [
       "<pre>&lt;xarray.Dataset&gt;\n",
       "Dimensions:             (time: 432, lat: 180, lon: 360, d2: 2, bnds: 2)\n",
       "Coordinates:\n",
       "  * time                (time) datetime64[ns] 1982-01-15T12:00:00 ... 2017-12...\n",
       "  * lat                 (lat) float32 -89.5 -88.5 -87.5 -86.5 ... 87.5 88.5 89.5\n",
       "  * lon                 (lon) float32 -179.5 -178.5 -177.5 ... 177.5 178.5 179.5\n",
       "Dimensions without coordinates: d2, bnds\n",
       "Data variables: (12/15)\n",
       "    spco2_raw           (time, lat, lon) float32 nan nan nan nan ... nan nan nan\n",
       "    SFCO2_OCN           (time, lat, lon) float32 nan nan nan nan ... nan nan nan\n",
       "    spco2_smoothed      (time, lat, lon) float32 nan nan nan nan ... nan nan nan\n",
       "    SFCO2_OCN_smoothed  (time, lat, lon) float32 nan nan nan nan ... nan nan nan\n",
       "    sol                 (time, lat, lon) float32 nan nan nan nan ... nan nan nan\n",
       "    kw                  (time, lat, lon) float32 nan nan nan nan ... nan nan nan\n",
       "    ...                  ...\n",
       "    dco2_smoothed       (time, lat, lon) float32 nan nan nan nan ... nan nan nan\n",
       "    seamask             (lat, lon) int32 0 0 0 0 0 0 0 0 0 ... 0 0 0 0 0 0 0 0 0\n",
       "    time_bnds           (time, d2) datetime64[ns] 1981-12-31 ... 2017-12-31\n",
       "    lat_bnds            (lat, bnds) float32 -90.0 -89.0 -89.0 ... 89.0 89.0 90.0\n",
       "    lon_bnds            (lon, bnds) float32 -180.0 -179.0 -179.0 ... 179.0 180.0\n",
       "    area                (lat, lon) float64 1.079e+08 1.079e+08 ... 1.079e+08\n",
       "Attributes:\n",
       "    institution:    MPI-MET, Hamburg, Germany (former: ETH Zurich, Switzerland)\n",
       "    institude_id:   MPI\n",
       "    model_id:       SOM-FFN\n",
       "    run_id:         v2018\n",
       "    contact:        Peter Landschutzer (peter.landschuetzer@mpimet.mpg.de)\n",
       "    creation_date:  2019-03-21</pre>"
      ],
      "text/plain": [
       "<xarray.Dataset>\n",
       "Dimensions:             (time: 432, lat: 180, lon: 360, d2: 2, bnds: 2)\n",
       "Coordinates:\n",
       "  * time                (time) datetime64[ns] 1982-01-15T12:00:00 ... 2017-12...\n",
       "  * lat                 (lat) float32 -89.5 -88.5 -87.5 -86.5 ... 87.5 88.5 89.5\n",
       "  * lon                 (lon) float32 -179.5 -178.5 -177.5 ... 177.5 178.5 179.5\n",
       "Dimensions without coordinates: d2, bnds\n",
       "Data variables: (12/15)\n",
       "    spco2_raw           (time, lat, lon) float32 nan nan nan nan ... nan nan nan\n",
       "    SFCO2_OCN           (time, lat, lon) float32 nan nan nan nan ... nan nan nan\n",
       "    spco2_smoothed      (time, lat, lon) float32 nan nan nan nan ... nan nan nan\n",
       "    SFCO2_OCN_smoothed  (time, lat, lon) float32 nan nan nan nan ... nan nan nan\n",
       "    sol                 (time, lat, lon) float32 nan nan nan nan ... nan nan nan\n",
       "    kw                  (time, lat, lon) float32 nan nan nan nan ... nan nan nan\n",
       "    ...                  ...\n",
       "    dco2_smoothed       (time, lat, lon) float32 nan nan nan nan ... nan nan nan\n",
       "    seamask             (lat, lon) int32 0 0 0 0 0 0 0 0 0 ... 0 0 0 0 0 0 0 0 0\n",
       "    time_bnds           (time, d2) datetime64[ns] 1981-12-31 ... 2017-12-31\n",
       "    lat_bnds            (lat, bnds) float32 -90.0 -89.0 -89.0 ... 89.0 89.0 90.0\n",
       "    lon_bnds            (lon, bnds) float32 -180.0 -179.0 -179.0 ... 179.0 180.0\n",
       "    area                (lat, lon) float64 1.079e+08 1.079e+08 ... 1.079e+08\n",
       "Attributes:\n",
       "    institution:    MPI-MET, Hamburg, Germany (former: ETH Zurich, Switzerland)\n",
       "    institude_id:   MPI\n",
       "    model_id:       SOM-FFN\n",
       "    run_id:         v2018\n",
       "    contact:        Peter Landschutzer (peter.landschuetzer@mpimet.mpg.de)\n",
       "    creation_date:  2019-03-21"
      ]
     },
     "execution_count": 18,
     "metadata": {},
     "output_type": "execute_result"
    }
   ],
   "source": [
    "import models\n",
    "\n",
    "ds = models.dataset_som_ffn.open_dataset()\n",
    "ds"
   ]
  },
  {
   "cell_type": "code",
   "execution_count": null,
   "metadata": {},
   "outputs": [],
   "source": []
  }
 ],
 "metadata": {
  "kernelspec": {
   "display_name": "Python [conda env:so-co2]",
   "language": "python",
   "name": "conda-env-so-co2-py"
  },
  "language_info": {
   "codemirror_mode": {
    "name": "ipython",
    "version": 3
   },
   "file_extension": ".py",
   "mimetype": "text/x-python",
   "name": "python",
   "nbconvert_exporter": "python",
   "pygments_lexer": "ipython3",
   "version": "3.7.11"
  }
 },
 "nbformat": 4,
 "nbformat_minor": 5
}
